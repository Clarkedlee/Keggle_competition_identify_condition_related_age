{
 "cells": [
  {
   "cell_type": "markdown",
   "id": "f52cab05",
   "metadata": {
    "papermill": {
     "duration": 0.025293,
     "end_time": "2023-08-14T09:34:21.721341",
     "exception": false,
     "start_time": "2023-08-14T09:34:21.696048",
     "status": "completed"
    },
    "tags": []
   },
   "source": [
    "# ICR - Identifying Age-Related Conditions Dataset with TensorFlow Decision Forests"
   ]
  },
  {
   "cell_type": "markdown",
   "id": "1b83d812",
   "metadata": {
    "papermill": {
     "duration": 0.026177,
     "end_time": "2023-08-14T09:34:21.772594",
     "exception": false,
     "start_time": "2023-08-14T09:34:21.746417",
     "status": "completed"
    },
    "tags": []
   },
   "source": [
    "This notebook walks you through how to train a baseline Random Forest model using TensorFlow Decision Forests on the ICR - Identifying Age-Related Conditions dataset made available for this competition. The goal of the model is to predict if a person has one or more of any of three medical conditions or none.\n",
    "\n",
    "Roughly, the code will look as follows:\n",
    "\n",
    "```\n",
    "import tensorflow_decision_forests as tfdf\n",
    "import pandas as pd\n",
    "\n",
    "dataset = pd.read_csv(\"project/dataset.csv\")\n",
    "tf_dataset = tfdf.keras.pd_dataframe_to_tf_dataset(dataset, label=\"my_label\")\n",
    "\n",
    "model = tfdf.keras.RandomForestModel()\n",
    "model.fit(tf_dataset)\n",
    "\n",
    "print(model.summary())\n",
    "```\n",
    "\n",
    "Decision Forests are a family of tree-based models including Random Forests and Gradient Boosted Trees. They are the best place to start when working with tabular data, and will often outperform (or provide a strong baseline) before you begin experimenting with neural networks."
   ]
  },
  {
   "cell_type": "markdown",
   "id": "49b5821a",
   "metadata": {
    "papermill": {
     "duration": 0.024186,
     "end_time": "2023-08-14T09:34:21.822029",
     "exception": false,
     "start_time": "2023-08-14T09:34:21.797843",
     "status": "completed"
    },
    "tags": []
   },
   "source": [
    "# Import the libraries"
   ]
  },
  {
   "cell_type": "code",
   "execution_count": 1,
   "id": "6484ccc3",
   "metadata": {
    "execution": {
     "iopub.execute_input": "2023-08-14T09:34:21.874520Z",
     "iopub.status.busy": "2023-08-14T09:34:21.873370Z",
     "iopub.status.idle": "2023-08-14T09:34:35.181361Z",
     "shell.execute_reply": "2023-08-14T09:34:35.180064Z"
    },
    "papermill": {
     "duration": 13.338545,
     "end_time": "2023-08-14T09:34:35.184442",
     "exception": false,
     "start_time": "2023-08-14T09:34:21.845897",
     "status": "completed"
    },
    "tags": []
   },
   "outputs": [
    {
     "name": "stderr",
     "output_type": "stream",
     "text": [
      "/opt/conda/lib/python3.10/site-packages/tensorflow_io/python/ops/__init__.py:98: UserWarning: unable to load libtensorflow_io_plugins.so: unable to open file: libtensorflow_io_plugins.so, from paths: ['/opt/conda/lib/python3.10/site-packages/tensorflow_io/python/ops/libtensorflow_io_plugins.so']\n",
      "caused by: ['/opt/conda/lib/python3.10/site-packages/tensorflow_io/python/ops/libtensorflow_io_plugins.so: undefined symbol: _ZN3tsl6StatusC1EN10tensorflow5error4CodeESt17basic_string_viewIcSt11char_traitsIcEENS_14SourceLocationE']\n",
      "  warnings.warn(f\"unable to load libtensorflow_io_plugins.so: {e}\")\n",
      "/opt/conda/lib/python3.10/site-packages/tensorflow_io/python/ops/__init__.py:104: UserWarning: file system plugins are not loaded: unable to open file: libtensorflow_io.so, from paths: ['/opt/conda/lib/python3.10/site-packages/tensorflow_io/python/ops/libtensorflow_io.so']\n",
      "caused by: ['/opt/conda/lib/python3.10/site-packages/tensorflow_io/python/ops/libtensorflow_io.so: undefined symbol: _ZTVN10tensorflow13GcsFileSystemE']\n",
      "  warnings.warn(f\"file system plugins are not loaded: {e}\")\n"
     ]
    }
   ],
   "source": [
    "import tensorflow as tf\n",
    "import tensorflow_decision_forests as tfdf\n",
    "import pandas as pd\n",
    "import numpy as np\n",
    "import seaborn as sns\n",
    "import matplotlib.pyplot as plt\n",
    "\n",
    "# from sklearn.model_selection import KFold\n",
    "from sklearn.model_selection import(\n",
    "    KFold,\n",
    "    GroupKFold,\n",
    "    train_test_split,\n",
    "    TimeSeriesSplit,\n",
    "    StratifiedKFold,\n",
    "    StratifiedGroupKFold,\n",
    ")\n",
    "\n",
    "#Support Vector Machine components template\n",
    "from sklearn.pipeline import make_pipeline\n",
    "from sklearn.preprocessing import StandardScaler\n",
    "from sklearn.svm import SVC, NuSVC\n",
    "from sklearn.metrics import confusion_matrix, accuracy_score "
   ]
  },
  {
   "cell_type": "code",
   "execution_count": 2,
   "id": "e6e19932",
   "metadata": {
    "execution": {
     "iopub.execute_input": "2023-08-14T09:34:35.236042Z",
     "iopub.status.busy": "2023-08-14T09:34:35.234460Z",
     "iopub.status.idle": "2023-08-14T09:34:35.242120Z",
     "shell.execute_reply": "2023-08-14T09:34:35.240553Z"
    },
    "papermill": {
     "duration": 0.035954,
     "end_time": "2023-08-14T09:34:35.244844",
     "exception": false,
     "start_time": "2023-08-14T09:34:35.208890",
     "status": "completed"
    },
    "tags": []
   },
   "outputs": [
    {
     "name": "stdout",
     "output_type": "stream",
     "text": [
      "TensorFlow v2.12.0\n",
      "TensorFlow Decision Forests v1.3.0\n"
     ]
    }
   ],
   "source": [
    "print(\"TensorFlow v\" + tf.__version__)\n",
    "print(\"TensorFlow Decision Forests v\" + tfdf.__version__)"
   ]
  },
  {
   "cell_type": "markdown",
   "id": "79112469",
   "metadata": {
    "papermill": {
     "duration": 0.023726,
     "end_time": "2023-08-14T09:34:35.292775",
     "exception": false,
     "start_time": "2023-08-14T09:34:35.269049",
     "status": "completed"
    },
    "tags": []
   },
   "source": [
    "# Load the Dataset"
   ]
  },
  {
   "cell_type": "code",
   "execution_count": 3,
   "id": "5307358c",
   "metadata": {
    "execution": {
     "iopub.execute_input": "2023-08-14T09:34:35.343630Z",
     "iopub.status.busy": "2023-08-14T09:34:35.343187Z",
     "iopub.status.idle": "2023-08-14T09:34:35.348233Z",
     "shell.execute_reply": "2023-08-14T09:34:35.346798Z"
    },
    "papermill": {
     "duration": 0.034104,
     "end_time": "2023-08-14T09:34:35.351102",
     "exception": false,
     "start_time": "2023-08-14T09:34:35.316998",
     "status": "completed"
    },
    "tags": []
   },
   "outputs": [],
   "source": [
    "# dataset_df = pd.read_csv('/kaggle/input/icr-identify-age-related-conditions/train.csv')\n",
    "# print(\"Full train dataset shape is {}\".format(dataset_df.shape))"
   ]
  },
  {
   "cell_type": "code",
   "execution_count": 4,
   "id": "edabee0d",
   "metadata": {
    "execution": {
     "iopub.execute_input": "2023-08-14T09:34:35.402767Z",
     "iopub.status.busy": "2023-08-14T09:34:35.402301Z",
     "iopub.status.idle": "2023-08-14T09:34:35.512323Z",
     "shell.execute_reply": "2023-08-14T09:34:35.510921Z"
    },
    "papermill": {
     "duration": 0.139739,
     "end_time": "2023-08-14T09:34:35.515612",
     "exception": false,
     "start_time": "2023-08-14T09:34:35.375873",
     "status": "completed"
    },
    "tags": []
   },
   "outputs": [
    {
     "data": {
      "text/html": [
       "<div>\n",
       "<style scoped>\n",
       "    .dataframe tbody tr th:only-of-type {\n",
       "        vertical-align: middle;\n",
       "    }\n",
       "\n",
       "    .dataframe tbody tr th {\n",
       "        vertical-align: top;\n",
       "    }\n",
       "\n",
       "    .dataframe thead th {\n",
       "        text-align: right;\n",
       "    }\n",
       "</style>\n",
       "<table border=\"1\" class=\"dataframe\">\n",
       "  <thead>\n",
       "    <tr style=\"text-align: right;\">\n",
       "      <th></th>\n",
       "      <th>Id</th>\n",
       "      <th>AB</th>\n",
       "      <th>AF</th>\n",
       "      <th>AH</th>\n",
       "      <th>AM</th>\n",
       "      <th>AR</th>\n",
       "      <th>AX</th>\n",
       "      <th>AY</th>\n",
       "      <th>AZ</th>\n",
       "      <th>BC</th>\n",
       "      <th>...</th>\n",
       "      <th>FS</th>\n",
       "      <th>GB</th>\n",
       "      <th>GE</th>\n",
       "      <th>GF</th>\n",
       "      <th>GH</th>\n",
       "      <th>GI</th>\n",
       "      <th>GL</th>\n",
       "      <th>Class</th>\n",
       "      <th>A</th>\n",
       "      <th>B</th>\n",
       "    </tr>\n",
       "  </thead>\n",
       "  <tbody>\n",
       "    <tr>\n",
       "      <th>0</th>\n",
       "      <td>000ff2bfdfe9</td>\n",
       "      <td>0.209377</td>\n",
       "      <td>3109.03329</td>\n",
       "      <td>85.200147</td>\n",
       "      <td>22.394407</td>\n",
       "      <td>8.138688</td>\n",
       "      <td>0.699861</td>\n",
       "      <td>0.025578</td>\n",
       "      <td>9.812214</td>\n",
       "      <td>5.555634</td>\n",
       "      <td>...</td>\n",
       "      <td>0.094822</td>\n",
       "      <td>11.339138</td>\n",
       "      <td>72.611063</td>\n",
       "      <td>2003.810319</td>\n",
       "      <td>22.136229</td>\n",
       "      <td>69.834944</td>\n",
       "      <td>0.120343</td>\n",
       "      <td>1</td>\n",
       "      <td>0.0</td>\n",
       "      <td>1.0</td>\n",
       "    </tr>\n",
       "    <tr>\n",
       "      <th>1</th>\n",
       "      <td>007255e47698</td>\n",
       "      <td>0.145282</td>\n",
       "      <td>978.76416</td>\n",
       "      <td>85.200147</td>\n",
       "      <td>36.968889</td>\n",
       "      <td>8.138688</td>\n",
       "      <td>3.632190</td>\n",
       "      <td>0.025578</td>\n",
       "      <td>13.517790</td>\n",
       "      <td>1.229900</td>\n",
       "      <td>...</td>\n",
       "      <td>0.568932</td>\n",
       "      <td>9.292698</td>\n",
       "      <td>72.611063</td>\n",
       "      <td>27981.562750</td>\n",
       "      <td>29.135430</td>\n",
       "      <td>32.131996</td>\n",
       "      <td>21.978000</td>\n",
       "      <td>0</td>\n",
       "      <td>1.0</td>\n",
       "      <td>0.0</td>\n",
       "    </tr>\n",
       "    <tr>\n",
       "      <th>2</th>\n",
       "      <td>013f2bd269f5</td>\n",
       "      <td>0.470030</td>\n",
       "      <td>2635.10654</td>\n",
       "      <td>85.200147</td>\n",
       "      <td>32.360553</td>\n",
       "      <td>8.138688</td>\n",
       "      <td>6.732840</td>\n",
       "      <td>0.025578</td>\n",
       "      <td>12.824570</td>\n",
       "      <td>1.229900</td>\n",
       "      <td>...</td>\n",
       "      <td>1.198821</td>\n",
       "      <td>37.077772</td>\n",
       "      <td>88.609437</td>\n",
       "      <td>13676.957810</td>\n",
       "      <td>28.022851</td>\n",
       "      <td>35.192676</td>\n",
       "      <td>0.196941</td>\n",
       "      <td>0</td>\n",
       "      <td>0.0</td>\n",
       "      <td>1.0</td>\n",
       "    </tr>\n",
       "    <tr>\n",
       "      <th>3</th>\n",
       "      <td>043ac50845d5</td>\n",
       "      <td>0.252107</td>\n",
       "      <td>3819.65177</td>\n",
       "      <td>120.201618</td>\n",
       "      <td>77.112203</td>\n",
       "      <td>8.138688</td>\n",
       "      <td>3.685344</td>\n",
       "      <td>0.025578</td>\n",
       "      <td>11.053708</td>\n",
       "      <td>1.229900</td>\n",
       "      <td>...</td>\n",
       "      <td>0.284466</td>\n",
       "      <td>18.529584</td>\n",
       "      <td>82.416803</td>\n",
       "      <td>2094.262452</td>\n",
       "      <td>39.948656</td>\n",
       "      <td>90.493248</td>\n",
       "      <td>0.155829</td>\n",
       "      <td>0</td>\n",
       "      <td>0.0</td>\n",
       "      <td>1.0</td>\n",
       "    </tr>\n",
       "    <tr>\n",
       "      <th>4</th>\n",
       "      <td>044fb8a146ec</td>\n",
       "      <td>0.380297</td>\n",
       "      <td>3733.04844</td>\n",
       "      <td>85.200147</td>\n",
       "      <td>14.103738</td>\n",
       "      <td>8.138688</td>\n",
       "      <td>3.942255</td>\n",
       "      <td>0.054810</td>\n",
       "      <td>3.396778</td>\n",
       "      <td>102.151980</td>\n",
       "      <td>...</td>\n",
       "      <td>0.121914</td>\n",
       "      <td>16.408728</td>\n",
       "      <td>146.109943</td>\n",
       "      <td>8524.370502</td>\n",
       "      <td>45.381316</td>\n",
       "      <td>36.262628</td>\n",
       "      <td>0.096614</td>\n",
       "      <td>1</td>\n",
       "      <td>0.0</td>\n",
       "      <td>1.0</td>\n",
       "    </tr>\n",
       "    <tr>\n",
       "      <th>...</th>\n",
       "      <td>...</td>\n",
       "      <td>...</td>\n",
       "      <td>...</td>\n",
       "      <td>...</td>\n",
       "      <td>...</td>\n",
       "      <td>...</td>\n",
       "      <td>...</td>\n",
       "      <td>...</td>\n",
       "      <td>...</td>\n",
       "      <td>...</td>\n",
       "      <td>...</td>\n",
       "      <td>...</td>\n",
       "      <td>...</td>\n",
       "      <td>...</td>\n",
       "      <td>...</td>\n",
       "      <td>...</td>\n",
       "      <td>...</td>\n",
       "      <td>...</td>\n",
       "      <td>...</td>\n",
       "      <td>...</td>\n",
       "      <td>...</td>\n",
       "    </tr>\n",
       "    <tr>\n",
       "      <th>612</th>\n",
       "      <td>fd3dafe738fd</td>\n",
       "      <td>0.149555</td>\n",
       "      <td>3130.05946</td>\n",
       "      <td>123.763599</td>\n",
       "      <td>9.513984</td>\n",
       "      <td>13.020852</td>\n",
       "      <td>3.499305</td>\n",
       "      <td>0.077343</td>\n",
       "      <td>8.545512</td>\n",
       "      <td>2.804172</td>\n",
       "      <td>...</td>\n",
       "      <td>0.067730</td>\n",
       "      <td>8.967128</td>\n",
       "      <td>217.148554</td>\n",
       "      <td>8095.932828</td>\n",
       "      <td>24.640462</td>\n",
       "      <td>69.191944</td>\n",
       "      <td>21.978000</td>\n",
       "      <td>0</td>\n",
       "      <td>1.0</td>\n",
       "      <td>0.0</td>\n",
       "    </tr>\n",
       "    <tr>\n",
       "      <th>613</th>\n",
       "      <td>fd895603f071</td>\n",
       "      <td>0.435846</td>\n",
       "      <td>5462.03438</td>\n",
       "      <td>85.200147</td>\n",
       "      <td>46.551007</td>\n",
       "      <td>15.973224</td>\n",
       "      <td>5.979825</td>\n",
       "      <td>0.025882</td>\n",
       "      <td>12.622906</td>\n",
       "      <td>3.777550</td>\n",
       "      <td>...</td>\n",
       "      <td>0.426699</td>\n",
       "      <td>35.896418</td>\n",
       "      <td>496.994214</td>\n",
       "      <td>3085.308063</td>\n",
       "      <td>29.648928</td>\n",
       "      <td>124.808872</td>\n",
       "      <td>0.145340</td>\n",
       "      <td>0</td>\n",
       "      <td>0.0</td>\n",
       "      <td>1.0</td>\n",
       "    </tr>\n",
       "    <tr>\n",
       "      <th>614</th>\n",
       "      <td>fd8ef6377f76</td>\n",
       "      <td>0.427300</td>\n",
       "      <td>2459.10720</td>\n",
       "      <td>130.138587</td>\n",
       "      <td>55.355778</td>\n",
       "      <td>10.005552</td>\n",
       "      <td>8.070549</td>\n",
       "      <td>0.025578</td>\n",
       "      <td>15.408390</td>\n",
       "      <td>1.229900</td>\n",
       "      <td>...</td>\n",
       "      <td>0.067730</td>\n",
       "      <td>19.962092</td>\n",
       "      <td>128.896894</td>\n",
       "      <td>6474.652866</td>\n",
       "      <td>26.166072</td>\n",
       "      <td>119.559420</td>\n",
       "      <td>21.978000</td>\n",
       "      <td>0</td>\n",
       "      <td>1.0</td>\n",
       "      <td>0.0</td>\n",
       "    </tr>\n",
       "    <tr>\n",
       "      <th>615</th>\n",
       "      <td>fe1942975e40</td>\n",
       "      <td>0.363205</td>\n",
       "      <td>1263.53524</td>\n",
       "      <td>85.200147</td>\n",
       "      <td>23.685856</td>\n",
       "      <td>8.138688</td>\n",
       "      <td>7.981959</td>\n",
       "      <td>0.025578</td>\n",
       "      <td>7.524588</td>\n",
       "      <td>1.229900</td>\n",
       "      <td>...</td>\n",
       "      <td>0.670527</td>\n",
       "      <td>24.594488</td>\n",
       "      <td>72.611063</td>\n",
       "      <td>1965.343176</td>\n",
       "      <td>25.116750</td>\n",
       "      <td>37.155112</td>\n",
       "      <td>0.184622</td>\n",
       "      <td>0</td>\n",
       "      <td>0.0</td>\n",
       "      <td>1.0</td>\n",
       "    </tr>\n",
       "    <tr>\n",
       "      <th>616</th>\n",
       "      <td>ffcca4ded3bb</td>\n",
       "      <td>0.482849</td>\n",
       "      <td>2672.53426</td>\n",
       "      <td>546.663930</td>\n",
       "      <td>112.006102</td>\n",
       "      <td>8.138688</td>\n",
       "      <td>3.198099</td>\n",
       "      <td>0.116928</td>\n",
       "      <td>3.396778</td>\n",
       "      <td>7.948668</td>\n",
       "      <td>...</td>\n",
       "      <td>0.149006</td>\n",
       "      <td>13.673940</td>\n",
       "      <td>72.611063</td>\n",
       "      <td>6850.484442</td>\n",
       "      <td>45.745974</td>\n",
       "      <td>114.842372</td>\n",
       "      <td>21.978000</td>\n",
       "      <td>0</td>\n",
       "      <td>1.0</td>\n",
       "      <td>0.0</td>\n",
       "    </tr>\n",
       "  </tbody>\n",
       "</table>\n",
       "<p>617 rows × 59 columns</p>\n",
       "</div>"
      ],
      "text/plain": [
       "               Id        AB          AF          AH          AM         AR  \\\n",
       "0    000ff2bfdfe9  0.209377  3109.03329   85.200147   22.394407   8.138688   \n",
       "1    007255e47698  0.145282   978.76416   85.200147   36.968889   8.138688   \n",
       "2    013f2bd269f5  0.470030  2635.10654   85.200147   32.360553   8.138688   \n",
       "3    043ac50845d5  0.252107  3819.65177  120.201618   77.112203   8.138688   \n",
       "4    044fb8a146ec  0.380297  3733.04844   85.200147   14.103738   8.138688   \n",
       "..            ...       ...         ...         ...         ...        ...   \n",
       "612  fd3dafe738fd  0.149555  3130.05946  123.763599    9.513984  13.020852   \n",
       "613  fd895603f071  0.435846  5462.03438   85.200147   46.551007  15.973224   \n",
       "614  fd8ef6377f76  0.427300  2459.10720  130.138587   55.355778  10.005552   \n",
       "615  fe1942975e40  0.363205  1263.53524   85.200147   23.685856   8.138688   \n",
       "616  ffcca4ded3bb  0.482849  2672.53426  546.663930  112.006102   8.138688   \n",
       "\n",
       "           AX        AY         AZ          BC  ...        FS         GB  \\\n",
       "0    0.699861  0.025578   9.812214    5.555634  ...  0.094822  11.339138   \n",
       "1    3.632190  0.025578  13.517790    1.229900  ...  0.568932   9.292698   \n",
       "2    6.732840  0.025578  12.824570    1.229900  ...  1.198821  37.077772   \n",
       "3    3.685344  0.025578  11.053708    1.229900  ...  0.284466  18.529584   \n",
       "4    3.942255  0.054810   3.396778  102.151980  ...  0.121914  16.408728   \n",
       "..        ...       ...        ...         ...  ...       ...        ...   \n",
       "612  3.499305  0.077343   8.545512    2.804172  ...  0.067730   8.967128   \n",
       "613  5.979825  0.025882  12.622906    3.777550  ...  0.426699  35.896418   \n",
       "614  8.070549  0.025578  15.408390    1.229900  ...  0.067730  19.962092   \n",
       "615  7.981959  0.025578   7.524588    1.229900  ...  0.670527  24.594488   \n",
       "616  3.198099  0.116928   3.396778    7.948668  ...  0.149006  13.673940   \n",
       "\n",
       "             GE            GF         GH          GI         GL  Class    A  \\\n",
       "0     72.611063   2003.810319  22.136229   69.834944   0.120343      1  0.0   \n",
       "1     72.611063  27981.562750  29.135430   32.131996  21.978000      0  1.0   \n",
       "2     88.609437  13676.957810  28.022851   35.192676   0.196941      0  0.0   \n",
       "3     82.416803   2094.262452  39.948656   90.493248   0.155829      0  0.0   \n",
       "4    146.109943   8524.370502  45.381316   36.262628   0.096614      1  0.0   \n",
       "..          ...           ...        ...         ...        ...    ...  ...   \n",
       "612  217.148554   8095.932828  24.640462   69.191944  21.978000      0  1.0   \n",
       "613  496.994214   3085.308063  29.648928  124.808872   0.145340      0  0.0   \n",
       "614  128.896894   6474.652866  26.166072  119.559420  21.978000      0  1.0   \n",
       "615   72.611063   1965.343176  25.116750   37.155112   0.184622      0  0.0   \n",
       "616   72.611063   6850.484442  45.745974  114.842372  21.978000      0  1.0   \n",
       "\n",
       "       B  \n",
       "0    1.0  \n",
       "1    0.0  \n",
       "2    1.0  \n",
       "3    1.0  \n",
       "4    1.0  \n",
       "..   ...  \n",
       "612  0.0  \n",
       "613  1.0  \n",
       "614  0.0  \n",
       "615  1.0  \n",
       "616  0.0  \n",
       "\n",
       "[617 rows x 59 columns]"
      ]
     },
     "execution_count": 4,
     "metadata": {},
     "output_type": "execute_result"
    }
   ],
   "source": [
    "dataset_df = pd.read_csv('/kaggle/input/icr-identify-age-related-conditions/train.csv')\n",
    "# test_ds_pd = test_df\n",
    "\n",
    "#Get one hot program for column EJ\n",
    "column_EJ = pd.get_dummies(dataset_df.EJ,dtype = \"float64\")\n",
    "\n",
    "# The the length of the test data set.\n",
    "column_length = len(column_EJ) \n",
    "\n",
    "#drop unwant column EJ after one hot coding\n",
    "dataset_df = dataset_df.drop(\"EJ\",axis = 1)\n",
    "dataset_df = dataset_df.join(column_EJ)\n",
    "\n",
    "# if the original EJ only have column A, inject a dummy B\n",
    "if \"B\" not in column_EJ.columns :\n",
    "#     dataset_df = dataset_df.join(column_EJ)\n",
    "    #Creat a Dummy column for the integrity of the dataset.\n",
    "    B_column = np.zeros(column_length).astype(float).tolist()\n",
    "    dataset_df['B'] = B_column\n",
    "\n",
    "# if the original EJ only have column A, inject a dummy B\n",
    "elif \"A\" not in column_EJ.columns :\n",
    "#     dataset_df = dataset_df.join(column_EJ)\n",
    "    A_column = np.zeros(column_length).astype(float).tolist()\n",
    "    dataset_df['A'] = A_column\n",
    "dataset_df\n",
    "\n",
    "\n",
    "\n",
    "\n"
   ]
  },
  {
   "cell_type": "markdown",
   "id": "005a4d70",
   "metadata": {
    "papermill": {
     "duration": 0.024385,
     "end_time": "2023-08-14T09:34:35.566667",
     "exception": false,
     "start_time": "2023-08-14T09:34:35.542282",
     "status": "completed"
    },
    "tags": []
   },
   "source": [
    "The data is composed of 58 columns and 617 entries. We can see all 58 dimensions(results will be truncated since the number of columns is big) of our dataset by printing out the first 5 entries using the following code:"
   ]
  },
  {
   "cell_type": "code",
   "execution_count": 5,
   "id": "5cabf4ca",
   "metadata": {
    "execution": {
     "iopub.execute_input": "2023-08-14T09:34:35.619514Z",
     "iopub.status.busy": "2023-08-14T09:34:35.619107Z",
     "iopub.status.idle": "2023-08-14T09:34:35.644467Z",
     "shell.execute_reply": "2023-08-14T09:34:35.643160Z"
    },
    "papermill": {
     "duration": 0.056408,
     "end_time": "2023-08-14T09:34:35.647652",
     "exception": false,
     "start_time": "2023-08-14T09:34:35.591244",
     "status": "completed"
    },
    "tags": []
   },
   "outputs": [
    {
     "name": "stdout",
     "output_type": "stream",
     "text": [
      "<class 'pandas.core.frame.DataFrame'>\n",
      "RangeIndex: 617 entries, 0 to 616\n",
      "Data columns (total 59 columns):\n",
      " #   Column  Non-Null Count  Dtype  \n",
      "---  ------  --------------  -----  \n",
      " 0   Id      617 non-null    object \n",
      " 1   AB      617 non-null    float64\n",
      " 2   AF      617 non-null    float64\n",
      " 3   AH      617 non-null    float64\n",
      " 4   AM      617 non-null    float64\n",
      " 5   AR      617 non-null    float64\n",
      " 6   AX      617 non-null    float64\n",
      " 7   AY      617 non-null    float64\n",
      " 8   AZ      617 non-null    float64\n",
      " 9   BC      617 non-null    float64\n",
      " 10  BD      617 non-null    float64\n",
      " 11  BN      617 non-null    float64\n",
      " 12  BP      617 non-null    float64\n",
      " 13  BQ      557 non-null    float64\n",
      " 14  BR      617 non-null    float64\n",
      " 15  BZ      617 non-null    float64\n",
      " 16  CB      615 non-null    float64\n",
      " 17  CC      614 non-null    float64\n",
      " 18  CD      617 non-null    float64\n",
      " 19  CF      617 non-null    float64\n",
      " 20  CH      617 non-null    float64\n",
      " 21  CL      617 non-null    float64\n",
      " 22  CR      617 non-null    float64\n",
      " 23  CS      617 non-null    float64\n",
      " 24  CU      617 non-null    float64\n",
      " 25  CW      617 non-null    float64\n",
      " 26  DA      617 non-null    float64\n",
      " 27  DE      617 non-null    float64\n",
      " 28  DF      617 non-null    float64\n",
      " 29  DH      617 non-null    float64\n",
      " 30  DI      617 non-null    float64\n",
      " 31  DL      617 non-null    float64\n",
      " 32  DN      617 non-null    float64\n",
      " 33  DU      616 non-null    float64\n",
      " 34  DV      617 non-null    float64\n",
      " 35  DY      617 non-null    float64\n",
      " 36  EB      617 non-null    float64\n",
      " 37  EE      617 non-null    float64\n",
      " 38  EG      617 non-null    float64\n",
      " 39  EH      617 non-null    float64\n",
      " 40  EL      557 non-null    float64\n",
      " 41  EP      617 non-null    float64\n",
      " 42  EU      617 non-null    float64\n",
      " 43  FC      616 non-null    float64\n",
      " 44  FD      617 non-null    float64\n",
      " 45  FE      617 non-null    float64\n",
      " 46  FI      617 non-null    float64\n",
      " 47  FL      616 non-null    float64\n",
      " 48  FR      617 non-null    float64\n",
      " 49  FS      615 non-null    float64\n",
      " 50  GB      617 non-null    float64\n",
      " 51  GE      617 non-null    float64\n",
      " 52  GF      617 non-null    float64\n",
      " 53  GH      617 non-null    float64\n",
      " 54  GI      617 non-null    float64\n",
      " 55  GL      616 non-null    float64\n",
      " 56  Class   617 non-null    int64  \n",
      " 57  A       617 non-null    float64\n",
      " 58  B       617 non-null    float64\n",
      "dtypes: float64(57), int64(1), object(1)\n",
      "memory usage: 284.5+ KB\n"
     ]
    }
   ],
   "source": [
    "dataset_df.info()"
   ]
  },
  {
   "cell_type": "markdown",
   "id": "8f00f204",
   "metadata": {
    "papermill": {
     "duration": 0.024639,
     "end_time": "2023-08-14T09:34:35.697619",
     "exception": false,
     "start_time": "2023-08-14T09:34:35.672980",
     "status": "completed"
    },
    "tags": []
   },
   "source": [
    "`Class` is the label column indicating if a person has one or more of any of the three medical conditions (i.e,`Class 1`), or none of the three medical conditions (i.e,`Class 0`).\n",
    "Given the features of the dataset, the goal of our model is to predict the value of `Class` for any person."
   ]
  },
  {
   "cell_type": "code",
   "execution_count": 6,
   "id": "8081232a",
   "metadata": {
    "execution": {
     "iopub.execute_input": "2023-08-14T09:34:35.753766Z",
     "iopub.status.busy": "2023-08-14T09:34:35.753344Z",
     "iopub.status.idle": "2023-08-14T09:34:35.774354Z",
     "shell.execute_reply": "2023-08-14T09:34:35.771443Z"
    },
    "papermill": {
     "duration": 0.052396,
     "end_time": "2023-08-14T09:34:35.777629",
     "exception": false,
     "start_time": "2023-08-14T09:34:35.725233",
     "status": "completed"
    },
    "tags": []
   },
   "outputs": [
    {
     "name": "stdout",
     "output_type": "stream",
     "text": [
      "<class 'pandas.core.frame.DataFrame'>\n",
      "RangeIndex: 617 entries, 0 to 616\n",
      "Data columns (total 59 columns):\n",
      " #   Column  Non-Null Count  Dtype  \n",
      "---  ------  --------------  -----  \n",
      " 0   Id      617 non-null    object \n",
      " 1   AB      617 non-null    float64\n",
      " 2   AF      617 non-null    float64\n",
      " 3   AH      617 non-null    float64\n",
      " 4   AM      617 non-null    float64\n",
      " 5   AR      617 non-null    float64\n",
      " 6   AX      617 non-null    float64\n",
      " 7   AY      617 non-null    float64\n",
      " 8   AZ      617 non-null    float64\n",
      " 9   BC      617 non-null    float64\n",
      " 10  BD      617 non-null    float64\n",
      " 11  BN      617 non-null    float64\n",
      " 12  BP      617 non-null    float64\n",
      " 13  BQ      617 non-null    float64\n",
      " 14  BR      617 non-null    float64\n",
      " 15  BZ      617 non-null    float64\n",
      " 16  CB      617 non-null    float64\n",
      " 17  CC      617 non-null    float64\n",
      " 18  CD      617 non-null    float64\n",
      " 19  CF      617 non-null    float64\n",
      " 20  CH      617 non-null    float64\n",
      " 21  CL      617 non-null    float64\n",
      " 22  CR      617 non-null    float64\n",
      " 23  CS      617 non-null    float64\n",
      " 24  CU      617 non-null    float64\n",
      " 25  CW      617 non-null    float64\n",
      " 26  DA      617 non-null    float64\n",
      " 27  DE      617 non-null    float64\n",
      " 28  DF      617 non-null    float64\n",
      " 29  DH      617 non-null    float64\n",
      " 30  DI      617 non-null    float64\n",
      " 31  DL      617 non-null    float64\n",
      " 32  DN      617 non-null    float64\n",
      " 33  DU      617 non-null    float64\n",
      " 34  DV      617 non-null    float64\n",
      " 35  DY      617 non-null    float64\n",
      " 36  EB      617 non-null    float64\n",
      " 37  EE      617 non-null    float64\n",
      " 38  EG      617 non-null    float64\n",
      " 39  EH      617 non-null    float64\n",
      " 40  EL      617 non-null    float64\n",
      " 41  EP      617 non-null    float64\n",
      " 42  EU      617 non-null    float64\n",
      " 43  FC      617 non-null    float64\n",
      " 44  FD      617 non-null    float64\n",
      " 45  FE      617 non-null    float64\n",
      " 46  FI      617 non-null    float64\n",
      " 47  FL      617 non-null    float64\n",
      " 48  FR      617 non-null    float64\n",
      " 49  FS      617 non-null    float64\n",
      " 50  GB      617 non-null    float64\n",
      " 51  GE      617 non-null    float64\n",
      " 52  GF      617 non-null    float64\n",
      " 53  GH      617 non-null    float64\n",
      " 54  GI      617 non-null    float64\n",
      " 55  GL      617 non-null    float64\n",
      " 56  Class   617 non-null    int64  \n",
      " 57  A       617 non-null    float64\n",
      " 58  B       617 non-null    float64\n",
      "dtypes: float64(57), int64(1), object(1)\n",
      "memory usage: 284.5+ KB\n"
     ]
    }
   ],
   "source": [
    "dataset_df = dataset_df.fillna(0)\n",
    "\n",
    "dataset_df.info()"
   ]
  },
  {
   "cell_type": "markdown",
   "id": "af7a1f9e",
   "metadata": {
    "papermill": {
     "duration": 0.025533,
     "end_time": "2023-08-14T09:34:35.829807",
     "exception": false,
     "start_time": "2023-08-14T09:34:35.804274",
     "status": "completed"
    },
    "tags": []
   },
   "source": [
    "# Quick basic dataset exploration"
   ]
  },
  {
   "cell_type": "code",
   "execution_count": 7,
   "id": "eaecb0e9",
   "metadata": {
    "execution": {
     "iopub.execute_input": "2023-08-14T09:34:35.884388Z",
     "iopub.status.busy": "2023-08-14T09:34:35.883951Z",
     "iopub.status.idle": "2023-08-14T09:34:36.082065Z",
     "shell.execute_reply": "2023-08-14T09:34:36.080777Z"
    },
    "papermill": {
     "duration": 0.228789,
     "end_time": "2023-08-14T09:34:36.084887",
     "exception": false,
     "start_time": "2023-08-14T09:34:35.856098",
     "status": "completed"
    },
    "tags": []
   },
   "outputs": [
    {
     "data": {
      "text/html": [
       "<div>\n",
       "<style scoped>\n",
       "    .dataframe tbody tr th:only-of-type {\n",
       "        vertical-align: middle;\n",
       "    }\n",
       "\n",
       "    .dataframe tbody tr th {\n",
       "        vertical-align: top;\n",
       "    }\n",
       "\n",
       "    .dataframe thead th {\n",
       "        text-align: right;\n",
       "    }\n",
       "</style>\n",
       "<table border=\"1\" class=\"dataframe\">\n",
       "  <thead>\n",
       "    <tr style=\"text-align: right;\">\n",
       "      <th></th>\n",
       "      <th>AB</th>\n",
       "      <th>AF</th>\n",
       "      <th>AH</th>\n",
       "      <th>AM</th>\n",
       "      <th>AR</th>\n",
       "      <th>AX</th>\n",
       "      <th>AY</th>\n",
       "      <th>AZ</th>\n",
       "      <th>BC</th>\n",
       "      <th>BD</th>\n",
       "      <th>...</th>\n",
       "      <th>FS</th>\n",
       "      <th>GB</th>\n",
       "      <th>GE</th>\n",
       "      <th>GF</th>\n",
       "      <th>GH</th>\n",
       "      <th>GI</th>\n",
       "      <th>GL</th>\n",
       "      <th>Class</th>\n",
       "      <th>A</th>\n",
       "      <th>B</th>\n",
       "    </tr>\n",
       "  </thead>\n",
       "  <tbody>\n",
       "    <tr>\n",
       "      <th>count</th>\n",
       "      <td>617.000000</td>\n",
       "      <td>617.000000</td>\n",
       "      <td>617.000000</td>\n",
       "      <td>617.000000</td>\n",
       "      <td>617.000000</td>\n",
       "      <td>617.000000</td>\n",
       "      <td>617.000000</td>\n",
       "      <td>617.000000</td>\n",
       "      <td>617.000000</td>\n",
       "      <td>617.000000</td>\n",
       "      <td>...</td>\n",
       "      <td>617.000000</td>\n",
       "      <td>617.000000</td>\n",
       "      <td>617.000000</td>\n",
       "      <td>617.000000</td>\n",
       "      <td>617.000000</td>\n",
       "      <td>617.000000</td>\n",
       "      <td>617.000000</td>\n",
       "      <td>617.000000</td>\n",
       "      <td>617.000000</td>\n",
       "      <td>617.000000</td>\n",
       "    </tr>\n",
       "    <tr>\n",
       "      <th>mean</th>\n",
       "      <td>0.477149</td>\n",
       "      <td>3502.013221</td>\n",
       "      <td>118.624513</td>\n",
       "      <td>38.968552</td>\n",
       "      <td>10.128242</td>\n",
       "      <td>5.545576</td>\n",
       "      <td>0.060320</td>\n",
       "      <td>10.566447</td>\n",
       "      <td>8.053012</td>\n",
       "      <td>5350.388655</td>\n",
       "      <td>...</td>\n",
       "      <td>0.420135</td>\n",
       "      <td>20.724856</td>\n",
       "      <td>131.714987</td>\n",
       "      <td>14679.595398</td>\n",
       "      <td>31.489716</td>\n",
       "      <td>50.584437</td>\n",
       "      <td>8.517134</td>\n",
       "      <td>0.175041</td>\n",
       "      <td>0.359806</td>\n",
       "      <td>0.640194</td>\n",
       "    </tr>\n",
       "    <tr>\n",
       "      <th>std</th>\n",
       "      <td>0.468388</td>\n",
       "      <td>2300.322717</td>\n",
       "      <td>127.838950</td>\n",
       "      <td>69.728226</td>\n",
       "      <td>10.518877</td>\n",
       "      <td>2.551696</td>\n",
       "      <td>0.416817</td>\n",
       "      <td>4.350645</td>\n",
       "      <td>65.166943</td>\n",
       "      <td>3021.326641</td>\n",
       "      <td>...</td>\n",
       "      <td>1.303465</td>\n",
       "      <td>9.991907</td>\n",
       "      <td>144.181524</td>\n",
       "      <td>19352.959387</td>\n",
       "      <td>9.864239</td>\n",
       "      <td>36.266251</td>\n",
       "      <td>10.324338</td>\n",
       "      <td>0.380310</td>\n",
       "      <td>0.480333</td>\n",
       "      <td>0.480333</td>\n",
       "    </tr>\n",
       "    <tr>\n",
       "      <th>min</th>\n",
       "      <td>0.081187</td>\n",
       "      <td>192.593280</td>\n",
       "      <td>85.200147</td>\n",
       "      <td>3.177522</td>\n",
       "      <td>8.138688</td>\n",
       "      <td>0.699861</td>\n",
       "      <td>0.025578</td>\n",
       "      <td>3.396778</td>\n",
       "      <td>1.229900</td>\n",
       "      <td>1693.624320</td>\n",
       "      <td>...</td>\n",
       "      <td>0.000000</td>\n",
       "      <td>4.102182</td>\n",
       "      <td>72.611063</td>\n",
       "      <td>13.038894</td>\n",
       "      <td>9.432735</td>\n",
       "      <td>0.897628</td>\n",
       "      <td>0.000000</td>\n",
       "      <td>0.000000</td>\n",
       "      <td>0.000000</td>\n",
       "      <td>0.000000</td>\n",
       "    </tr>\n",
       "    <tr>\n",
       "      <th>25%</th>\n",
       "      <td>0.252107</td>\n",
       "      <td>2197.345480</td>\n",
       "      <td>85.200147</td>\n",
       "      <td>12.270314</td>\n",
       "      <td>8.138688</td>\n",
       "      <td>4.128294</td>\n",
       "      <td>0.025578</td>\n",
       "      <td>8.129580</td>\n",
       "      <td>1.229900</td>\n",
       "      <td>4155.702870</td>\n",
       "      <td>...</td>\n",
       "      <td>0.067730</td>\n",
       "      <td>14.036718</td>\n",
       "      <td>72.611063</td>\n",
       "      <td>2798.992584</td>\n",
       "      <td>25.034888</td>\n",
       "      <td>23.011684</td>\n",
       "      <td>0.124326</td>\n",
       "      <td>0.000000</td>\n",
       "      <td>0.000000</td>\n",
       "      <td>0.000000</td>\n",
       "    </tr>\n",
       "    <tr>\n",
       "      <th>50%</th>\n",
       "      <td>0.354659</td>\n",
       "      <td>3120.318960</td>\n",
       "      <td>85.200147</td>\n",
       "      <td>20.533110</td>\n",
       "      <td>8.138688</td>\n",
       "      <td>5.031912</td>\n",
       "      <td>0.025578</td>\n",
       "      <td>10.461320</td>\n",
       "      <td>1.229900</td>\n",
       "      <td>4997.960730</td>\n",
       "      <td>...</td>\n",
       "      <td>0.250601</td>\n",
       "      <td>18.771436</td>\n",
       "      <td>72.611063</td>\n",
       "      <td>7838.273610</td>\n",
       "      <td>30.608946</td>\n",
       "      <td>41.007968</td>\n",
       "      <td>0.336226</td>\n",
       "      <td>0.000000</td>\n",
       "      <td>0.000000</td>\n",
       "      <td>1.000000</td>\n",
       "    </tr>\n",
       "    <tr>\n",
       "      <th>75%</th>\n",
       "      <td>0.559763</td>\n",
       "      <td>4361.637390</td>\n",
       "      <td>113.739540</td>\n",
       "      <td>39.139886</td>\n",
       "      <td>8.138688</td>\n",
       "      <td>6.431634</td>\n",
       "      <td>0.036845</td>\n",
       "      <td>12.969516</td>\n",
       "      <td>5.081244</td>\n",
       "      <td>6035.885700</td>\n",
       "      <td>...</td>\n",
       "      <td>0.535067</td>\n",
       "      <td>25.608406</td>\n",
       "      <td>127.591671</td>\n",
       "      <td>19035.709240</td>\n",
       "      <td>36.863947</td>\n",
       "      <td>67.931664</td>\n",
       "      <td>21.978000</td>\n",
       "      <td>0.000000</td>\n",
       "      <td>1.000000</td>\n",
       "      <td>1.000000</td>\n",
       "    </tr>\n",
       "    <tr>\n",
       "      <th>max</th>\n",
       "      <td>6.161666</td>\n",
       "      <td>28688.187660</td>\n",
       "      <td>1910.123198</td>\n",
       "      <td>630.518230</td>\n",
       "      <td>178.943634</td>\n",
       "      <td>38.270880</td>\n",
       "      <td>10.315851</td>\n",
       "      <td>38.971568</td>\n",
       "      <td>1463.693448</td>\n",
       "      <td>53060.599240</td>\n",
       "      <td>...</td>\n",
       "      <td>31.365763</td>\n",
       "      <td>135.781294</td>\n",
       "      <td>1497.351958</td>\n",
       "      <td>143790.071200</td>\n",
       "      <td>81.210825</td>\n",
       "      <td>191.194764</td>\n",
       "      <td>21.978000</td>\n",
       "      <td>1.000000</td>\n",
       "      <td>1.000000</td>\n",
       "      <td>1.000000</td>\n",
       "    </tr>\n",
       "  </tbody>\n",
       "</table>\n",
       "<p>8 rows × 58 columns</p>\n",
       "</div>"
      ],
      "text/plain": [
       "               AB            AF           AH          AM          AR  \\\n",
       "count  617.000000    617.000000   617.000000  617.000000  617.000000   \n",
       "mean     0.477149   3502.013221   118.624513   38.968552   10.128242   \n",
       "std      0.468388   2300.322717   127.838950   69.728226   10.518877   \n",
       "min      0.081187    192.593280    85.200147    3.177522    8.138688   \n",
       "25%      0.252107   2197.345480    85.200147   12.270314    8.138688   \n",
       "50%      0.354659   3120.318960    85.200147   20.533110    8.138688   \n",
       "75%      0.559763   4361.637390   113.739540   39.139886    8.138688   \n",
       "max      6.161666  28688.187660  1910.123198  630.518230  178.943634   \n",
       "\n",
       "               AX          AY          AZ           BC           BD   ...  \\\n",
       "count  617.000000  617.000000  617.000000   617.000000    617.000000  ...   \n",
       "mean     5.545576    0.060320   10.566447     8.053012   5350.388655  ...   \n",
       "std      2.551696    0.416817    4.350645    65.166943   3021.326641  ...   \n",
       "min      0.699861    0.025578    3.396778     1.229900   1693.624320  ...   \n",
       "25%      4.128294    0.025578    8.129580     1.229900   4155.702870  ...   \n",
       "50%      5.031912    0.025578   10.461320     1.229900   4997.960730  ...   \n",
       "75%      6.431634    0.036845   12.969516     5.081244   6035.885700  ...   \n",
       "max     38.270880   10.315851   38.971568  1463.693448  53060.599240  ...   \n",
       "\n",
       "               FS          GB           GE             GF          GH  \\\n",
       "count  617.000000  617.000000   617.000000     617.000000  617.000000   \n",
       "mean     0.420135   20.724856   131.714987   14679.595398   31.489716   \n",
       "std      1.303465    9.991907   144.181524   19352.959387    9.864239   \n",
       "min      0.000000    4.102182    72.611063      13.038894    9.432735   \n",
       "25%      0.067730   14.036718    72.611063    2798.992584   25.034888   \n",
       "50%      0.250601   18.771436    72.611063    7838.273610   30.608946   \n",
       "75%      0.535067   25.608406   127.591671   19035.709240   36.863947   \n",
       "max     31.365763  135.781294  1497.351958  143790.071200   81.210825   \n",
       "\n",
       "               GI          GL       Class           A           B  \n",
       "count  617.000000  617.000000  617.000000  617.000000  617.000000  \n",
       "mean    50.584437    8.517134    0.175041    0.359806    0.640194  \n",
       "std     36.266251   10.324338    0.380310    0.480333    0.480333  \n",
       "min      0.897628    0.000000    0.000000    0.000000    0.000000  \n",
       "25%     23.011684    0.124326    0.000000    0.000000    0.000000  \n",
       "50%     41.007968    0.336226    0.000000    0.000000    1.000000  \n",
       "75%     67.931664   21.978000    0.000000    1.000000    1.000000  \n",
       "max    191.194764   21.978000    1.000000    1.000000    1.000000  \n",
       "\n",
       "[8 rows x 58 columns]"
      ]
     },
     "execution_count": 7,
     "metadata": {},
     "output_type": "execute_result"
    }
   ],
   "source": [
    "dataset_df.describe()"
   ]
  },
  {
   "cell_type": "raw",
   "id": "7ed43fb7",
   "metadata": {
    "execution": {
     "iopub.execute_input": "2023-06-05T08:39:29.187811Z",
     "iopub.status.busy": "2023-06-05T08:39:29.187353Z",
     "iopub.status.idle": "2023-06-05T08:39:29.214705Z",
     "shell.execute_reply": "2023-06-05T08:39:29.213636Z",
     "shell.execute_reply.started": "2023-06-05T08:39:29.187771Z"
    },
    "papermill": {
     "duration": 0.027487,
     "end_time": "2023-08-14T09:34:36.139182",
     "exception": false,
     "start_time": "2023-08-14T09:34:36.111695",
     "status": "completed"
    },
    "tags": []
   },
   "source": [
    "dataset_df.info()"
   ]
  },
  {
   "cell_type": "markdown",
   "id": "06f58cd2",
   "metadata": {
    "papermill": {
     "duration": 0.027508,
     "end_time": "2023-08-14T09:34:36.194146",
     "exception": false,
     "start_time": "2023-08-14T09:34:36.166638",
     "status": "completed"
    },
    "tags": []
   },
   "source": [
    "## Pie chart for label column: Class"
   ]
  },
  {
   "cell_type": "code",
   "execution_count": 8,
   "id": "b94510c3",
   "metadata": {
    "execution": {
     "iopub.execute_input": "2023-08-14T09:34:36.248277Z",
     "iopub.status.busy": "2023-08-14T09:34:36.247463Z",
     "iopub.status.idle": "2023-08-14T09:34:36.488098Z",
     "shell.execute_reply": "2023-08-14T09:34:36.486839Z"
    },
    "papermill": {
     "duration": 0.270637,
     "end_time": "2023-08-14T09:34:36.490652",
     "exception": false,
     "start_time": "2023-08-14T09:34:36.220015",
     "status": "completed"
    },
    "tags": []
   },
   "outputs": [
    {
     "data": {
      "image/png": "[encoded data removed]",
      "text/plain": [
       "<Figure size 640x480 with 1 Axes>"
      ]
     },
     "metadata": {},
     "output_type": "display_data"
    }
   ],
   "source": [
    "# plot_df = dataset_df.Class.value_counts()\n",
    "# plot_df.plot(kind=\"pie\")\n",
    "\n",
    "class_vals = dataset_df.Class.value_counts()\n",
    "\n",
    "plt.pie(\n",
    "    class_vals,\n",
    "    labels = class_vals.index,\n",
    "    startangle = 90,\n",
    "    explode = (0, 0.05),\n",
    "    radius = 1.2\n",
    ")\n",
    "\n",
    "plt.title(' Class in the dataset')\n",
    "\n",
    "\n",
    "plt.legend()\n",
    "  \n",
    "plt.show()"
   ]
  },
  {
   "cell_type": "markdown",
   "id": "546e3d0f",
   "metadata": {
    "papermill": {
     "duration": 0.025624,
     "end_time": "2023-08-14T09:34:36.542882",
     "exception": false,
     "start_time": "2023-08-14T09:34:36.517258",
     "status": "completed"
    },
    "tags": []
   },
   "source": [
    "**Important**: From the pie chart we can see that the dataset is heavily imbalanced since the fraction of positive(`1`) samples is very small compared to the negative(`0`) samples."
   ]
  },
  {
   "cell_type": "markdown",
   "id": "489a38dc",
   "metadata": {
    "papermill": {
     "duration": 0.025613,
     "end_time": "2023-08-14T09:34:36.595426",
     "exception": false,
     "start_time": "2023-08-14T09:34:36.569813",
     "status": "completed"
    },
    "tags": []
   },
   "source": [
    "# Numerical data distribution\n",
    "\n",
    "First, we will list all the numerical columns names."
   ]
  },
  {
   "cell_type": "code",
   "execution_count": 9,
   "id": "721bcbf3",
   "metadata": {
    "execution": {
     "iopub.execute_input": "2023-08-14T09:34:36.654715Z",
     "iopub.status.busy": "2023-08-14T09:34:36.652829Z",
     "iopub.status.idle": "2023-08-14T09:34:36.660022Z",
     "shell.execute_reply": "2023-08-14T09:34:36.658872Z"
    },
    "papermill": {
     "duration": 0.040318,
     "end_time": "2023-08-14T09:34:36.662771",
     "exception": false,
     "start_time": "2023-08-14T09:34:36.622453",
     "status": "completed"
    },
    "tags": []
   },
   "outputs": [],
   "source": [
    "# Store all the numerical column names into a list\n",
    "FEATURE_COLUMNS = [i for i in dataset_df.columns if i not in [\"Id\", \"EJ\", \"Class\"]]"
   ]
  },
  {
   "cell_type": "code",
   "execution_count": 10,
   "id": "25542a9b",
   "metadata": {
    "execution": {
     "iopub.execute_input": "2023-08-14T09:34:36.718857Z",
     "iopub.status.busy": "2023-08-14T09:34:36.717816Z",
     "iopub.status.idle": "2023-08-14T09:34:37.068980Z",
     "shell.execute_reply": "2023-08-14T09:34:37.067950Z"
    },
    "papermill": {
     "duration": 0.383221,
     "end_time": "2023-08-14T09:34:37.072125",
     "exception": false,
     "start_time": "2023-08-14T09:34:36.688904",
     "status": "completed"
    },
    "tags": []
   },
   "outputs": [
    {
     "data": {
      "image/png": "[encoded data removed]",
      "text/plain": [
       "<Figure size 640x480 with 1 Axes>"
      ]
     },
     "metadata": {},
     "output_type": "display_data"
    }
   ],
   "source": [
    "data_1 = dataset_df.query('Class == 0') # feature date in negetive class\n",
    "\n",
    "data_2 = dataset_df.query('Class == 1') # feature data in positive class\n",
    "\n",
    "data_1.describe()\n",
    "\n",
    "data = [data_1.AR,data_2.AR] # In feature AR column, the positive class and the negative class\n",
    "\n",
    "sns.boxplot(data) # Box plot for the negative and positive data,it is very clear how the data distribute in two class\n",
    "\n",
    "plt.show()"
   ]
  },
  {
   "cell_type": "markdown",
   "id": "d724ff7a",
   "metadata": {
    "papermill": {
     "duration": 0.026387,
     "end_time": "2023-08-14T09:34:37.125485",
     "exception": false,
     "start_time": "2023-08-14T09:34:37.099098",
     "status": "completed"
    },
    "tags": []
   },
   "source": [
    "Let us now plot the first 6 numerical columns and their values using bar charts."
   ]
  },
  {
   "cell_type": "code",
   "execution_count": 11,
   "id": "bf8a4c78",
   "metadata": {
    "execution": {
     "iopub.execute_input": "2023-08-14T09:34:37.185200Z",
     "iopub.status.busy": "2023-08-14T09:34:37.184782Z",
     "iopub.status.idle": "2023-08-14T09:34:38.255008Z",
     "shell.execute_reply": "2023-08-14T09:34:38.253827Z"
    },
    "papermill": {
     "duration": 1.103358,
     "end_time": "2023-08-14T09:34:38.257652",
     "exception": false,
     "start_time": "2023-08-14T09:34:37.154294",
     "status": "completed"
    },
    "tags": []
   },
   "outputs": [
    {
     "data": {
      "image/png": "[encoded data removed]",
      "text/plain": [
       "<Figure size 1000x1000 with 6 Axes>"
      ]
     },
     "metadata": {},
     "output_type": "display_data"
    }
   ],
   "source": [
    "# figure, axis = plt.subplots(3, 2, figsize=(15, 15))\n",
    "# plt.subplots_adjust(hspace=0.25, wspace=0.3)\n",
    "\n",
    "# for i, column_name in enumerate(NUM_FEATURE_COLUMNS[:6]):\n",
    "#     row = i//2\n",
    "#     col = i % 2\n",
    "#     bp = sns.barplot(ax=axis[row, col], x=dataset_df['Id'], y=dataset_df[column_name])\n",
    "#     bp.set(xticklabels=[])\n",
    "#     #bp.set_xticklabels(bp.get_xticklabels(), rotation=90, size = 7)\n",
    "#     axis[row, col].set_title(column_name)\n",
    "# plt.show()\n",
    "\n",
    "figure,axis = plt.subplots(3, 2, figsize = (10,10))\n",
    "#Plot 3 row and 2 columns chart of the features\n",
    "\n",
    "plt.subplots_adjust(hspace = 0.30, wspace = 0.30)\n",
    "#Space in between each charts\n",
    "\n",
    "for i, column_name in enumerate(FEATURE_COLUMNS[:6]):\n",
    "    row = i // 2\n",
    "    col = i % 2\n",
    "    \n",
    "    data = [data_1[column_name], data_2[column_name]]\n",
    "    bp = sns.boxplot(ax=axis[row,col],data = data,width=0.2)\n",
    "    axis[row, col].set_title(column_name)\n",
    "\n",
    "plt.show()\n",
    "   "
   ]
  },
  {
   "cell_type": "markdown",
   "id": "3e5ac81a",
   "metadata": {
    "papermill": {
     "duration": 0.02774,
     "end_time": "2023-08-14T09:34:38.312387",
     "exception": false,
     "start_time": "2023-08-14T09:34:38.284647",
     "status": "completed"
    },
    "tags": []
   },
   "source": [
    "We will also create a list of feature columns that will be used for training. We will drop `Id` from the list since it is not needed."
   ]
  },
  {
   "cell_type": "code",
   "execution_count": 12,
   "id": "4b165fe6",
   "metadata": {
    "execution": {
     "iopub.execute_input": "2023-08-14T09:34:38.370509Z",
     "iopub.status.busy": "2023-08-14T09:34:38.369833Z",
     "iopub.status.idle": "2023-08-14T09:34:38.375530Z",
     "shell.execute_reply": "2023-08-14T09:34:38.374405Z"
    },
    "papermill": {
     "duration": 0.037618,
     "end_time": "2023-08-14T09:34:38.378234",
     "exception": false,
     "start_time": "2023-08-14T09:34:38.340616",
     "status": "completed"
    },
    "tags": []
   },
   "outputs": [],
   "source": [
    "FEATURE_COLUMNS = [i for i in dataset_df.columns if i not in [\"Id\"]]"
   ]
  },
  {
   "cell_type": "markdown",
   "id": "91cc632c",
   "metadata": {
    "papermill": {
     "duration": 0.028264,
     "end_time": "2023-08-14T09:34:38.433692",
     "exception": false,
     "start_time": "2023-08-14T09:34:38.405428",
     "status": "completed"
    },
    "tags": []
   },
   "source": [
    "Now let us split the dataset into training and testing datasets:"
   ]
  },
  {
   "cell_type": "markdown",
   "id": "c9625a3f",
   "metadata": {
    "papermill": {
     "duration": 0.026996,
     "end_time": "2023-08-14T09:34:38.489251",
     "exception": false,
     "start_time": "2023-08-14T09:34:38.462255",
     "status": "completed"
    },
    "tags": []
   },
   "source": [
    "# KFold validation\n",
    "\n",
    "We will use KFold cross validation for training this model since the normal train/test split training won't be enough to acheive decent score.\n",
    "\n",
    "We will split the dataset into 5 consecutive folds. Each fold is then used once as a validation set while the 4 (5-1) remaining folds form the training set.\n",
    "\n",
    "Read more about KFold [here](https://scikit-learn.org/stable/modules/generated/sklearn.model_selection.KFold.html)."
   ]
  },
  {
   "cell_type": "code",
   "execution_count": 13,
   "id": "cca67099",
   "metadata": {
    "execution": {
     "iopub.execute_input": "2023-08-14T09:34:38.547158Z",
     "iopub.status.busy": "2023-08-14T09:34:38.546429Z",
     "iopub.status.idle": "2023-08-14T09:34:38.551818Z",
     "shell.execute_reply": "2023-08-14T09:34:38.550809Z"
    },
    "papermill": {
     "duration": 0.038233,
     "end_time": "2023-08-14T09:34:38.554637",
     "exception": false,
     "start_time": "2023-08-14T09:34:38.516404",
     "status": "completed"
    },
    "tags": []
   },
   "outputs": [],
   "source": [
    "# Creates a GroupKFold with 5 splits\n",
    "kf = KFold(n_splits=5)"
   ]
  },
  {
   "cell_type": "markdown",
   "id": "55a2eaad",
   "metadata": {
    "papermill": {
     "duration": 0.029558,
     "end_time": "2023-08-14T09:34:38.612209",
     "exception": false,
     "start_time": "2023-08-14T09:34:38.582651",
     "status": "completed"
    },
    "tags": []
   },
   "source": [
    "# Out of Fold (OOF)\n",
    "\n",
    "During KFold cross validation, the predictions made on the test set of each fold is known as Out of Fold(OOF) predictions. We will estimate the performance of the model using the predictions made across all the k (5 in this example) folds.\n",
    "\n",
    "For our training loop, we will create a pandas dataframe named `oof` to store the predictions of the validation set during each fold."
   ]
  },
  {
   "cell_type": "code",
   "execution_count": 14,
   "id": "9ef2c508",
   "metadata": {
    "execution": {
     "iopub.execute_input": "2023-08-14T09:34:38.669993Z",
     "iopub.status.busy": "2023-08-14T09:34:38.669509Z",
     "iopub.status.idle": "2023-08-14T09:34:38.677507Z",
     "shell.execute_reply": "2023-08-14T09:34:38.676124Z"
    },
    "papermill": {
     "duration": 0.039528,
     "end_time": "2023-08-14T09:34:38.680183",
     "exception": false,
     "start_time": "2023-08-14T09:34:38.640655",
     "status": "completed"
    },
    "tags": []
   },
   "outputs": [],
   "source": [
    "# Create list of ids for the creation of oof dataframe.\n",
    "ID_LIST = dataset_df.index\n",
    "\n",
    "# Create a dataframe of required size with zero values.\n",
    "oof = pd.DataFrame(data=np.zeros((len(ID_LIST),1)), index=ID_LIST)\n",
    "\n",
    "# Create an empty dictionary to store the models trained for each fold.\n",
    "models = {}\n",
    "\n",
    "# Create empty dict to save metircs for the models trained for each fold.\n",
    "accuracy = {}\n",
    "cross_entropy = {}\n",
    "\n",
    "# Save the name of the label column to a variable.\n",
    "label = \"Class\""
   ]
  },
  {
   "cell_type": "markdown",
   "id": "bc6deafa",
   "metadata": {
    "papermill": {
     "duration": 0.027907,
     "end_time": "2023-08-14T09:34:38.735624",
     "exception": false,
     "start_time": "2023-08-14T09:34:38.707717",
     "status": "completed"
    },
    "tags": []
   },
   "source": [
    "# Select a Model\n",
    "\n",
    "There are several tree-based models for you to choose from.\n",
    "\n",
    "* RandomForestModel\n",
    "* GradientBoostedTreesModel\n",
    "* CartModel\n",
    "* DistributedGradientBoostedTreesModel\n",
    "\n",
    "To start, we'll work with a Random Forest. This is the most well-known of the Decision Forest training algorithms.\n",
    "\n",
    "A Random Forest is a collection of decision trees, each trained independently on a random subset of the training dataset (sampled with replacement). The algorithm is unique in that it is robust to overfitting, and easy to use.\n",
    "\n",
    "We can list the all the available models in TensorFlow Decision Forests using the following code:"
   ]
  },
  {
   "cell_type": "code",
   "execution_count": 15,
   "id": "3bc5cf50",
   "metadata": {
    "execution": {
     "iopub.execute_input": "2023-08-14T09:34:38.792074Z",
     "iopub.status.busy": "2023-08-14T09:34:38.791619Z",
     "iopub.status.idle": "2023-08-14T09:34:38.800266Z",
     "shell.execute_reply": "2023-08-14T09:34:38.798818Z"
    },
    "papermill": {
     "duration": 0.040137,
     "end_time": "2023-08-14T09:34:38.803097",
     "exception": false,
     "start_time": "2023-08-14T09:34:38.762960",
     "status": "completed"
    },
    "tags": []
   },
   "outputs": [
    {
     "data": {
      "text/plain": [
       "[tensorflow_decision_forests.keras.RandomForestModel,\n",
       " tensorflow_decision_forests.keras.GradientBoostedTreesModel,\n",
       " tensorflow_decision_forests.keras.CartModel,\n",
       " tensorflow_decision_forests.keras.DistributedGradientBoostedTreesModel]"
      ]
     },
     "execution_count": 15,
     "metadata": {},
     "output_type": "execute_result"
    }
   ],
   "source": [
    "tfdf.keras.get_all_models()"
   ]
  },
  {
   "cell_type": "markdown",
   "id": "3f9d708f",
   "metadata": {
    "papermill": {
     "duration": 0.026997,
     "end_time": "2023-08-14T09:34:38.857922",
     "exception": false,
     "start_time": "2023-08-14T09:34:38.830925",
     "status": "completed"
    },
    "tags": []
   },
   "source": [
    "# How can I configure them?\n",
    "\n",
    "TensorFlow Decision Forests provides good defaults for you (e.g. the top ranking hyperparameters on our benchmarks, slightly modified to run in reasonable time). If you would like to configure the learning algorithm, you will find many options you can explore to get a better score.\n",
    "\n",
    "You can select a template and/or set parameters as follows:\n",
    "\n",
    "```rf = tfdf.keras.RandomForestModel(hyperparameter_template=\"benchmark_rank1\")```\n",
    "\n",
    "Read more [here](https://www.tensorflow.org/decision_forests/api_docs/python/tfdf/keras/RandomForestModel)."
   ]
  },
  {
   "cell_type": "markdown",
   "id": "69e85ab1",
   "metadata": {
    "papermill": {
     "duration": 0.02699,
     "end_time": "2023-08-14T09:34:38.912282",
     "exception": false,
     "start_time": "2023-08-14T09:34:38.885292",
     "status": "completed"
    },
    "tags": []
   },
   "source": [
    "# Hyperparameter tuning to avoid overfitting\n",
    "\n",
    "Because of the smaller size of the dataset, it is likely that the model will overfit during training.\n",
    "Numerous parameters, primarily `max_depth` and `num_trees` can be changed to fine-tune the model and prevent overfitting.\n",
    "\n",
    "The attribute`max_depth` indicates the maximum depth of the tree. To avoid overfitting, we can try to reduce the depth of the tree from it's default value, which is `16`. Another way to tackle overfitting is to increase the number of individual decision trees. To do this, we have to increase the value of the parameter `num_trees` from its default value(`300`).\n",
    "\n",
    "You can set these parameters as follows:\n",
    "\n",
    "```rf = tfdf.keras.RandomForestModel(max_depth=5, num_trees=500)```"
   ]
  },
  {
   "cell_type": "markdown",
   "id": "7a579cd3",
   "metadata": {
    "papermill": {
     "duration": 0.027468,
     "end_time": "2023-08-14T09:34:38.967890",
     "exception": false,
     "start_time": "2023-08-14T09:34:38.940422",
     "status": "completed"
    },
    "tags": []
   },
   "source": [
    "# Strategies to handle the dataset imbalance\n",
    "\n",
    "Let's examine the fraction of positive and negative samples in this dataset's  by examining the`Class` column."
   ]
  },
  {
   "cell_type": "code",
   "execution_count": 16,
   "id": "38ff6259",
   "metadata": {
    "execution": {
     "iopub.execute_input": "2023-08-14T09:34:39.026448Z",
     "iopub.status.busy": "2023-08-14T09:34:39.026041Z",
     "iopub.status.idle": "2023-08-14T09:34:39.032961Z",
     "shell.execute_reply": "2023-08-14T09:34:39.031836Z"
    },
    "papermill": {
     "duration": 0.040057,
     "end_time": "2023-08-14T09:34:39.035809",
     "exception": false,
     "start_time": "2023-08-14T09:34:38.995752",
     "status": "completed"
    },
    "tags": []
   },
   "outputs": [
    {
     "name": "stdout",
     "output_type": "stream",
     "text": [
      "Examples:\n",
      "    Total: 617\n",
      "    Positive: 108 (17.50% of total)\n",
      "\n"
     ]
    }
   ],
   "source": [
    "# Calculate the number of negative and positive values in `Class` column\n",
    "neg, pos = np.bincount(dataset_df['Class'])\n",
    "# Calculate total samples\n",
    "total = neg + pos\n",
    "print('Examples:\\n    Total: {}\\n    Positive: {} ({:.2f}% of total)\\n'.format(\n",
    "    total, pos, 100 * pos / total))"
   ]
  },
  {
   "cell_type": "markdown",
   "id": "32c9d150",
   "metadata": {
    "papermill": {
     "duration": 0.028208,
     "end_time": "2023-08-14T09:34:39.093496",
     "exception": false,
     "start_time": "2023-08-14T09:34:39.065288",
     "status": "completed"
    },
    "tags": []
   },
   "source": [
    "As we can see, positive samples only account for 17.50% of the data. This means that our datastet is heavily imbalanced.\n",
    "\n",
    "In classification problems with imbalanced datasets, a model tends to be more biased towards the majority class leading to the model performing poorly on the samples belonging to the minority class."
   ]
  },
  {
   "cell_type": "markdown",
   "id": "bd54a5a2",
   "metadata": {
    "papermill": {
     "duration": 0.027913,
     "end_time": "2023-08-14T09:34:39.149212",
     "exception": false,
     "start_time": "2023-08-14T09:34:39.121299",
     "status": "completed"
    },
    "tags": []
   },
   "source": [
    "There are many techniques for dealing with imbalanced data. The most suitable techniques for this dataset are:\n",
    "\n",
    "* Undersampling\n",
    "* Class weighting\n",
    "\n",
    "In this notebook we will use **Class weighting** to deal with imbalanced data. But first, we will quickly outline how undersampling can be performed."
   ]
  },
  {
   "cell_type": "markdown",
   "id": "2f1e1200",
   "metadata": {
    "papermill": {
     "duration": 0.027423,
     "end_time": "2023-08-14T09:34:39.204004",
     "exception": false,
     "start_time": "2023-08-14T09:34:39.176581",
     "status": "completed"
    },
    "tags": []
   },
   "source": [
    "# Undersampling\n",
    "\n",
    "One approach to deal with an imbalanced dataset would be to under-sample the majority class(es) by choosing a smaller subset of the majority class samples(negative or `0` class in this case) from the dataset rather than picking the entire data.\n",
    "\n",
    "Note: You have to loop through the dataset and try different random subsets for a better score.\n",
    "\n",
    "The code snippet below illustrates how to perform undersampling.\n",
    "\n",
    "```\n",
    "# This function generates undersampled dataset.\n",
    "def random_under_sampler(df):\n",
    "    # Calculate the number of samples for each label. \n",
    "    neg, pos = np.bincount(df['Class'])\n",
    "\n",
    "    # Choose the samples with class label `1`.\n",
    "    one_df = df.loc[df['Class'] == 1] \n",
    "    # Choose the samples with class label `0`.\n",
    "    zero_df = df.loc[df['Class'] == 0]\n",
    "    # Select `pos` number of negative samples.\n",
    "    # This makes sure that we have equal number of samples for each label.\n",
    "    zero_df = zero_df.sample(n=pos)\n",
    "\n",
    "    # Join both label dataframes.\n",
    "    undersampled_df = pd.concat([zero_df, one_df])\n",
    "\n",
    "    # Shuffle the data and return\n",
    "    return undersampled_df.sample(frac = 1)\n",
    "```"
   ]
  },
  {
   "cell_type": "markdown",
   "id": "ac518e48",
   "metadata": {
    "papermill": {
     "duration": 0.028495,
     "end_time": "2023-08-14T09:34:39.260788",
     "exception": false,
     "start_time": "2023-08-14T09:34:39.232293",
     "status": "completed"
    },
    "tags": []
   },
   "source": [
    "# Class weighting\n",
    "\n",
    "Since the postive(`1`) `Class` labels are only a small fraction of the dataset, we would want the classifier to heavily weight those examples. You can do this by passing **Keras weights** for each class through a parameter. This will cause the model to \"pay more attention\" to examples from an under-represented class. Read more about class weights [here](https://www.tensorflow.org/tutorials/structured_data/imbalanced_data#class_weights)."
   ]
  },
  {
   "cell_type": "code",
   "execution_count": 17,
   "id": "562b3a78",
   "metadata": {
    "execution": {
     "iopub.execute_input": "2023-08-14T09:34:39.320097Z",
     "iopub.status.busy": "2023-08-14T09:34:39.318898Z",
     "iopub.status.idle": "2023-08-14T09:34:39.328329Z",
     "shell.execute_reply": "2023-08-14T09:34:39.326970Z"
    },
    "papermill": {
     "duration": 0.043527,
     "end_time": "2023-08-14T09:34:39.331609",
     "exception": false,
     "start_time": "2023-08-14T09:34:39.288082",
     "status": "completed"
    },
    "tags": []
   },
   "outputs": [
    {
     "name": "stdout",
     "output_type": "stream",
     "text": [
      "Weight for class 0: 0.61\n",
      "Weight for class 1: 2.86\n"
     ]
    }
   ],
   "source": [
    "# Calculate the number of samples for each label.\n",
    "neg, pos = np.bincount(dataset_df['Class'])\n",
    "\n",
    "# Calculate total samples.\n",
    "total = neg + pos\n",
    "\n",
    "# Calculate the weight for each label.\n",
    "weight_for_0 = (1 / neg) * (total / 2.0)\n",
    "weight_for_1 = (1 / pos) * (total / 2.0)\n",
    "\n",
    "class_weight = {0: weight_for_0, 1: weight_for_1}\n",
    "\n",
    "print('Weight for class 0: {:.2f}'.format(weight_for_0))\n",
    "print('Weight for class 1: {:.2f}'.format(weight_for_1))"
   ]
  },
  {
   "cell_type": "markdown",
   "id": "419212eb",
   "metadata": {
    "papermill": {
     "duration": 0.029161,
     "end_time": "2023-08-14T09:34:39.388719",
     "exception": false,
     "start_time": "2023-08-14T09:34:39.359558",
     "status": "completed"
    },
    "tags": []
   },
   "source": [
    "To train and evaluate the models using class weights, use the dict in model.fit() as an argument as shown below.\n",
    "\n",
    "```model.fit(x=train_ds, class_weight=class_weight)```"
   ]
  },
  {
   "cell_type": "markdown",
   "id": "32f7beab",
   "metadata": {
    "papermill": {
     "duration": 0.027721,
     "end_time": "2023-08-14T09:34:39.444395",
     "exception": false,
     "start_time": "2023-08-14T09:34:39.416674",
     "status": "completed"
    },
    "tags": []
   },
   "source": [
    "# Train Random Forest Model\n",
    "\n",
    "Today, we will use the defaults to create the Random Forest Model. By default the model is set to train for a classification task.\n",
    "We will train a model for each fold and after training we will store the model and metrics. Here, we have chosen `accuracy` and `binary_crossentropy` as the metrics."
   ]
  },
  {
   "cell_type": "code",
   "execution_count": 18,
   "id": "0bc90e4e",
   "metadata": {
    "execution": {
     "iopub.execute_input": "2023-08-14T09:34:39.501477Z",
     "iopub.status.busy": "2023-08-14T09:34:39.501047Z",
     "iopub.status.idle": "2023-08-14T09:34:59.968821Z",
     "shell.execute_reply": "2023-08-14T09:34:59.967456Z"
    },
    "papermill": {
     "duration": 20.500353,
     "end_time": "2023-08-14T09:34:59.972201",
     "exception": false,
     "start_time": "2023-08-14T09:34:39.471848",
     "status": "completed"
    },
    "tags": []
   },
   "outputs": [
    {
     "name": "stdout",
     "output_type": "stream",
     "text": [
      "Use /tmp/tmp73z62ev4 as temporary training directory\n",
      "##### Fold 1\n",
      "Warning: Some of the feature names have been changed automatically to be compatible with SavedModels because fix_feature_names=True.\n",
      "Warning: Some of the feature names have been changed automatically to be compatible with SavedModels because fix_feature_names=True.\n",
      "Reading training dataset...\n",
      "Training dataset read in 0:00:08.386092. Found 493 examples.\n",
      "Training model...\n",
      "Model trained in 0:00:00.324770\n",
      "Compiling model...\n"
     ]
    },
    {
     "name": "stderr",
     "output_type": "stream",
     "text": [
      "[INFO 23-08-14 09:34:48.5210 UTC kernel.cc:1242] Loading model from path /tmp/tmp73z62ev4/model/ with prefix bce868702ec34c96\n",
      "[INFO 23-08-14 09:34:48.5822 UTC decision_forest.cc:660] Model loaded with 300 root(s), 14132 node(s), and 57 input feature(s).\n",
      "[INFO 23-08-14 09:34:48.5824 UTC abstract_model.cc:1311] Engine \"RandomForestOptPred\" built\n",
      "[INFO 23-08-14 09:34:48.5826 UTC kernel.cc:1074] Use fast generic engine\n"
     ]
    },
    {
     "name": "stdout",
     "output_type": "stream",
     "text": [
      "WARNING: AutoGraph could not transform <function simple_ml_inference_op_with_handle at 0x7b434088d870> and will run it as-is.\n",
      "Please report this to the TensorFlow team. When filing the bug, set the verbosity to 10 (on Linux, `export AUTOGRAPH_VERBOSITY=10`) and attach the full output.\n",
      "Cause: could not get source code\n",
      "To silence this warning, decorate the function with @tf.autograph.experimental.do_not_convert\n",
      "Model compiled.\n",
      "1/1 [==============================] - 0s 176ms/step\n",
      "1/1 [==============================] - 1s 812ms/step - loss: 0.0000e+00 - accuracy: 0.9516 - binary_crossentropy: 0.2105\n",
      "##### Fold 2\n",
      "Warning: Some of the feature names have been changed automatically to be compatible with SavedModels because fix_feature_names=True.\n",
      "Warning: Some of the feature names have been changed automatically to be compatible with SavedModels because fix_feature_names=True.\n",
      "Reading training dataset...\n",
      "Training dataset read in 0:00:00.214039. Found 493 examples.\n",
      "Training model...\n",
      "Model trained in 0:00:00.274410\n",
      "Compiling model...\n"
     ]
    },
    {
     "name": "stderr",
     "output_type": "stream",
     "text": [
      "[INFO 23-08-14 09:34:53.4798 UTC kernel.cc:1242] Loading model from path /tmp/tmp73z62ev4/model/ with prefix bce868702ec34c96\n",
      "[INFO 23-08-14 09:34:53.5380 UTC decision_forest.cc:660] Model loaded with 300 root(s), 13408 node(s), and 57 input feature(s).\n",
      "[INFO 23-08-14 09:34:53.5384 UTC kernel.cc:1074] Use fast generic engine\n"
     ]
    },
    {
     "name": "stdout",
     "output_type": "stream",
     "text": [
      "Model compiled.\n",
      "1/1 [==============================] - 0s 159ms/step\n",
      "1/1 [==============================] - 0s 408ms/step - loss: 0.0000e+00 - accuracy: 0.8790 - binary_crossentropy: 0.2651\n",
      "##### Fold 3\n",
      "Warning: Some of the feature names have been changed automatically to be compatible with SavedModels because fix_feature_names=True.\n",
      "Warning: Some of the feature names have been changed automatically to be compatible with SavedModels because fix_feature_names=True.\n",
      "Reading training dataset...\n",
      "Training dataset read in 0:00:00.192956. Found 494 examples.\n",
      "Training model...\n",
      "Model trained in 0:00:00.262112\n",
      "Compiling model...\n"
     ]
    },
    {
     "name": "stderr",
     "output_type": "stream",
     "text": [
      "[INFO 23-08-14 09:34:55.1281 UTC kernel.cc:1242] Loading model from path /tmp/tmp73z62ev4/model/ with prefix bce868702ec34c96\n",
      "[INFO 23-08-14 09:34:55.1835 UTC decision_forest.cc:660] Model loaded with 300 root(s), 13228 node(s), and 57 input feature(s).\n",
      "[INFO 23-08-14 09:34:55.1835 UTC kernel.cc:1074] Use fast generic engine\n"
     ]
    },
    {
     "name": "stdout",
     "output_type": "stream",
     "text": [
      "Model compiled.\n",
      "1/1 [==============================] - 0s 146ms/step\n",
      "1/1 [==============================] - 0s 396ms/step - loss: 0.0000e+00 - accuracy: 0.9187 - binary_crossentropy: 0.2716\n",
      "##### Fold 4\n",
      "Warning: Some of the feature names have been changed automatically to be compatible with SavedModels because fix_feature_names=True.\n",
      "Warning: Some of the feature names have been changed automatically to be compatible with SavedModels because fix_feature_names=True.\n",
      "Reading training dataset...\n",
      "Training dataset read in 0:00:00.203580. Found 494 examples.\n",
      "Training model...\n",
      "Model trained in 0:00:00.270019\n",
      "Compiling model...\n"
     ]
    },
    {
     "name": "stderr",
     "output_type": "stream",
     "text": [
      "[INFO 23-08-14 09:34:56.7542 UTC kernel.cc:1242] Loading model from path /tmp/tmp73z62ev4/model/ with prefix bce868702ec34c96\n",
      "[INFO 23-08-14 09:34:56.8123 UTC decision_forest.cc:660] Model loaded with 300 root(s), 13454 node(s), and 57 input feature(s).\n",
      "[INFO 23-08-14 09:34:56.8124 UTC kernel.cc:1074] Use fast generic engine\n"
     ]
    },
    {
     "name": "stdout",
     "output_type": "stream",
     "text": [
      "Model compiled.\n",
      "1/1 [==============================] - 0s 148ms/step\n",
      "1/1 [==============================] - 0s 395ms/step - loss: 0.0000e+00 - accuracy: 0.9268 - binary_crossentropy: 0.2691\n",
      "##### Fold 5\n",
      "Warning: Some of the feature names have been changed automatically to be compatible with SavedModels because fix_feature_names=True.\n",
      "Warning: Some of the feature names have been changed automatically to be compatible with SavedModels because fix_feature_names=True.\n",
      "Reading training dataset...\n",
      "Training dataset read in 0:00:00.206936. Found 494 examples.\n",
      "Training model...\n",
      "Model trained in 0:00:00.270347\n",
      "Compiling model...\n"
     ]
    },
    {
     "name": "stderr",
     "output_type": "stream",
     "text": [
      "[INFO 23-08-14 09:34:58.9416 UTC kernel.cc:1242] Loading model from path /tmp/tmp73z62ev4/model/ with prefix bce868702ec34c96\n",
      "[INFO 23-08-14 09:34:59.0007 UTC decision_forest.cc:660] Model loaded with 300 root(s), 13916 node(s), and 57 input feature(s).\n",
      "[INFO 23-08-14 09:34:59.0008 UTC abstract_model.cc:1311] Engine \"RandomForestOptPred\" built\n",
      "[INFO 23-08-14 09:34:59.0008 UTC kernel.cc:1074] Use fast generic engine\n"
     ]
    },
    {
     "name": "stdout",
     "output_type": "stream",
     "text": [
      "Model compiled.\n",
      "1/1 [==============================] - 0s 146ms/step\n",
      "1/1 [==============================] - 0s 396ms/step - loss: 0.0000e+00 - accuracy: 0.9512 - binary_crossentropy: 0.2225\n"
     ]
    }
   ],
   "source": [
    "# Loop through each fold\n",
    "label = \"Class\"\n",
    "rf = tfdf.keras.RandomForestModel()\n",
    "# rf = tfdf.keras.RandomForestModel(hyperparameter_template=\"benchmark_rank1\",max_depth=5, num_trees=500)\n",
    "for i, (train_index, valid_index) in enumerate(kf.split(X=dataset_df)):\n",
    "# for i, (train_index, valid_index) in enumerate(sgk.split(X= X_g, y = Y_g, groups = Combined_Group)):\n",
    "        print('##### Fold',i+1)\n",
    "\n",
    "        # Fetch values corresponding to the index \n",
    "        train_df = dataset_df.iloc[train_index]\n",
    "        valid_df = dataset_df.iloc[valid_index]\n",
    "        valid_ids = valid_df.index.values\n",
    "        \n",
    "        # Select only feature columns for training.\n",
    "        train_df = train_df[FEATURE_COLUMNS]\n",
    "        valid_df = valid_df[FEATURE_COLUMNS]\n",
    "        \n",
    "        # There's one more step required before we can train the model. \n",
    "        # We need to convert the datatset from Pandas format (pd.DataFrame)\n",
    "        # into TensorFlow Datasets format (tf.data.Dataset).\n",
    "        # TensorFlow Datasets is a high performance data loading library \n",
    "        # which is helpful when training neural networks with accelerators like GPUs and TPUs.\n",
    "        # Note: Some column names contains white spaces at the end of their name, \n",
    "        # which is non-comaptible with SavedModels save format. \n",
    "        # By default, `pd_dataframe_to_tf_dataset` function will convert \n",
    "        # this column names into a compatible format. \n",
    "        # So you can safely ignore the warnings related to this.\n",
    "        train_ds = tfdf.keras.pd_dataframe_to_tf_dataset(train_df, label=label)\n",
    "        valid_ds = tfdf.keras.pd_dataframe_to_tf_dataset(valid_df, label=label)\n",
    "\n",
    "        # Define the model and metrics\n",
    "#         rf = tfdf.keras.RandomForestModel()\n",
    "        rf.compile(metrics=[\"accuracy\", \"binary_crossentropy\"]) \n",
    "        \n",
    "        # Train the model\n",
    "        # We will train the model using a one-liner.\n",
    "        # Note: you may see a warning about Autograph. \n",
    "        # You can safely ignore this, it will be fixed in the next release.\n",
    "        # Previously calculated class weights is used to handle imbalance.\n",
    "#         rf.fit(x=train_ds, class_weight=class_weight)\n",
    "        \n",
    "#         # Store the model\n",
    "#         models[f\"fold_{i+1}\"] = rf\n",
    "        '''Testing function, shall be deleted if doesn't work '''\n",
    "        \n",
    "        if(i == 0):\n",
    "            rf.fit(x=train_ds, class_weight=class_weight)\n",
    "            models[f\"fold_{i+1}\"] = rf\n",
    "        elif(i > 0 ):\n",
    "            models[f\"fold_{i}\"].fit(x=train_ds, class_weight=class_weight)\n",
    "            models[f\"fold_{i+1}\"] = models[f\"fold_{i}\"]\n",
    "        \n",
    "        # Predict OOF value for validation data\n",
    "        predict = rf.predict(x=valid_ds)\n",
    "        \n",
    "        # Store the predictions in oof dataframe\n",
    "        oof.loc[valid_ids, 0] = predict.flatten() \n",
    "        \n",
    "        # Evaluate and store the metrics in respective dicts\n",
    "        evaluation = rf.evaluate(x=valid_ds,return_dict=True)\n",
    "        accuracy[f\"fold_{i+1}\"] = evaluation[\"accuracy\"]\n",
    "        cross_entropy[f\"fold_{i+1}\"]= evaluation[\"binary_crossentropy\"]"
   ]
  },
  {
   "cell_type": "code",
   "execution_count": null,
   "id": "96fed01e",
   "metadata": {
    "papermill": {
     "duration": 0.052921,
     "end_time": "2023-08-14T09:35:00.072566",
     "exception": false,
     "start_time": "2023-08-14T09:35:00.019645",
     "status": "completed"
    },
    "tags": []
   },
   "outputs": [],
   "source": []
  },
  {
   "cell_type": "markdown",
   "id": "c9916db9",
   "metadata": {
    "papermill": {
     "duration": 0.03913,
     "end_time": "2023-08-14T09:35:00.156880",
     "exception": false,
     "start_time": "2023-08-14T09:35:00.117750",
     "status": "completed"
    },
    "tags": []
   },
   "source": [
    "# Visualize the model\n",
    "One benefit of tree-based models is that we can easily visualize them. The default number of trees used in the Random Forests is 300. We can select any tree for display.\n",
    "\n",
    "Let us pick one model from the `models` dict and select a tree for display."
   ]
  },
  {
   "cell_type": "code",
   "execution_count": 19,
   "id": "9866d134",
   "metadata": {
    "execution": {
     "iopub.execute_input": "2023-08-14T09:35:00.235790Z",
     "iopub.status.busy": "2023-08-14T09:35:00.235136Z",
     "iopub.status.idle": "2023-08-14T09:35:00.250300Z",
     "shell.execute_reply": "2023-08-14T09:35:00.249194Z"
    },
    "papermill": {
     "duration": 0.054497,
     "end_time": "2023-08-14T09:35:00.253598",
     "exception": false,
     "start_time": "2023-08-14T09:35:00.199101",
     "status": "completed"
    },
    "tags": []
   },
   "outputs": [
    {
     "data": {
      "text/html": [
       "\n",
       "<script src=\"https://d3js.org/d3.v6.min.js\"></script>\n",
       "<div id=\"tree_plot_b70b421a7d3f43fbaf9bf184dae845ad\"></div>\n",
       "<script>\n",
       "/*\n",
       " * Copyright 2021 Google LLC.\n",
       " * Licensed under the Apache License, Version 2.0 (the \"License\");\n",
       " * you may not use this file except in compliance with the License.\n",
       " * You may obtain a copy of the License at\n",
       " *\n",
       " *     https://www.apache.org/licenses/LICENSE-2.0\n",
       " *\n",
       " * Unless required by applicable law or agreed to in writing, software\n",
       " * distributed under the License is distributed on an \"AS IS\" BASIS,\n",
       " * WITHOUT WARRANTIES OR CONDITIONS OF ANY KIND, either express or implied.\n",
       " * See the License for the specific language governing permissions and\n",
       " * limitations under the License.\n",
       " */\n",
       "\n",
       "/**\n",
       " *  Plotting of decision trees generated by TF-DF.\n",
       " *\n",
       " *  A tree is a recursive structure of node objects.\n",
       " *  A node contains one or more of the following components:\n",
       " *\n",
       " *    - A value: Representing the output of the node. If the node is not a leaf,\n",
       " *      the value is only present for analysis i.e. it is not used for\n",
       " *      predictions.\n",
       " *\n",
       " *    - A condition : For non-leaf nodes, the condition (also known as split)\n",
       " *      defines a binary test to branch to the positive or negative child.\n",
       " *\n",
       " *    - An explanation: Generally a plot showing the relation between the label\n",
       " *      and the condition to give insights about the effect of the condition.\n",
       " *\n",
       " *    - Two children : For non-leaf nodes, the children nodes. The first\n",
       " *      children (i.e. \"node.children[0]\") is the negative children (drawn in\n",
       " *      red). The second children is the positive one (drawn in green).\n",
       " *\n",
       " */\n",
       "\n",
       "/**\n",
       " * Plots a single decision tree into a DOM element.\n",
       " * @param {!options} options Dictionary of configurations.\n",
       " * @param {!tree} raw_tree Recursive tree structure.\n",
       " * @param {string} canvas_id Id of the output dom element.\n",
       " */\n",
       "function display_tree(options, raw_tree, canvas_id) {\n",
       "  console.log(options);\n",
       "\n",
       "  // Determine the node placement.\n",
       "  const tree_struct = d3.tree().nodeSize(\n",
       "      [options.node_y_offset, options.node_x_offset])(d3.hierarchy(raw_tree));\n",
       "\n",
       "  // Boundaries of the node placement.\n",
       "  let x_min = Infinity;\n",
       "  let x_max = -x_min;\n",
       "  let y_min = Infinity;\n",
       "  let y_max = -x_min;\n",
       "\n",
       "  tree_struct.each(d => {\n",
       "    if (d.x > x_max) x_max = d.x;\n",
       "    if (d.x < x_min) x_min = d.x;\n",
       "    if (d.y > y_max) y_max = d.y;\n",
       "    if (d.y < y_min) y_min = d.y;\n",
       "  });\n",
       "\n",
       "  // Size of the plot.\n",
       "  const width = y_max - y_min + options.node_x_size + options.margin * 2;\n",
       "  const height = x_max - x_min + options.node_y_size + options.margin * 2 +\n",
       "      options.node_y_offset - options.node_y_size;\n",
       "\n",
       "  const plot = d3.select(canvas_id);\n",
       "\n",
       "  // Tool tip\n",
       "  options.tooltip = plot.append('div')\n",
       "                        .attr('width', 100)\n",
       "                        .attr('height', 100)\n",
       "                        .style('padding', '4px')\n",
       "                        .style('background', '#fff')\n",
       "                        .style('box-shadow', '4px 4px 0px rgba(0,0,0,0.1)')\n",
       "                        .style('border', '1px solid black')\n",
       "                        .style('font-family', 'sans-serif')\n",
       "                        .style('font-size', options.font_size)\n",
       "                        .style('position', 'absolute')\n",
       "                        .style('z-index', '10')\n",
       "                        .attr('pointer-events', 'none')\n",
       "                        .style('display', 'none');\n",
       "\n",
       "  // Create canvas\n",
       "  const svg = plot.append('svg').attr('width', width).attr('height', height);\n",
       "  const graph =\n",
       "      svg.style('overflow', 'visible')\n",
       "          .append('g')\n",
       "          .attr('font-family', 'sans-serif')\n",
       "          .attr('font-size', options.font_size)\n",
       "          .attr(\n",
       "              'transform',\n",
       "              () => `translate(${options.margin},${\n",
       "                  - x_min + options.node_y_offset / 2 + options.margin})`);\n",
       "\n",
       "  // Plot bounding box.\n",
       "  if (options.show_plot_bounding_box) {\n",
       "    svg.append('rect')\n",
       "        .attr('width', width)\n",
       "        .attr('height', height)\n",
       "        .attr('fill', 'none')\n",
       "        .attr('stroke-width', 1.0)\n",
       "        .attr('stroke', 'black');\n",
       "  }\n",
       "\n",
       "  // Draw the edges.\n",
       "  display_edges(options, graph, tree_struct);\n",
       "\n",
       "  // Draw the nodes.\n",
       "  display_nodes(options, graph, tree_struct);\n",
       "}\n",
       "\n",
       "/**\n",
       " * Draw the nodes of the tree.\n",
       " * @param {!options} options Dictionary of configurations.\n",
       " * @param {!graph} graph D3 search handle containing the graph.\n",
       " * @param {!tree_struct} tree_struct Structure of the tree (node placement,\n",
       " *     data, etc.).\n",
       " */\n",
       "function display_nodes(options, graph, tree_struct) {\n",
       "  const nodes = graph.append('g')\n",
       "                    .selectAll('g')\n",
       "                    .data(tree_struct.descendants())\n",
       "                    .join('g')\n",
       "                    .attr('transform', d => `translate(${d.y},${d.x})`);\n",
       "\n",
       "  nodes.append('rect')\n",
       "      .attr('x', 0.5)\n",
       "      .attr('y', 0.5)\n",
       "      .attr('width', options.node_x_size)\n",
       "      .attr('height', options.node_y_size)\n",
       "      .attr('stroke', 'lightgrey')\n",
       "      .attr('stroke-width', 1)\n",
       "      .attr('fill', 'white')\n",
       "      .attr('y', -options.node_y_size / 2);\n",
       "\n",
       "  // Brackets on the right of condition nodes without children.\n",
       "  non_leaf_node_without_children =\n",
       "      nodes.filter(node => node.data.condition != null && node.children == null)\n",
       "          .append('g')\n",
       "          .attr('transform', `translate(${options.node_x_size},0)`);\n",
       "\n",
       "  non_leaf_node_without_children.append('path')\n",
       "      .attr('d', 'M0,0 C 10,0 0,10 10,10')\n",
       "      .attr('fill', 'none')\n",
       "      .attr('stroke-width', 1.0)\n",
       "      .attr('stroke', '#F00');\n",
       "\n",
       "  non_leaf_node_without_children.append('path')\n",
       "      .attr('d', 'M0,0 C 10,0 0,-10 10,-10')\n",
       "      .attr('fill', 'none')\n",
       "      .attr('stroke-width', 1.0)\n",
       "      .attr('stroke', '#0F0');\n",
       "\n",
       "  const node_content = nodes.append('g').attr(\n",
       "      'transform',\n",
       "      `translate(0,${options.node_padding - options.node_y_size / 2})`);\n",
       "\n",
       "  node_content.append(node => create_node_element(options, node));\n",
       "}\n",
       "\n",
       "/**\n",
       " * Creates the D3 content for a single node.\n",
       " * @param {!options} options Dictionary of configurations.\n",
       " * @param {!node} node Node to draw.\n",
       " * @return {!d3} D3 content.\n",
       " */\n",
       "function create_node_element(options, node) {\n",
       "  // Output accumulator.\n",
       "  let output = {\n",
       "    // Content to draw.\n",
       "    content: d3.create('svg:g'),\n",
       "    // Vertical offset to the next element to draw.\n",
       "    vertical_offset: 0\n",
       "  };\n",
       "\n",
       "  // Conditions.\n",
       "  if (node.data.condition != null) {\n",
       "    display_condition(options, node.data.condition, output);\n",
       "  }\n",
       "\n",
       "  // Values.\n",
       "  if (node.data.value != null) {\n",
       "    display_value(options, node.data.value, output);\n",
       "  }\n",
       "\n",
       "  // Explanations.\n",
       "  if (node.data.explanation != null) {\n",
       "    display_explanation(options, node.data.explanation, output);\n",
       "  }\n",
       "\n",
       "  return output.content.node();\n",
       "}\n",
       "\n",
       "\n",
       "/**\n",
       " * Adds a single line of text inside of a node.\n",
       " * @param {!options} options Dictionary of configurations.\n",
       " * @param {string} text Text to display.\n",
       " * @param {!output} output Output display accumulator.\n",
       " */\n",
       "function display_node_text(options, text, output) {\n",
       "  output.content.append('text')\n",
       "      .attr('x', options.node_padding)\n",
       "      .attr('y', output.vertical_offset)\n",
       "      .attr('alignment-baseline', 'hanging')\n",
       "      .text(text);\n",
       "  output.vertical_offset += 10;\n",
       "}\n",
       "\n",
       "/**\n",
       " * Adds a single line of text inside of a node with a tooltip.\n",
       " * @param {!options} options Dictionary of configurations.\n",
       " * @param {string} text Text to display.\n",
       " * @param {string} tooltip Text in the Tooltip.\n",
       " * @param {!output} output Output display accumulator.\n",
       " */\n",
       "function display_node_text_with_tooltip(options, text, tooltip, output) {\n",
       "  const item = output.content.append('text')\n",
       "                   .attr('x', options.node_padding)\n",
       "                   .attr('alignment-baseline', 'hanging')\n",
       "                   .text(text);\n",
       "\n",
       "  add_tooltip(options, item, () => tooltip);\n",
       "  output.vertical_offset += 10;\n",
       "}\n",
       "\n",
       "/**\n",
       " * Adds a tooltip to a dom element.\n",
       " * @param {!options} options Dictionary of configurations.\n",
       " * @param {!dom} target Dom element to equip with a tooltip.\n",
       " * @param {!func} get_content Generates the html content of the tooltip.\n",
       " */\n",
       "function add_tooltip(options, target, get_content) {\n",
       "  function show(d) {\n",
       "    options.tooltip.style('display', 'block');\n",
       "    options.tooltip.html(get_content());\n",
       "  }\n",
       "\n",
       "  function hide(d) {\n",
       "    options.tooltip.style('display', 'none');\n",
       "  }\n",
       "\n",
       "  function move(d) {\n",
       "    options.tooltip.style('display', 'block');\n",
       "    options.tooltip.style('left', (d.pageX + 5) + 'px');\n",
       "    options.tooltip.style('top', d.pageY + 'px');\n",
       "  }\n",
       "\n",
       "  target.on('mouseover', show);\n",
       "  target.on('mouseout', hide);\n",
       "  target.on('mousemove', move);\n",
       "}\n",
       "\n",
       "/**\n",
       " * Adds a condition inside of a node.\n",
       " * @param {!options} options Dictionary of configurations.\n",
       " * @param {!condition} condition Condition to display.\n",
       " * @param {!output} output Output display accumulator.\n",
       " */\n",
       "function display_condition(options, condition, output) {\n",
       "  threshold_format = d3.format('r');\n",
       "\n",
       "  if (condition.type === 'IS_MISSING') {\n",
       "    display_node_text(options, `${condition.attribute} is missing`, output);\n",
       "    return;\n",
       "  }\n",
       "\n",
       "  if (condition.type === 'IS_TRUE') {\n",
       "    display_node_text(options, `${condition.attribute} is true`, output);\n",
       "    return;\n",
       "  }\n",
       "\n",
       "  if (condition.type === 'NUMERICAL_IS_HIGHER_THAN') {\n",
       "    format = d3.format('r');\n",
       "    display_node_text(\n",
       "        options,\n",
       "        `${condition.attribute} >= ${threshold_format(condition.threshold)}`,\n",
       "        output);\n",
       "    return;\n",
       "  }\n",
       "\n",
       "  if (condition.type === 'CATEGORICAL_IS_IN') {\n",
       "    display_node_text_with_tooltip(\n",
       "        options, `${condition.attribute} in [...]`,\n",
       "        `${condition.attribute} in [${condition.mask}]`, output);\n",
       "    return;\n",
       "  }\n",
       "\n",
       "  if (condition.type === 'CATEGORICAL_SET_CONTAINS') {\n",
       "    display_node_text_with_tooltip(\n",
       "        options, `${condition.attribute} intersect [...]`,\n",
       "        `${condition.attribute} intersect [${condition.mask}]`, output);\n",
       "    return;\n",
       "  }\n",
       "\n",
       "  if (condition.type === 'NUMERICAL_SPARSE_OBLIQUE') {\n",
       "    display_node_text_with_tooltip(\n",
       "        options, `Sparse oblique split...`,\n",
       "        `[${condition.attributes}]*[${condition.weights}]>=${\n",
       "            threshold_format(condition.threshold)}`,\n",
       "        output);\n",
       "    return;\n",
       "  }\n",
       "\n",
       "  display_node_text(\n",
       "      options, `Non supported condition ${condition.type}`, output);\n",
       "}\n",
       "\n",
       "/**\n",
       " * Adds a value inside of a node.\n",
       " * @param {!options} options Dictionary of configurations.\n",
       " * @param {!value} value Value to display.\n",
       " * @param {!output} output Output display accumulator.\n",
       " */\n",
       "function display_value(options, value, output) {\n",
       "  if (value.type === 'PROBABILITY') {\n",
       "    const left_margin = 0;\n",
       "    const right_margin = 50;\n",
       "    const plot_width = options.node_x_size - options.node_padding * 2 -\n",
       "        left_margin - right_margin;\n",
       "\n",
       "    let cusum = Array.from(d3.cumsum(value.distribution));\n",
       "    cusum.unshift(0);\n",
       "    const distribution_plot = output.content.append('g').attr(\n",
       "        'transform', `translate(0,${output.vertical_offset + 0.5})`);\n",
       "\n",
       "    distribution_plot.selectAll('rect')\n",
       "        .data(value.distribution)\n",
       "        .join('rect')\n",
       "        .attr('height', 10)\n",
       "        .attr(\n",
       "            'x',\n",
       "            (d, i) =>\n",
       "                (cusum[i] * plot_width + left_margin + options.node_padding))\n",
       "        .attr('width', (d, i) => d * plot_width)\n",
       "        .style('fill', (d, i) => d3.schemeSet1[i]);\n",
       "\n",
       "    const num_examples =\n",
       "        output.content.append('g')\n",
       "            .attr('transform', `translate(0,${output.vertical_offset})`)\n",
       "            .append('text')\n",
       "            .attr('x', options.node_x_size - options.node_padding)\n",
       "            .attr('alignment-baseline', 'hanging')\n",
       "            .attr('text-anchor', 'end')\n",
       "            .text(`(${value.num_examples})`);\n",
       "\n",
       "    const distribution_details = d3.create('ul');\n",
       "    distribution_details.selectAll('li')\n",
       "        .data(value.distribution)\n",
       "        .join('li')\n",
       "        .append('span')\n",
       "        .text(\n",
       "            (d, i) =>\n",
       "                'class ' + i + ': ' + d3.format('.3%')(value.distribution[i]));\n",
       "\n",
       "    add_tooltip(options, distribution_plot, () => distribution_details.html());\n",
       "    add_tooltip(options, num_examples, () => 'Number of examples');\n",
       "\n",
       "    output.vertical_offset += 10;\n",
       "    return;\n",
       "  }\n",
       "\n",
       "  if (value.type === 'REGRESSION') {\n",
       "    display_node_text(\n",
       "        options,\n",
       "        'value: ' + d3.format('r')(value.value) + ` (` +\n",
       "            d3.format('.6')(value.num_examples) + `)`,\n",
       "        output);\n",
       "    return;\n",
       "  }\n",
       "\n",
       "  display_node_text(options, `Non supported value ${value.type}`, output);\n",
       "}\n",
       "\n",
       "/**\n",
       " * Adds an explanation inside of a node.\n",
       " * @param {!options} options Dictionary of configurations.\n",
       " * @param {!explanation} explanation Explanation to display.\n",
       " * @param {!output} output Output display accumulator.\n",
       " */\n",
       "function display_explanation(options, explanation, output) {\n",
       "  // Margin before the explanation.\n",
       "  output.vertical_offset += 10;\n",
       "\n",
       "  display_node_text(\n",
       "      options, `Non supported explanation ${explanation.type}`, output);\n",
       "}\n",
       "\n",
       "\n",
       "/**\n",
       " * Draw the edges of the tree.\n",
       " * @param {!options} options Dictionary of configurations.\n",
       " * @param {!graph} graph D3 search handle containing the graph.\n",
       " * @param {!tree_struct} tree_struct Structure of the tree (node placement,\n",
       " *     data, etc.).\n",
       " */\n",
       "function display_edges(options, graph, tree_struct) {\n",
       "  // Draw an edge between a parent and a child node with a bezier.\n",
       "  function draw_single_edge(d) {\n",
       "    return 'M' + (d.source.y + options.node_x_size) + ',' + d.source.x + ' C' +\n",
       "        (d.source.y + options.node_x_size + options.edge_rounding) + ',' +\n",
       "        d.source.x + ' ' + (d.target.y - options.edge_rounding) + ',' +\n",
       "        d.target.x + ' ' + d.target.y + ',' + d.target.x;\n",
       "  }\n",
       "\n",
       "  graph.append('g')\n",
       "      .attr('fill', 'none')\n",
       "      .attr('stroke-width', 1.2)\n",
       "      .selectAll('path')\n",
       "      .data(tree_struct.links())\n",
       "      .join('path')\n",
       "      .attr('d', draw_single_edge)\n",
       "      .attr(\n",
       "          'stroke', d => (d.target === d.source.children[0]) ? '#0F0' : '#F00');\n",
       "}\n",
       "\n",
       "display_tree({\"margin\": 10, \"node_x_size\": 160, \"node_y_size\": 28, \"node_x_offset\": 180, \"node_y_offset\": 33, \"font_size\": 10, \"edge_rounding\": 20, \"node_padding\": 2, \"show_plot_bounding_box\": false}, {\"value\": {\"type\": \"PROBABILITY\", \"distribution\": [0.5583271120172474, 0.4416728879827526], \"num_examples\": 459.186415374279}, \"condition\": {\"type\": \"NUMERICAL_IS_HIGHER_THAN\", \"attribute\": \"AB\", \"threshold\": 0.5020774602890015}, \"children\": [{\"value\": {\"type\": \"PROBABILITY\", \"distribution\": [0.3093622719572429, 0.6906377280427571], \"num_examples\": 186.1202546954155}, \"condition\": {\"type\": \"NUMERICAL_IS_HIGHER_THAN\", \"attribute\": \"EL\", \"threshold\": 50.58768081665039}, \"children\": [{\"value\": {\"type\": \"PROBABILITY\", \"distribution\": [0.149627150058888, 0.8503728499411121], \"num_examples\": 137.7228161096573}, \"condition\": {\"type\": \"NUMERICAL_IS_HIGHER_THAN\", \"attribute\": \"EE\", \"threshold\": 1.3302299976348877}, \"children\": [{\"value\": {\"type\": \"PROBABILITY\", \"distribution\": [0.36135507339621975, 0.6386449266037802], \"num_examples\": 53.67267036437988}, \"condition\": {\"type\": \"NUMERICAL_IS_HIGHER_THAN\", \"attribute\": \"DA\", \"threshold\": 40.772010803222656}}, {\"value\": {\"type\": \"PROBABILITY\", \"distribution\": [0.014422113405423034, 0.985577886594577], \"num_examples\": 84.0501457452774}, \"condition\": {\"type\": \"NUMERICAL_IS_HIGHER_THAN\", \"attribute\": \"DI\", \"threshold\": 139.45278930664062}}]}, {\"value\": {\"type\": \"PROBABILITY\", \"distribution\": [0.763914650395189, 0.23608534960481095], \"num_examples\": 48.39743858575821}, \"condition\": {\"type\": \"NUMERICAL_IS_HIGHER_THAN\", \"attribute\": \"FR\", \"threshold\": 1.9050099849700928}, \"children\": [{\"value\": {\"type\": \"PROBABILITY\", \"distribution\": [0.17504051353296857, 0.8249594864670314], \"num_examples\": 13.850287675857544}}, {\"value\": {\"type\": \"PROBABILITY\", \"distribution\": [1.0, 0.0], \"num_examples\": 34.547150909900665}}]}]}, {\"value\": {\"type\": \"PROBABILITY\", \"distribution\": [0.7280200513656202, 0.2719799486343798], \"num_examples\": 273.0661606788635}, \"condition\": {\"type\": \"NUMERICAL_IS_HIGHER_THAN\", \"attribute\": \"AH\", \"threshold\": 86.65890502929688}, \"children\": [{\"value\": {\"type\": \"PROBABILITY\", \"distribution\": [0.956647643538324, 0.043352356461675984], \"num_examples\": 65.88987970352173}, \"condition\": {\"type\": \"NUMERICAL_IS_HIGHER_THAN\", \"attribute\": \"GI\", \"threshold\": 111.74568176269531}, \"children\": [{\"value\": {\"type\": \"PROBABILITY\", \"distribution\": [0.4590860698596684, 0.5409139301403316], \"num_examples\": 5.280843019485474}}, {\"value\": {\"type\": \"PROBABILITY\", \"distribution\": [1.0, 0.0], \"num_examples\": 60.609036684036255}}]}, {\"value\": {\"type\": \"PROBABILITY\", \"distribution\": [0.6553078447643335, 0.34469215523566654], \"num_examples\": 207.1762809753418}, \"condition\": {\"type\": \"NUMERICAL_IS_HIGHER_THAN\", \"attribute\": \"FD_\", \"threshold\": 6.21900749206543}, \"children\": [{\"value\": {\"type\": \"PROBABILITY\", \"distribution\": [0.2650880670362104, 0.7349119329637896], \"num_examples\": 77.7367035150528}, \"condition\": {\"type\": \"NUMERICAL_IS_HIGHER_THAN\", \"attribute\": \"BQ\", \"threshold\": 173.95018005371094}}, {\"value\": {\"type\": \"PROBABILITY\", \"distribution\": [0.8896596540188657, 0.11034034598113426], \"num_examples\": 129.439577460289}, \"condition\": {\"type\": \"NUMERICAL_IS_HIGHER_THAN\", \"attribute\": \"GE\", \"threshold\": 72.90921020507812}}]}]}]}, \"#tree_plot_b70b421a7d3f43fbaf9bf184dae845ad\")\n",
       "</script>\n"
      ],
      "text/plain": [
       "<IPython.core.display.HTML object>"
      ]
     },
     "execution_count": 19,
     "metadata": {},
     "output_type": "execute_result"
    }
   ],
   "source": [
    "tfdf.model_plotter.plot_model_in_colab(models['fold_1'], tree_idx=0, max_depth=3)"
   ]
  },
  {
   "cell_type": "markdown",
   "id": "6e04bf81",
   "metadata": {
    "papermill": {
     "duration": 0.039716,
     "end_time": "2023-08-14T09:35:00.344160",
     "exception": false,
     "start_time": "2023-08-14T09:35:00.304444",
     "status": "completed"
    },
    "tags": []
   },
   "source": [
    "# Evaluate the model on the Out of bag (OOB) data and the validation dataset\n",
    "\n",
    "Before training, we have manually seperated 20% of the dataset for validation named as `valid_ds`.\n",
    "\n",
    "We can also use Out of bag (OOB) score to validate our RandomForestModel.\n",
    "To train a Random Forest Model, a set of random samples from training set are choosen by the algorithm and the rest of the samples are used to finetune the model. The subset of data that is not chosen is known as Out of bag data (OOB).\n",
    "OOB score is computed on the OOB data.\n",
    "\n",
    "Read more about OOB data [here](https://developers.google.com/machine-learning/decision-forests/out-of-bag).\n",
    "\n",
    "The training logs show the `binary_crossentropy` evaluated on the out of bag dataset according to the number of trees in the model. Let us plot this for the models of each fold.\n",
    "\n",
    "Note: Smaller values are better for this hyperparameter."
   ]
  },
  {
   "cell_type": "code",
   "execution_count": 20,
   "id": "3333270b",
   "metadata": {
    "execution": {
     "iopub.execute_input": "2023-08-14T09:35:00.423302Z",
     "iopub.status.busy": "2023-08-14T09:35:00.422252Z",
     "iopub.status.idle": "2023-08-14T09:35:01.512125Z",
     "shell.execute_reply": "2023-08-14T09:35:01.510807Z"
    },
    "papermill": {
     "duration": 1.130673,
     "end_time": "2023-08-14T09:35:01.515010",
     "exception": false,
     "start_time": "2023-08-14T09:35:00.384337",
     "status": "completed"
    },
    "tags": []
   },
   "outputs": [
    {
     "data": {
      "image/png": "[encoded data removed]",
      "text/plain": [
       "<Figure size 1000x1000 with 6 Axes>"
      ]
     },
     "metadata": {},
     "output_type": "display_data"
    }
   ],
   "source": [
    "figure, axis = plt.subplots(3, 2, figsize=(10, 10))\n",
    "plt.subplots_adjust(hspace=0.5, wspace=0.3)\n",
    "\n",
    "for i, fold_no in enumerate(models.keys()):\n",
    "    row = i//2\n",
    "    col = i % 2\n",
    "    logs = models[fold_no].make_inspector().training_logs()\n",
    "    axis[row, col].plot([log.num_trees for log in logs], [log.evaluation.loss for log in logs])\n",
    "    axis[row, col].set_title(f\"Fold {i+1}\")\n",
    "    axis[row, col].set_xlabel('Number of trees')\n",
    "    axis[row, col].set_ylabel('Loss (out-of-bag)')\n",
    "\n",
    "axis[2][1].set_visible(False)\n",
    "plt.show()"
   ]
  },
  {
   "cell_type": "markdown",
   "id": "98f11a19",
   "metadata": {
    "papermill": {
     "duration": 0.034849,
     "end_time": "2023-08-14T09:35:01.585631",
     "exception": false,
     "start_time": "2023-08-14T09:35:01.550782",
     "status": "completed"
    },
    "tags": []
   },
   "source": [
    "We can also see some general stats on the OOB dataset:"
   ]
  },
  {
   "cell_type": "code",
   "execution_count": 21,
   "id": "de098fbf",
   "metadata": {
    "execution": {
     "iopub.execute_input": "2023-08-14T09:35:01.661801Z",
     "iopub.status.busy": "2023-08-14T09:35:01.661331Z",
     "iopub.status.idle": "2023-08-14T09:35:01.677349Z",
     "shell.execute_reply": "2023-08-14T09:35:01.676285Z"
    },
    "papermill": {
     "duration": 0.057639,
     "end_time": "2023-08-14T09:35:01.680144",
     "exception": false,
     "start_time": "2023-08-14T09:35:01.622505",
     "status": "completed"
    },
    "tags": []
   },
   "outputs": [
    {
     "name": "stdout",
     "output_type": "stream",
     "text": [
      "fold_1 Evaluation(num_examples=494, accuracy=0.8683688603016692, loss=0.3770846636024589, rmse=None, ndcg=None, aucs=None, auuc=None, qini=None)\n",
      "fold_2 Evaluation(num_examples=494, accuracy=0.8683688603016692, loss=0.3770846636024589, rmse=None, ndcg=None, aucs=None, auuc=None, qini=None)\n",
      "fold_3 Evaluation(num_examples=494, accuracy=0.8683688603016692, loss=0.3770846636024589, rmse=None, ndcg=None, aucs=None, auuc=None, qini=None)\n",
      "fold_4 Evaluation(num_examples=494, accuracy=0.8683688603016692, loss=0.3770846636024589, rmse=None, ndcg=None, aucs=None, auuc=None, qini=None)\n",
      "fold_5 Evaluation(num_examples=494, accuracy=0.8683688603016692, loss=0.3770846636024589, rmse=None, ndcg=None, aucs=None, auuc=None, qini=None)\n"
     ]
    }
   ],
   "source": [
    "for _model in models:\n",
    "    inspector = models[_model].make_inspector()\n",
    "    print(_model, inspector.evaluation())"
   ]
  },
  {
   "cell_type": "markdown",
   "id": "97ded49d",
   "metadata": {
    "papermill": {
     "duration": 0.037807,
     "end_time": "2023-08-14T09:35:01.754647",
     "exception": false,
     "start_time": "2023-08-14T09:35:01.716840",
     "status": "completed"
    },
    "tags": []
   },
   "source": [
    "Now, let us check the evaluation metrics for each fold and its average value."
   ]
  },
  {
   "cell_type": "code",
   "execution_count": 22,
   "id": "42cec356",
   "metadata": {
    "execution": {
     "iopub.execute_input": "2023-08-14T09:35:01.832697Z",
     "iopub.status.busy": "2023-08-14T09:35:01.831845Z",
     "iopub.status.idle": "2023-08-14T09:35:01.840049Z",
     "shell.execute_reply": "2023-08-14T09:35:01.838411Z"
    },
    "papermill": {
     "duration": 0.04867,
     "end_time": "2023-08-14T09:35:01.842610",
     "exception": false,
     "start_time": "2023-08-14T09:35:01.793940",
     "status": "completed"
    },
    "tags": []
   },
   "outputs": [
    {
     "name": "stdout",
     "output_type": "stream",
     "text": [
      "fold_1: acc: 0.9516 loss: 0.2105\n",
      "fold_2: acc: 0.8790 loss: 0.2651\n",
      "fold_3: acc: 0.9187 loss: 0.2716\n",
      "fold_4: acc: 0.9268 loss: 0.2691\n",
      "fold_5: acc: 0.9512 loss: 0.2225\n",
      "\n",
      "Average accuracy: 0.9255  Average loss: 0.2478\n"
     ]
    }
   ],
   "source": [
    "average_loss = 0\n",
    "average_acc = 0\n",
    "\n",
    "for _model in  models:\n",
    "    average_loss += cross_entropy[_model]\n",
    "    average_acc += accuracy[_model]\n",
    "    print(f\"{_model}: acc: {accuracy[_model]:.4f} loss: {cross_entropy[_model]:.4f}\")\n",
    "\n",
    "print(f\"\\nAverage accuracy: {average_acc/5:.4f}  Average loss: {average_loss/5:.4f}\")"
   ]
  },
  {
   "cell_type": "markdown",
   "id": "41bc7795",
   "metadata": {
    "papermill": {
     "duration": 0.035153,
     "end_time": "2023-08-14T09:35:01.915460",
     "exception": false,
     "start_time": "2023-08-14T09:35:01.880307",
     "status": "completed"
    },
    "tags": []
   },
   "source": [
    "# Variable importances\n",
    "\n",
    "Variable importances generally indicate how much a feature contributes to the model predictions or quality. There are several ways to identify important features using TensorFlow Decision Forests. Let us pick one model from models dict and inspect it.\n",
    "\n",
    "Let us list the available `Variable Importances` for Decision Trees:"
   ]
  },
  {
   "cell_type": "code",
   "execution_count": 23,
   "id": "ab92e860",
   "metadata": {
    "execution": {
     "iopub.execute_input": "2023-08-14T09:35:02.014290Z",
     "iopub.status.busy": "2023-08-14T09:35:02.012631Z",
     "iopub.status.idle": "2023-08-14T09:35:02.027323Z",
     "shell.execute_reply": "2023-08-14T09:35:02.025420Z"
    },
    "papermill": {
     "duration": 0.06728,
     "end_time": "2023-08-14T09:35:02.030094",
     "exception": false,
     "start_time": "2023-08-14T09:35:01.962814",
     "status": "completed"
    },
    "tags": []
   },
   "outputs": [
    {
     "name": "stdout",
     "output_type": "stream",
     "text": [
      "Available variable importances:\n",
      "\t SUM_SCORE\n",
      "\t INV_MEAN_MIN_DEPTH\n",
      "\t NUM_NODES\n",
      "\t NUM_AS_ROOT\n"
     ]
    }
   ],
   "source": [
    "inspector = models['fold_1'].make_inspector()\n",
    "\n",
    "print(f\"Available variable importances:\")\n",
    "for importance in inspector.variable_importances().keys():\n",
    "  print(\"\\t\", importance)"
   ]
  },
  {
   "cell_type": "markdown",
   "id": "b25e1991",
   "metadata": {
    "papermill": {
     "duration": 0.037284,
     "end_time": "2023-08-14T09:35:02.105237",
     "exception": false,
     "start_time": "2023-08-14T09:35:02.067953",
     "status": "completed"
    },
    "tags": []
   },
   "source": [
    "As an example, let us display the important features for the Variable Importance `NUM_AS_ROOT`.\n",
    "\n",
    "The larger the importance score for `NUM_AS_ROOT`, the more impact it has on the outcome of the model.\n",
    "\n",
    "By default, the list is sorted from the most important to the least. From the output you can infer that the feature at the top of the list is used as the root node in most number of trees in the random forest than any other feature."
   ]
  },
  {
   "cell_type": "code",
   "execution_count": 24,
   "id": "cd8bf28d",
   "metadata": {
    "execution": {
     "iopub.execute_input": "2023-08-14T09:35:02.180495Z",
     "iopub.status.busy": "2023-08-14T09:35:02.179669Z",
     "iopub.status.idle": "2023-08-14T09:35:02.189690Z",
     "shell.execute_reply": "2023-08-14T09:35:02.188493Z"
    },
    "papermill": {
     "duration": 0.050441,
     "end_time": "2023-08-14T09:35:02.192464",
     "exception": false,
     "start_time": "2023-08-14T09:35:02.142023",
     "status": "completed"
    },
    "tags": []
   },
   "outputs": [
    {
     "data": {
      "text/plain": [
       "[(\"DU\" (1; #34), 41.0),\n",
       " (\"FL\" (1; #48), 35.0),\n",
       " (\"BQ\" (1; #14), 27.0),\n",
       " (\"GL\" (1; #56), 26.0),\n",
       " (\"AF\" (1; #2), 21.0),\n",
       " (\"AB\" (1; #1), 19.0),\n",
       " (\"CR\" (1; #23), 19.0),\n",
       " (\"DA\" (1; #27), 12.0),\n",
       " (\"EH\" (1; #40), 12.0),\n",
       " (\"FI\" (1; #47), 12.0),\n",
       " (\"BC\" (1; #10), 11.0),\n",
       " (\"DI\" (1; #31), 11.0),\n",
       " (\"DE\" (1; #28), 8.0),\n",
       " (\"FD_\" (1; #45), 8.0),\n",
       " (\"FE\" (1; #46), 8.0),\n",
       " (\"BN\" (1; #12), 4.0),\n",
       " (\"CC\" (1; #18), 4.0),\n",
       " (\"DF\" (1; #29), 3.0),\n",
       " (\"EB\" (1; #37), 3.0),\n",
       " (\"GF\" (1; #53), 3.0),\n",
       " (\"CU\" (1; #25), 2.0),\n",
       " (\"DL\" (1; #32), 2.0),\n",
       " (\"DY\" (1; #36), 2.0),\n",
       " (\"EE\" (1; #38), 2.0),\n",
       " (\"AM\" (1; #4), 1.0),\n",
       " (\"AR\" (1; #5), 1.0),\n",
       " (\"BR\" (1; #15), 1.0),\n",
       " (\"DH\" (1; #30), 1.0),\n",
       " (\"FR\" (1; #49), 1.0)]"
      ]
     },
     "execution_count": 24,
     "metadata": {},
     "output_type": "execute_result"
    }
   ],
   "source": [
    "# Each line is: (feature name, (index of the feature), importance score)\n",
    "inspector.variable_importances()[\"NUM_AS_ROOT\"]"
   ]
  },
  {
   "cell_type": "markdown",
   "id": "d28433f0",
   "metadata": {
    "papermill": {
     "duration": 0.037487,
     "end_time": "2023-08-14T09:35:02.267057",
     "exception": false,
     "start_time": "2023-08-14T09:35:02.229570",
     "status": "completed"
    },
    "tags": []
   },
   "source": [
    "# StratifiedGroupFold()\n",
    "\n",
    "## Re oraganize groups \n",
    "\n",
    "Regroup the data from greeks.csv"
   ]
  },
  {
   "cell_type": "code",
   "execution_count": 25,
   "id": "64d8c23a",
   "metadata": {
    "execution": {
     "iopub.execute_input": "2023-08-14T09:35:02.343605Z",
     "iopub.status.busy": "2023-08-14T09:35:02.343153Z",
     "iopub.status.idle": "2023-08-14T09:35:02.368131Z",
     "shell.execute_reply": "2023-08-14T09:35:02.367171Z"
    },
    "papermill": {
     "duration": 0.067145,
     "end_time": "2023-08-14T09:35:02.370522",
     "exception": false,
     "start_time": "2023-08-14T09:35:02.303377",
     "status": "completed"
    },
    "tags": []
   },
   "outputs": [
    {
     "data": {
      "text/plain": [
       "0      BCGD\n",
       "1      ACMB\n",
       "2      ACMB\n",
       "3      ACMB\n",
       "4      DBFB\n",
       "       ... \n",
       "612    ABMB\n",
       "613    ABMB\n",
       "614    ACMB\n",
       "615    ACMB\n",
       "616    ACMB\n",
       "Length: 617, dtype: object"
      ]
     },
     "execution_count": 25,
     "metadata": {},
     "output_type": "execute_result"
    }
   ],
   "source": [
    "# grouped the datas for future analysis and training with cross validation\n",
    "\n",
    "# X_g = df_merged[Feature_Columns] # the features collection\n",
    "\n",
    "# Y_g = df_merged[[\"Class\"]] # The target collection\n",
    "greeks_df = pd.read_csv(\"/kaggle/input/icr-identify-age-related-conditions/greeks.csv\")\n",
    "\n",
    "Groups = greeks_df[[\"Alpha\",\"Beta\",\"Gamma\",\"Delta\"]] # the groups collection\n",
    "Groups.columns[Groups.isna().any()]\n",
    "Combined_Group = Groups[\"Alpha\"].astype(str) +  Groups[\"Beta\"] + Groups[\"Gamma\"] + Groups[\"Delta\"]\n",
    "Combined_Group"
   ]
  },
  {
   "cell_type": "markdown",
   "id": "528ce86a",
   "metadata": {
    "papermill": {
     "duration": 0.035505,
     "end_time": "2023-08-14T09:35:02.442502",
     "exception": false,
     "start_time": "2023-08-14T09:35:02.406997",
     "status": "completed"
    },
    "tags": []
   },
   "source": [
    "## Stratified Group Fold module\n"
   ]
  },
  {
   "cell_type": "code",
   "execution_count": 26,
   "id": "8f7ddd5a",
   "metadata": {
    "execution": {
     "iopub.execute_input": "2023-08-14T09:35:02.517882Z",
     "iopub.status.busy": "2023-08-14T09:35:02.517025Z",
     "iopub.status.idle": "2023-08-14T09:35:02.521873Z",
     "shell.execute_reply": "2023-08-14T09:35:02.521008Z"
    },
    "papermill": {
     "duration": 0.04575,
     "end_time": "2023-08-14T09:35:02.524446",
     "exception": false,
     "start_time": "2023-08-14T09:35:02.478696",
     "status": "completed"
    },
    "tags": []
   },
   "outputs": [],
   "source": [
    "sgk = StratifiedGroupKFold(n_splits=5, shuffle=True, random_state=529)"
   ]
  },
  {
   "cell_type": "code",
   "execution_count": 27,
   "id": "e80a9bde",
   "metadata": {
    "execution": {
     "iopub.execute_input": "2023-08-14T09:35:02.600953Z",
     "iopub.status.busy": "2023-08-14T09:35:02.600057Z",
     "iopub.status.idle": "2023-08-14T09:35:02.607528Z",
     "shell.execute_reply": "2023-08-14T09:35:02.606480Z"
    },
    "papermill": {
     "duration": 0.048631,
     "end_time": "2023-08-14T09:35:02.610332",
     "exception": false,
     "start_time": "2023-08-14T09:35:02.561701",
     "status": "completed"
    },
    "tags": []
   },
   "outputs": [],
   "source": [
    "\n",
    "Features = [x for x in FEATURE_COLUMNS if x not in [\"Class\"] ]\n",
    "Features\n",
    "X_g = dataset_df[Features]\n",
    "Y_g = dataset_df[\"Class\"]\n",
    "# X_g = dataset_df[[Features]]\n",
    "\n"
   ]
  },
  {
   "cell_type": "code",
   "execution_count": 28,
   "id": "7d7a640e",
   "metadata": {
    "execution": {
     "iopub.execute_input": "2023-08-14T09:35:02.685918Z",
     "iopub.status.busy": "2023-08-14T09:35:02.685399Z",
     "iopub.status.idle": "2023-08-14T09:35:02.692674Z",
     "shell.execute_reply": "2023-08-14T09:35:02.691218Z"
    },
    "papermill": {
     "duration": 0.047967,
     "end_time": "2023-08-14T09:35:02.695332",
     "exception": false,
     "start_time": "2023-08-14T09:35:02.647365",
     "status": "completed"
    },
    "tags": []
   },
   "outputs": [],
   "source": [
    "   tuner = tfdf.tuner.RandomSearch(\n",
    "        # 200 trials to find the best hyper-parameters.\n",
    "        num_trials=200,\n",
    "        # Use the pre-defined hyper-parameter space.\n",
    "        use_predefined_hps=True,\n",
    "        # Each model is trained on 4 threads.\n",
    "        trial_num_threads=4)"
   ]
  },
  {
   "cell_type": "markdown",
   "id": "9b964636",
   "metadata": {
    "papermill": {
     "duration": 0.037169,
     "end_time": "2023-08-14T09:35:02.768813",
     "exception": false,
     "start_time": "2023-08-14T09:35:02.731644",
     "status": "completed"
    },
    "tags": []
   },
   "source": [
    "## Train Gradient Boosted Trees Model"
   ]
  },
  {
   "cell_type": "code",
   "execution_count": 29,
   "id": "608a0b40",
   "metadata": {
    "execution": {
     "iopub.execute_input": "2023-08-14T09:35:02.846364Z",
     "iopub.status.busy": "2023-08-14T09:35:02.845197Z",
     "iopub.status.idle": "2023-08-14T09:52:34.360892Z",
     "shell.execute_reply": "2023-08-14T09:52:34.359567Z"
    },
    "papermill": {
     "duration": 1051.556454,
     "end_time": "2023-08-14T09:52:34.364252",
     "exception": false,
     "start_time": "2023-08-14T09:35:02.807798",
     "status": "completed"
    },
    "tags": []
   },
   "outputs": [
    {
     "name": "stdout",
     "output_type": "stream",
     "text": [
      "Resolve hyper-parameter template \"benchmark_rank1\" to \"benchmark_rank1@v1\" -> {'growing_strategy': 'BEST_FIRST_GLOBAL', 'categorical_algorithm': 'RANDOM', 'split_axis': 'SPARSE_OBLIQUE', 'sparse_oblique_normalization': 'MIN_MAX', 'sparse_oblique_num_projections_exponent': 1.0}.\n",
      "Use /tmp/tmpapz7ohni as temporary training directory\n",
      "##### Fold 1\n",
      "Warning: Some of the feature names have been changed automatically to be compatible with SavedModels because fix_feature_names=True.\n",
      "Warning: Some of the feature names have been changed automatically to be compatible with SavedModels because fix_feature_names=True.\n",
      "Reading training dataset...\n"
     ]
    },
    {
     "name": "stderr",
     "output_type": "stream",
     "text": [
      "[WARNING 23-08-14 09:35:02.8716 UTC gradient_boosted_trees.cc:1797] \"goss_alpha\" set but \"sampling_method\" not equal to \"GOSS\".\n",
      "[WARNING 23-08-14 09:35:02.8716 UTC gradient_boosted_trees.cc:1808] \"goss_beta\" set but \"sampling_method\" not equal to \"GOSS\".\n",
      "[WARNING 23-08-14 09:35:02.8716 UTC gradient_boosted_trees.cc:1822] \"selective_gradient_boosting_ratio\" set but \"sampling_method\" not equal to \"SELGB\".\n"
     ]
    },
    {
     "name": "stdout",
     "output_type": "stream",
     "text": [
      "Training dataset read in 0:00:01.163197. Found 493 examples.\n",
      "Training model...\n",
      "Model trained in 0:03:05.690961\n",
      "Compiling model...\n"
     ]
    },
    {
     "name": "stderr",
     "output_type": "stream",
     "text": [
      "[INFO 23-08-14 09:38:09.8829 UTC kernel.cc:1242] Loading model from path /tmp/tmpapz7ohni/model/ with prefix ec28c937d48c4a41\n",
      "[INFO 23-08-14 09:38:09.9197 UTC decision_forest.cc:660] Model loaded with 237 root(s), 4997 node(s), and 57 input feature(s).\n",
      "[INFO 23-08-14 09:38:09.9198 UTC abstract_model.cc:1311] Engine \"GradientBoostedTreesGeneric\" built\n",
      "[INFO 23-08-14 09:38:09.9198 UTC kernel.cc:1074] Use fast generic engine\n"
     ]
    },
    {
     "name": "stdout",
     "output_type": "stream",
     "text": [
      "Model compiled.\n",
      "1/1 [==============================] - 0s 151ms/step\n",
      "1/1 [==============================] - 0s 402ms/step - loss: 0.0000e+00 - accuracy: 0.9597 - binary_crossentropy: 0.1437\n",
      "##### Fold 2\n",
      "Warning: Some of the feature names have been changed automatically to be compatible with SavedModels because fix_feature_names=True.\n",
      "Warning: Some of the feature names have been changed automatically to be compatible with SavedModels because fix_feature_names=True.\n",
      "Reading training dataset...\n",
      "Training dataset read in 0:00:00.191225. Found 493 examples.\n",
      "Training model...\n",
      "Model trained in 0:04:00.078998\n",
      "Compiling model...\n"
     ]
    },
    {
     "name": "stderr",
     "output_type": "stream",
     "text": [
      "[INFO 23-08-14 09:42:27.0719 UTC kernel.cc:1242] Loading model from path /tmp/tmpapz7ohni/model/ with prefix ec28c937d48c4a41\n",
      "[INFO 23-08-14 09:42:27.1235 UTC decision_forest.cc:660] Model loaded with 198 root(s), 8778 node(s), and 57 input feature(s).\n",
      "[INFO 23-08-14 09:42:27.1251 UTC abstract_model.cc:1311] Engine \"GradientBoostedTreesGeneric\" built\n",
      "[INFO 23-08-14 09:42:27.1258 UTC kernel.cc:1074] Use fast generic engine\n"
     ]
    },
    {
     "name": "stdout",
     "output_type": "stream",
     "text": [
      "Model compiled.\n",
      "1/1 [==============================] - 0s 147ms/step\n",
      "1/1 [==============================] - 0s 386ms/step - loss: 0.0000e+00 - accuracy: 0.8952 - binary_crossentropy: 0.2769\n",
      "##### Fold 3\n",
      "Warning: Some of the feature names have been changed automatically to be compatible with SavedModels because fix_feature_names=True.\n",
      "Warning: Some of the feature names have been changed automatically to be compatible with SavedModels because fix_feature_names=True.\n",
      "Reading training dataset...\n",
      "Training dataset read in 0:00:00.195318. Found 494 examples.\n",
      "Training model...\n",
      "Model trained in 0:03:57.415873\n",
      "Compiling model...\n"
     ]
    },
    {
     "name": "stderr",
     "output_type": "stream",
     "text": [
      "[INFO 23-08-14 09:46:25.8842 UTC kernel.cc:1242] Loading model from path /tmp/tmpapz7ohni/model/ with prefix ec28c937d48c4a41\n",
      "[INFO 23-08-14 09:46:25.9076 UTC decision_forest.cc:660] Model loaded with 136 root(s), 3068 node(s), and 57 input feature(s).\n",
      "[INFO 23-08-14 09:46:25.9078 UTC abstract_model.cc:1311] Engine \"GradientBoostedTreesGeneric\" built\n",
      "[INFO 23-08-14 09:46:25.9078 UTC kernel.cc:1074] Use fast generic engine\n"
     ]
    },
    {
     "name": "stdout",
     "output_type": "stream",
     "text": [
      "Model compiled.\n",
      "1/1 [==============================] - 0s 161ms/step\n",
      "1/1 [==============================] - 0s 400ms/step - loss: 0.0000e+00 - accuracy: 0.9593 - binary_crossentropy: 0.2008\n",
      "##### Fold 4\n",
      "Warning: Some of the feature names have been changed automatically to be compatible with SavedModels because fix_feature_names=True.\n",
      "Warning: Some of the feature names have been changed automatically to be compatible with SavedModels because fix_feature_names=True.\n",
      "Reading training dataset...\n",
      "Training dataset read in 0:00:00.214341. Found 494 examples.\n",
      "Training model...\n",
      "Model trained in 0:02:43.267478\n",
      "Compiling model...\n"
     ]
    },
    {
     "name": "stderr",
     "output_type": "stream",
     "text": [
      "[INFO 23-08-14 09:49:10.5369 UTC kernel.cc:1242] Loading model from path /tmp/tmpapz7ohni/model/ with prefix ec28c937d48c4a41\n",
      "[INFO 23-08-14 09:49:10.5502 UTC decision_forest.cc:660] Model loaded with 67 root(s), 1387 node(s), and 57 input feature(s).\n",
      "[INFO 23-08-14 09:49:10.5503 UTC abstract_model.cc:1311] Engine \"GradientBoostedTreesGeneric\" built\n",
      "[INFO 23-08-14 09:49:10.5504 UTC kernel.cc:1074] Use fast generic engine\n"
     ]
    },
    {
     "name": "stdout",
     "output_type": "stream",
     "text": [
      "Model compiled.\n",
      "1/1 [==============================] - 0s 150ms/step\n",
      "1/1 [==============================] - 0s 403ms/step - loss: 0.0000e+00 - accuracy: 0.9106 - binary_crossentropy: 0.2635\n",
      "##### Fold 5\n",
      "Warning: Some of the feature names have been changed automatically to be compatible with SavedModels because fix_feature_names=True.\n",
      "Warning: Some of the feature names have been changed automatically to be compatible with SavedModels because fix_feature_names=True.\n",
      "Reading training dataset...\n",
      "Training dataset read in 0:00:00.201184. Found 494 examples.\n",
      "Training model...\n",
      "Model trained in 0:02:31.504580\n",
      "Compiling model...\n"
     ]
    },
    {
     "name": "stderr",
     "output_type": "stream",
     "text": [
      "[INFO 23-08-14 09:51:43.3928 UTC kernel.cc:1242] Loading model from path /tmp/tmpapz7ohni/model/ with prefix ec28c937d48c4a41\n",
      "[INFO 23-08-14 09:51:43.4094 UTC decision_forest.cc:660] Model loaded with 288 root(s), 1956 node(s), and 57 input feature(s).\n",
      "[INFO 23-08-14 09:51:43.4097 UTC abstract_model.cc:1311] Engine \"GradientBoostedTreesGeneric\" built\n",
      "[INFO 23-08-14 09:51:43.4098 UTC kernel.cc:1074] Use fast generic engine\n"
     ]
    },
    {
     "name": "stdout",
     "output_type": "stream",
     "text": [
      "Model compiled.\n",
      "1/1 [==============================] - 0s 144ms/step\n",
      "1/1 [==============================] - 0s 401ms/step - loss: 0.0000e+00 - accuracy: 0.9350 - binary_crossentropy: 0.1746\n"
     ]
    }
   ],
   "source": [
    "# Loop through each fold\n",
    "rf = tfdf.keras.GradientBoostedTreesModel(hyperparameter_template=\"benchmark_rank1\",max_depth=5, num_trees=500, tuner = tuner)\n",
    "label = \"Class\"\n",
    "# rf = tfdf.keras.RandomForestModel()\n",
    "# rf = tfdf.keras.RandomForestModel(hyperparameter_template=\"benchmark_rank1\",max_depth=5, num_trees=500)\n",
    "\n",
    "for i, (train_index, valid_index) in enumerate(kf.split(X=dataset_df)):\n",
    "# for i, (train_index, valid_index) in enumerate(sgk.split(X= X_g, y = Y_g, groups = Combined_Group)):\n",
    "\n",
    "\n",
    "        print('##### Fold',i+1)\n",
    "\n",
    "        # Fetch values corresponding to the index \n",
    "        train_df = dataset_df.iloc[train_index]\n",
    "        valid_df = dataset_df.iloc[valid_index]\n",
    "        valid_ids = valid_df.index.values\n",
    "        \n",
    "        # Select only feature columns for training.\n",
    "        train_df = train_df[FEATURE_COLUMNS]\n",
    "        valid_df = valid_df[FEATURE_COLUMNS]\n",
    "        \n",
    "        # There's one more step required before we can train the model. \n",
    "        # We need to convert the datatset from Pandas format (pd.DataFrame)\n",
    "        # into TensorFlow Datasets format (tf.data.Dataset).\n",
    "        # TensorFlow Datasets is a high performance data loading library \n",
    "        # which is helpful when training neural networks with accelerators like GPUs and TPUs.\n",
    "        # Note: Some column names contains white spaces at the end of their name, \n",
    "        # which is non-comaptible with SavedModels save format. \n",
    "        # By default, `pd_dataframe_to_tf_dataset` function will convert \n",
    "        # this column names into a compatible format. \n",
    "        # So you can safely ignore the warnings related to this.\n",
    "        train_ds = tfdf.keras.pd_dataframe_to_tf_dataset(train_df, label=label)\n",
    "        valid_ds = tfdf.keras.pd_dataframe_to_tf_dataset(valid_df, label=label)\n",
    "\n",
    "        # Define the model and metrics\n",
    "#         rf = tfdf.keras.RandomForestModel()\n",
    "        rf.compile(metrics=[\"accuracy\", \"binary_crossentropy\"]) \n",
    "        \n",
    "        # Train the model\n",
    "        # We will train the model using a one-liner.\n",
    "        # Note: you may see a warning about Autograph. \n",
    "        # You can safely ignore this, it will be fixed in the next release.\n",
    "        # Previously calculated class weights is used to handle imbalance.\n",
    "#         rf.fit(x=train_ds, class_weight=class_weight)\n",
    "        \n",
    "#         # Store the model\n",
    "#         models[f\"fold_{i+1}\"] = rf\n",
    "        '''Testing function, shall be deleted if doesn't work '''\n",
    "        \n",
    "        if(i == 0):\n",
    "            rf.fit(x=train_ds, class_weight=class_weight)\n",
    "            models[f\"fold_{i+1}\"] = rf\n",
    "        elif(i > 0 ):\n",
    "            models[f\"fold_{i}\"].fit(x=train_ds, class_weight=class_weight)\n",
    "            models[f\"fold_{i+1}\"] = models[f\"fold_{i}\"]        \n",
    "        \n",
    "        # Predict OOF value for validation data\n",
    "        predict = rf.predict(x=valid_ds)\n",
    "        \n",
    "        # Store the predictions in oof dataframe\n",
    "        oof.loc[valid_ids, 0] = predict.flatten() \n",
    "        \n",
    "        # Evaluate and store the metrics in respective dicts\n",
    "        evaluation = rf.evaluate(x=valid_ds,return_dict=True)\n",
    "        accuracy[f\"fold_{i+1}\"] = evaluation[\"accuracy\"]\n",
    "        cross_entropy[f\"fold_{i+1}\"]= evaluation[\"binary_crossentropy\"]\n",
    "        \n",
    "        "
   ]
  },
  {
   "cell_type": "markdown",
   "id": "2be2418b",
   "metadata": {
    "papermill": {
     "duration": 0.042949,
     "end_time": "2023-08-14T09:52:34.449966",
     "exception": false,
     "start_time": "2023-08-14T09:52:34.407017",
     "status": "completed"
    },
    "tags": []
   },
   "source": [
    "## Visualize the model"
   ]
  },
  {
   "cell_type": "code",
   "execution_count": 30,
   "id": "1efcc613",
   "metadata": {
    "execution": {
     "iopub.execute_input": "2023-08-14T09:52:34.537565Z",
     "iopub.status.busy": "2023-08-14T09:52:34.536609Z",
     "iopub.status.idle": "2023-08-14T09:52:34.556407Z",
     "shell.execute_reply": "2023-08-14T09:52:34.555323Z"
    },
    "papermill": {
     "duration": 0.066325,
     "end_time": "2023-08-14T09:52:34.559195",
     "exception": false,
     "start_time": "2023-08-14T09:52:34.492870",
     "status": "completed"
    },
    "tags": []
   },
   "outputs": [
    {
     "data": {
      "text/html": [
       "\n",
       "<script src=\"https://d3js.org/d3.v6.min.js\"></script>\n",
       "<div id=\"tree_plot_cd4fe13d96f54d58bd4105bdf88c6aae\"></div>\n",
       "<script>\n",
       "/*\n",
       " * Copyright 2021 Google LLC.\n",
       " * Licensed under the Apache License, Version 2.0 (the \"License\");\n",
       " * you may not use this file except in compliance with the License.\n",
       " * You may obtain a copy of the License at\n",
       " *\n",
       " *     https://www.apache.org/licenses/LICENSE-2.0\n",
       " *\n",
       " * Unless required by applicable law or agreed to in writing, software\n",
       " * distributed under the License is distributed on an \"AS IS\" BASIS,\n",
       " * WITHOUT WARRANTIES OR CONDITIONS OF ANY KIND, either express or implied.\n",
       " * See the License for the specific language governing permissions and\n",
       " * limitations under the License.\n",
       " */\n",
       "\n",
       "/**\n",
       " *  Plotting of decision trees generated by TF-DF.\n",
       " *\n",
       " *  A tree is a recursive structure of node objects.\n",
       " *  A node contains one or more of the following components:\n",
       " *\n",
       " *    - A value: Representing the output of the node. If the node is not a leaf,\n",
       " *      the value is only present for analysis i.e. it is not used for\n",
       " *      predictions.\n",
       " *\n",
       " *    - A condition : For non-leaf nodes, the condition (also known as split)\n",
       " *      defines a binary test to branch to the positive or negative child.\n",
       " *\n",
       " *    - An explanation: Generally a plot showing the relation between the label\n",
       " *      and the condition to give insights about the effect of the condition.\n",
       " *\n",
       " *    - Two children : For non-leaf nodes, the children nodes. The first\n",
       " *      children (i.e. \"node.children[0]\") is the negative children (drawn in\n",
       " *      red). The second children is the positive one (drawn in green).\n",
       " *\n",
       " */\n",
       "\n",
       "/**\n",
       " * Plots a single decision tree into a DOM element.\n",
       " * @param {!options} options Dictionary of configurations.\n",
       " * @param {!tree} raw_tree Recursive tree structure.\n",
       " * @param {string} canvas_id Id of the output dom element.\n",
       " */\n",
       "function display_tree(options, raw_tree, canvas_id) {\n",
       "  console.log(options);\n",
       "\n",
       "  // Determine the node placement.\n",
       "  const tree_struct = d3.tree().nodeSize(\n",
       "      [options.node_y_offset, options.node_x_offset])(d3.hierarchy(raw_tree));\n",
       "\n",
       "  // Boundaries of the node placement.\n",
       "  let x_min = Infinity;\n",
       "  let x_max = -x_min;\n",
       "  let y_min = Infinity;\n",
       "  let y_max = -x_min;\n",
       "\n",
       "  tree_struct.each(d => {\n",
       "    if (d.x > x_max) x_max = d.x;\n",
       "    if (d.x < x_min) x_min = d.x;\n",
       "    if (d.y > y_max) y_max = d.y;\n",
       "    if (d.y < y_min) y_min = d.y;\n",
       "  });\n",
       "\n",
       "  // Size of the plot.\n",
       "  const width = y_max - y_min + options.node_x_size + options.margin * 2;\n",
       "  const height = x_max - x_min + options.node_y_size + options.margin * 2 +\n",
       "      options.node_y_offset - options.node_y_size;\n",
       "\n",
       "  const plot = d3.select(canvas_id);\n",
       "\n",
       "  // Tool tip\n",
       "  options.tooltip = plot.append('div')\n",
       "                        .attr('width', 100)\n",
       "                        .attr('height', 100)\n",
       "                        .style('padding', '4px')\n",
       "                        .style('background', '#fff')\n",
       "                        .style('box-shadow', '4px 4px 0px rgba(0,0,0,0.1)')\n",
       "                        .style('border', '1px solid black')\n",
       "                        .style('font-family', 'sans-serif')\n",
       "                        .style('font-size', options.font_size)\n",
       "                        .style('position', 'absolute')\n",
       "                        .style('z-index', '10')\n",
       "                        .attr('pointer-events', 'none')\n",
       "                        .style('display', 'none');\n",
       "\n",
       "  // Create canvas\n",
       "  const svg = plot.append('svg').attr('width', width).attr('height', height);\n",
       "  const graph =\n",
       "      svg.style('overflow', 'visible')\n",
       "          .append('g')\n",
       "          .attr('font-family', 'sans-serif')\n",
       "          .attr('font-size', options.font_size)\n",
       "          .attr(\n",
       "              'transform',\n",
       "              () => `translate(${options.margin},${\n",
       "                  - x_min + options.node_y_offset / 2 + options.margin})`);\n",
       "\n",
       "  // Plot bounding box.\n",
       "  if (options.show_plot_bounding_box) {\n",
       "    svg.append('rect')\n",
       "        .attr('width', width)\n",
       "        .attr('height', height)\n",
       "        .attr('fill', 'none')\n",
       "        .attr('stroke-width', 1.0)\n",
       "        .attr('stroke', 'black');\n",
       "  }\n",
       "\n",
       "  // Draw the edges.\n",
       "  display_edges(options, graph, tree_struct);\n",
       "\n",
       "  // Draw the nodes.\n",
       "  display_nodes(options, graph, tree_struct);\n",
       "}\n",
       "\n",
       "/**\n",
       " * Draw the nodes of the tree.\n",
       " * @param {!options} options Dictionary of configurations.\n",
       " * @param {!graph} graph D3 search handle containing the graph.\n",
       " * @param {!tree_struct} tree_struct Structure of the tree (node placement,\n",
       " *     data, etc.).\n",
       " */\n",
       "function display_nodes(options, graph, tree_struct) {\n",
       "  const nodes = graph.append('g')\n",
       "                    .selectAll('g')\n",
       "                    .data(tree_struct.descendants())\n",
       "                    .join('g')\n",
       "                    .attr('transform', d => `translate(${d.y},${d.x})`);\n",
       "\n",
       "  nodes.append('rect')\n",
       "      .attr('x', 0.5)\n",
       "      .attr('y', 0.5)\n",
       "      .attr('width', options.node_x_size)\n",
       "      .attr('height', options.node_y_size)\n",
       "      .attr('stroke', 'lightgrey')\n",
       "      .attr('stroke-width', 1)\n",
       "      .attr('fill', 'white')\n",
       "      .attr('y', -options.node_y_size / 2);\n",
       "\n",
       "  // Brackets on the right of condition nodes without children.\n",
       "  non_leaf_node_without_children =\n",
       "      nodes.filter(node => node.data.condition != null && node.children == null)\n",
       "          .append('g')\n",
       "          .attr('transform', `translate(${options.node_x_size},0)`);\n",
       "\n",
       "  non_leaf_node_without_children.append('path')\n",
       "      .attr('d', 'M0,0 C 10,0 0,10 10,10')\n",
       "      .attr('fill', 'none')\n",
       "      .attr('stroke-width', 1.0)\n",
       "      .attr('stroke', '#F00');\n",
       "\n",
       "  non_leaf_node_without_children.append('path')\n",
       "      .attr('d', 'M0,0 C 10,0 0,-10 10,-10')\n",
       "      .attr('fill', 'none')\n",
       "      .attr('stroke-width', 1.0)\n",
       "      .attr('stroke', '#0F0');\n",
       "\n",
       "  const node_content = nodes.append('g').attr(\n",
       "      'transform',\n",
       "      `translate(0,${options.node_padding - options.node_y_size / 2})`);\n",
       "\n",
       "  node_content.append(node => create_node_element(options, node));\n",
       "}\n",
       "\n",
       "/**\n",
       " * Creates the D3 content for a single node.\n",
       " * @param {!options} options Dictionary of configurations.\n",
       " * @param {!node} node Node to draw.\n",
       " * @return {!d3} D3 content.\n",
       " */\n",
       "function create_node_element(options, node) {\n",
       "  // Output accumulator.\n",
       "  let output = {\n",
       "    // Content to draw.\n",
       "    content: d3.create('svg:g'),\n",
       "    // Vertical offset to the next element to draw.\n",
       "    vertical_offset: 0\n",
       "  };\n",
       "\n",
       "  // Conditions.\n",
       "  if (node.data.condition != null) {\n",
       "    display_condition(options, node.data.condition, output);\n",
       "  }\n",
       "\n",
       "  // Values.\n",
       "  if (node.data.value != null) {\n",
       "    display_value(options, node.data.value, output);\n",
       "  }\n",
       "\n",
       "  // Explanations.\n",
       "  if (node.data.explanation != null) {\n",
       "    display_explanation(options, node.data.explanation, output);\n",
       "  }\n",
       "\n",
       "  return output.content.node();\n",
       "}\n",
       "\n",
       "\n",
       "/**\n",
       " * Adds a single line of text inside of a node.\n",
       " * @param {!options} options Dictionary of configurations.\n",
       " * @param {string} text Text to display.\n",
       " * @param {!output} output Output display accumulator.\n",
       " */\n",
       "function display_node_text(options, text, output) {\n",
       "  output.content.append('text')\n",
       "      .attr('x', options.node_padding)\n",
       "      .attr('y', output.vertical_offset)\n",
       "      .attr('alignment-baseline', 'hanging')\n",
       "      .text(text);\n",
       "  output.vertical_offset += 10;\n",
       "}\n",
       "\n",
       "/**\n",
       " * Adds a single line of text inside of a node with a tooltip.\n",
       " * @param {!options} options Dictionary of configurations.\n",
       " * @param {string} text Text to display.\n",
       " * @param {string} tooltip Text in the Tooltip.\n",
       " * @param {!output} output Output display accumulator.\n",
       " */\n",
       "function display_node_text_with_tooltip(options, text, tooltip, output) {\n",
       "  const item = output.content.append('text')\n",
       "                   .attr('x', options.node_padding)\n",
       "                   .attr('alignment-baseline', 'hanging')\n",
       "                   .text(text);\n",
       "\n",
       "  add_tooltip(options, item, () => tooltip);\n",
       "  output.vertical_offset += 10;\n",
       "}\n",
       "\n",
       "/**\n",
       " * Adds a tooltip to a dom element.\n",
       " * @param {!options} options Dictionary of configurations.\n",
       " * @param {!dom} target Dom element to equip with a tooltip.\n",
       " * @param {!func} get_content Generates the html content of the tooltip.\n",
       " */\n",
       "function add_tooltip(options, target, get_content) {\n",
       "  function show(d) {\n",
       "    options.tooltip.style('display', 'block');\n",
       "    options.tooltip.html(get_content());\n",
       "  }\n",
       "\n",
       "  function hide(d) {\n",
       "    options.tooltip.style('display', 'none');\n",
       "  }\n",
       "\n",
       "  function move(d) {\n",
       "    options.tooltip.style('display', 'block');\n",
       "    options.tooltip.style('left', (d.pageX + 5) + 'px');\n",
       "    options.tooltip.style('top', d.pageY + 'px');\n",
       "  }\n",
       "\n",
       "  target.on('mouseover', show);\n",
       "  target.on('mouseout', hide);\n",
       "  target.on('mousemove', move);\n",
       "}\n",
       "\n",
       "/**\n",
       " * Adds a condition inside of a node.\n",
       " * @param {!options} options Dictionary of configurations.\n",
       " * @param {!condition} condition Condition to display.\n",
       " * @param {!output} output Output display accumulator.\n",
       " */\n",
       "function display_condition(options, condition, output) {\n",
       "  threshold_format = d3.format('r');\n",
       "\n",
       "  if (condition.type === 'IS_MISSING') {\n",
       "    display_node_text(options, `${condition.attribute} is missing`, output);\n",
       "    return;\n",
       "  }\n",
       "\n",
       "  if (condition.type === 'IS_TRUE') {\n",
       "    display_node_text(options, `${condition.attribute} is true`, output);\n",
       "    return;\n",
       "  }\n",
       "\n",
       "  if (condition.type === 'NUMERICAL_IS_HIGHER_THAN') {\n",
       "    format = d3.format('r');\n",
       "    display_node_text(\n",
       "        options,\n",
       "        `${condition.attribute} >= ${threshold_format(condition.threshold)}`,\n",
       "        output);\n",
       "    return;\n",
       "  }\n",
       "\n",
       "  if (condition.type === 'CATEGORICAL_IS_IN') {\n",
       "    display_node_text_with_tooltip(\n",
       "        options, `${condition.attribute} in [...]`,\n",
       "        `${condition.attribute} in [${condition.mask}]`, output);\n",
       "    return;\n",
       "  }\n",
       "\n",
       "  if (condition.type === 'CATEGORICAL_SET_CONTAINS') {\n",
       "    display_node_text_with_tooltip(\n",
       "        options, `${condition.attribute} intersect [...]`,\n",
       "        `${condition.attribute} intersect [${condition.mask}]`, output);\n",
       "    return;\n",
       "  }\n",
       "\n",
       "  if (condition.type === 'NUMERICAL_SPARSE_OBLIQUE') {\n",
       "    display_node_text_with_tooltip(\n",
       "        options, `Sparse oblique split...`,\n",
       "        `[${condition.attributes}]*[${condition.weights}]>=${\n",
       "            threshold_format(condition.threshold)}`,\n",
       "        output);\n",
       "    return;\n",
       "  }\n",
       "\n",
       "  display_node_text(\n",
       "      options, `Non supported condition ${condition.type}`, output);\n",
       "}\n",
       "\n",
       "/**\n",
       " * Adds a value inside of a node.\n",
       " * @param {!options} options Dictionary of configurations.\n",
       " * @param {!value} value Value to display.\n",
       " * @param {!output} output Output display accumulator.\n",
       " */\n",
       "function display_value(options, value, output) {\n",
       "  if (value.type === 'PROBABILITY') {\n",
       "    const left_margin = 0;\n",
       "    const right_margin = 50;\n",
       "    const plot_width = options.node_x_size - options.node_padding * 2 -\n",
       "        left_margin - right_margin;\n",
       "\n",
       "    let cusum = Array.from(d3.cumsum(value.distribution));\n",
       "    cusum.unshift(0);\n",
       "    const distribution_plot = output.content.append('g').attr(\n",
       "        'transform', `translate(0,${output.vertical_offset + 0.5})`);\n",
       "\n",
       "    distribution_plot.selectAll('rect')\n",
       "        .data(value.distribution)\n",
       "        .join('rect')\n",
       "        .attr('height', 10)\n",
       "        .attr(\n",
       "            'x',\n",
       "            (d, i) =>\n",
       "                (cusum[i] * plot_width + left_margin + options.node_padding))\n",
       "        .attr('width', (d, i) => d * plot_width)\n",
       "        .style('fill', (d, i) => d3.schemeSet1[i]);\n",
       "\n",
       "    const num_examples =\n",
       "        output.content.append('g')\n",
       "            .attr('transform', `translate(0,${output.vertical_offset})`)\n",
       "            .append('text')\n",
       "            .attr('x', options.node_x_size - options.node_padding)\n",
       "            .attr('alignment-baseline', 'hanging')\n",
       "            .attr('text-anchor', 'end')\n",
       "            .text(`(${value.num_examples})`);\n",
       "\n",
       "    const distribution_details = d3.create('ul');\n",
       "    distribution_details.selectAll('li')\n",
       "        .data(value.distribution)\n",
       "        .join('li')\n",
       "        .append('span')\n",
       "        .text(\n",
       "            (d, i) =>\n",
       "                'class ' + i + ': ' + d3.format('.3%')(value.distribution[i]));\n",
       "\n",
       "    add_tooltip(options, distribution_plot, () => distribution_details.html());\n",
       "    add_tooltip(options, num_examples, () => 'Number of examples');\n",
       "\n",
       "    output.vertical_offset += 10;\n",
       "    return;\n",
       "  }\n",
       "\n",
       "  if (value.type === 'REGRESSION') {\n",
       "    display_node_text(\n",
       "        options,\n",
       "        'value: ' + d3.format('r')(value.value) + ` (` +\n",
       "            d3.format('.6')(value.num_examples) + `)`,\n",
       "        output);\n",
       "    return;\n",
       "  }\n",
       "\n",
       "  display_node_text(options, `Non supported value ${value.type}`, output);\n",
       "}\n",
       "\n",
       "/**\n",
       " * Adds an explanation inside of a node.\n",
       " * @param {!options} options Dictionary of configurations.\n",
       " * @param {!explanation} explanation Explanation to display.\n",
       " * @param {!output} output Output display accumulator.\n",
       " */\n",
       "function display_explanation(options, explanation, output) {\n",
       "  // Margin before the explanation.\n",
       "  output.vertical_offset += 10;\n",
       "\n",
       "  display_node_text(\n",
       "      options, `Non supported explanation ${explanation.type}`, output);\n",
       "}\n",
       "\n",
       "\n",
       "/**\n",
       " * Draw the edges of the tree.\n",
       " * @param {!options} options Dictionary of configurations.\n",
       " * @param {!graph} graph D3 search handle containing the graph.\n",
       " * @param {!tree_struct} tree_struct Structure of the tree (node placement,\n",
       " *     data, etc.).\n",
       " */\n",
       "function display_edges(options, graph, tree_struct) {\n",
       "  // Draw an edge between a parent and a child node with a bezier.\n",
       "  function draw_single_edge(d) {\n",
       "    return 'M' + (d.source.y + options.node_x_size) + ',' + d.source.x + ' C' +\n",
       "        (d.source.y + options.node_x_size + options.edge_rounding) + ',' +\n",
       "        d.source.x + ' ' + (d.target.y - options.edge_rounding) + ',' +\n",
       "        d.target.x + ' ' + d.target.y + ',' + d.target.x;\n",
       "  }\n",
       "\n",
       "  graph.append('g')\n",
       "      .attr('fill', 'none')\n",
       "      .attr('stroke-width', 1.2)\n",
       "      .selectAll('path')\n",
       "      .data(tree_struct.links())\n",
       "      .join('path')\n",
       "      .attr('d', draw_single_edge)\n",
       "      .attr(\n",
       "          'stroke', d => (d.target === d.source.children[0]) ? '#0F0' : '#F00');\n",
       "}\n",
       "\n",
       "display_tree({\"margin\": 10, \"node_x_size\": 160, \"node_y_size\": 28, \"node_x_offset\": 180, \"node_y_offset\": 33, \"font_size\": 10, \"edge_rounding\": 20, \"node_padding\": 2, \"show_plot_bounding_box\": false}, {\"value\": {\"type\": \"REGRESSION\", \"value\": 0.00602751923725009, \"num_examples\": 284.733402967453, \"standard_deviation\": 0.49899393428873834}, \"condition\": {\"type\": \"NUMERICAL_SPARSE_OBLIQUE\", \"attributes\": [\"AH\", \"CL\", \"DU\"], \"weights\": [-0.018431246280670166, -0.40220391750335693, 0.4136699438095093], \"threshold\": -1.2994507551193237}, \"children\": [{\"value\": {\"type\": \"REGRESSION\", \"value\": 0.07844725996255875, \"num_examples\": 79.89730393886566, \"standard_deviation\": 0.30809619060943194}, \"condition\": {\"type\": \"NUMERICAL_SPARSE_OBLIQUE\", \"attributes\": [\"CS\", \"EE\", \"EG\", \"EL\", \"FD_\", \"GH\"], \"weights\": [-0.9355442523956299, 0.7530505657196045, -0.5814019441604614, 0.7978494167327881, 0.7657822370529175, -0.3544214367866516], \"threshold\": -1293.059326171875}, \"children\": [{\"value\": {\"type\": \"REGRESSION\", \"value\": 0.08697160333395004, \"num_examples\": 76.26076173782349, \"standard_deviation\": 0.24400476435407906}}, {\"value\": {\"type\": \"REGRESSION\", \"value\": -0.10031405836343765, \"num_examples\": 3.6365422010421753}}]}, {\"value\": {\"type\": \"REGRESSION\", \"value\": -0.022220147773623466, \"num_examples\": 204.83609902858734, \"standard_deviation\": 0.48785474741626333}, \"condition\": {\"type\": \"NUMERICAL_SPARSE_OBLIQUE\", \"attributes\": [\"AF\", \"CD_\", \"EB\", \"EL\", \"EU\", \"FC\", \"GE\"], \"weights\": [-0.5577502250671387, -0.683706521987915, 0.08513474464416504, -0.8224768042564392, -0.8231436610221863, -0.4473068118095398, 0.204062819480896], \"threshold\": -2174.16796875}, \"children\": [{\"value\": {\"type\": \"REGRESSION\", \"value\": -0.07201871275901794, \"num_examples\": 100.95333021879196, \"standard_deviation\": 0.3485112162244288}}, {\"value\": {\"type\": \"REGRESSION\", \"value\": 0.02617412805557251, \"num_examples\": 103.88276880979538, \"standard_deviation\": 0.482142137185933}}]}]}, \"#tree_plot_cd4fe13d96f54d58bd4105bdf88c6aae\")\n",
       "</script>\n"
      ],
      "text/plain": [
       "<IPython.core.display.HTML object>"
      ]
     },
     "execution_count": 30,
     "metadata": {},
     "output_type": "execute_result"
    }
   ],
   "source": [
    "tfdf.model_plotter.plot_model_in_colab(models['fold_1'], tree_idx=0, max_depth=3)"
   ]
  },
  {
   "cell_type": "code",
   "execution_count": 31,
   "id": "5530c41d",
   "metadata": {
    "execution": {
     "iopub.execute_input": "2023-08-14T09:52:34.648601Z",
     "iopub.status.busy": "2023-08-14T09:52:34.648172Z",
     "iopub.status.idle": "2023-08-14T09:52:36.363858Z",
     "shell.execute_reply": "2023-08-14T09:52:36.361932Z"
    },
    "papermill": {
     "duration": 1.764215,
     "end_time": "2023-08-14T09:52:36.367637",
     "exception": false,
     "start_time": "2023-08-14T09:52:34.603422",
     "status": "completed"
    },
    "tags": []
   },
   "outputs": [
    {
     "data": {
      "image/png": "[encoded data removed]",
      "text/plain": [
       "<Figure size 1000x1000 with 6 Axes>"
      ]
     },
     "metadata": {},
     "output_type": "display_data"
    }
   ],
   "source": [
    "figure, axis = plt.subplots(3, 2, figsize=(10, 10))\n",
    "plt.subplots_adjust(hspace=0.5, wspace=0.3)\n",
    "\n",
    "for i, fold_no in enumerate(models.keys()):\n",
    "    row = i//2\n",
    "    col = i % 2\n",
    "    logs = models[fold_no].make_inspector().training_logs()\n",
    "    axis[row, col].plot([log.num_trees for log in logs], [log.evaluation.loss for log in logs])\n",
    "    axis[row, col].set_title(f\"Fold {i+1}\")\n",
    "    axis[row, col].set_xlabel('Number of trees')\n",
    "    axis[row, col].set_ylabel('Loss (out-of-bag)')\n",
    "\n",
    "axis[2][1].set_visible(False)\n",
    "plt.show()"
   ]
  },
  {
   "cell_type": "code",
   "execution_count": 32,
   "id": "1dd417ed",
   "metadata": {
    "execution": {
     "iopub.execute_input": "2023-08-14T09:52:36.459920Z",
     "iopub.status.busy": "2023-08-14T09:52:36.459423Z",
     "iopub.status.idle": "2023-08-14T09:52:36.536554Z",
     "shell.execute_reply": "2023-08-14T09:52:36.535232Z"
    },
    "papermill": {
     "duration": 0.126298,
     "end_time": "2023-08-14T09:52:36.539383",
     "exception": false,
     "start_time": "2023-08-14T09:52:36.413085",
     "status": "completed"
    },
    "tags": []
   },
   "outputs": [
    {
     "name": "stdout",
     "output_type": "stream",
     "text": [
      "fold_1 Evaluation(num_examples=None, accuracy=0.9369112253189087, loss=0.4329851269721985, rmse=None, ndcg=None, aucs=None, auuc=None, qini=None)\n",
      "fold_2 Evaluation(num_examples=None, accuracy=0.9369112253189087, loss=0.4329851269721985, rmse=None, ndcg=None, aucs=None, auuc=None, qini=None)\n",
      "fold_3 Evaluation(num_examples=None, accuracy=0.9369112253189087, loss=0.4329851269721985, rmse=None, ndcg=None, aucs=None, auuc=None, qini=None)\n",
      "fold_4 Evaluation(num_examples=None, accuracy=0.9369112253189087, loss=0.4329851269721985, rmse=None, ndcg=None, aucs=None, auuc=None, qini=None)\n",
      "fold_5 Evaluation(num_examples=None, accuracy=0.9369112253189087, loss=0.4329851269721985, rmse=None, ndcg=None, aucs=None, auuc=None, qini=None)\n"
     ]
    }
   ],
   "source": [
    "for _model in models:\n",
    "    inspector = models[_model].make_inspector()\n",
    "    print(_model, inspector.evaluation())"
   ]
  },
  {
   "cell_type": "code",
   "execution_count": 33,
   "id": "07acd1c7",
   "metadata": {
    "execution": {
     "iopub.execute_input": "2023-08-14T09:52:36.632834Z",
     "iopub.status.busy": "2023-08-14T09:52:36.631987Z",
     "iopub.status.idle": "2023-08-14T09:52:36.638993Z",
     "shell.execute_reply": "2023-08-14T09:52:36.637917Z"
    },
    "papermill": {
     "duration": 0.056908,
     "end_time": "2023-08-14T09:52:36.641463",
     "exception": false,
     "start_time": "2023-08-14T09:52:36.584555",
     "status": "completed"
    },
    "tags": []
   },
   "outputs": [
    {
     "name": "stdout",
     "output_type": "stream",
     "text": [
      "fold_1: acc: 0.9597 loss: 0.1437\n",
      "fold_2: acc: 0.8952 loss: 0.2769\n",
      "fold_3: acc: 0.9593 loss: 0.2008\n",
      "fold_4: acc: 0.9106 loss: 0.2635\n",
      "fold_5: acc: 0.9350 loss: 0.1746\n",
      "\n",
      "Average accuracy: 0.9319  Average loss: 0.2119\n"
     ]
    }
   ],
   "source": [
    "average_loss = 0\n",
    "average_acc = 0\n",
    "\n",
    "for _model in  models:\n",
    "    average_loss += cross_entropy[_model]\n",
    "    average_acc += accuracy[_model]\n",
    "    print(f\"{_model}: acc: {accuracy[_model]:.4f} loss: {cross_entropy[_model]:.4f}\")\n",
    "\n",
    "print(f\"\\nAverage accuracy: {average_acc/5:.4f}  Average loss: {average_loss/5:.4f}\")"
   ]
  },
  {
   "cell_type": "markdown",
   "id": "edac47e4",
   "metadata": {
    "papermill": {
     "duration": 0.043949,
     "end_time": "2023-08-14T09:52:36.732124",
     "exception": false,
     "start_time": "2023-08-14T09:52:36.688175",
     "status": "completed"
    },
    "tags": []
   },
   "source": [
    "# More train model\n",
    "\n",
    "Hyparemeter tuning for GradientBoostedTrees Model"
   ]
  },
  {
   "cell_type": "markdown",
   "id": "ed07ebc0",
   "metadata": {
    "papermill": {
     "duration": 0.045053,
     "end_time": "2023-08-14T09:52:36.821297",
     "exception": false,
     "start_time": "2023-08-14T09:52:36.776244",
     "status": "completed"
    },
    "tags": []
   },
   "source": [
    "## Trying Support Vector Machine"
   ]
  },
  {
   "cell_type": "code",
   "execution_count": null,
   "id": "e1fc571b",
   "metadata": {
    "papermill": {
     "duration": 0.045162,
     "end_time": "2023-08-14T09:52:36.911516",
     "exception": false,
     "start_time": "2023-08-14T09:52:36.866354",
     "status": "completed"
    },
    "tags": []
   },
   "outputs": [],
   "source": [
    "\n"
   ]
  },
  {
   "cell_type": "code",
   "execution_count": 34,
   "id": "cb19cc48",
   "metadata": {
    "execution": {
     "iopub.execute_input": "2023-08-14T09:52:37.002354Z",
     "iopub.status.busy": "2023-08-14T09:52:37.001910Z",
     "iopub.status.idle": "2023-08-14T09:52:37.009558Z",
     "shell.execute_reply": "2023-08-14T09:52:37.007678Z"
    },
    "papermill": {
     "duration": 0.056977,
     "end_time": "2023-08-14T09:52:37.012601",
     "exception": false,
     "start_time": "2023-08-14T09:52:36.955624",
     "status": "completed"
    },
    "tags": []
   },
   "outputs": [],
   "source": [
    "# dataset_df = pd.read_csv('/kaggle/input/icr-identify-age-related-conditions/train.csv')\n",
    "# # test_ds_pd = test_df\n",
    "\n",
    "# #Get one hot program for column EJ\n",
    "# column_EJ = pd.get_dummies(dataset_df.EJ,dtype = \"float64\")\n",
    "\n",
    "# # The the length of the test data set.\n",
    "# column_length = len(column_EJ) \n",
    "\n",
    "# #drop unwant column EJ after one hot coding\n",
    "# dataset_df = dataset_df.drop(\"EJ\",axis = 1)\n",
    "# dataset_df = dataset_df.join(column_EJ)\n",
    "\n",
    "# # if the original EJ only have column A, inject a dummy B\n",
    "# if \"B\" not in column_EJ.columns :\n",
    "# #     dataset_df = dataset_df.join(column_EJ)\n",
    "#     #Creat a Dummy column for the integrity of the dataset.\n",
    "#     B_column = np.zeros(column_length).astype(float).tolist()\n",
    "#     dataset_df['B'] = B_column\n",
    "\n",
    "# # if the original EJ only have column A, inject a dummy B\n",
    "# elif \"A\" not in column_EJ.columns :\n",
    "# #     dataset_df = dataset_df.join(column_EJ)\n",
    "#     A_column = np.zeros(column_length).astype(float).tolist()\n",
    "#     dataset_df['A'] = A_column\n",
    "# dataset_df\n",
    "\n",
    "\n",
    "\n",
    "\n"
   ]
  },
  {
   "cell_type": "code",
   "execution_count": 35,
   "id": "f384c524",
   "metadata": {
    "execution": {
     "iopub.execute_input": "2023-08-14T09:52:37.110299Z",
     "iopub.status.busy": "2023-08-14T09:52:37.109892Z",
     "iopub.status.idle": "2023-08-14T09:52:37.115818Z",
     "shell.execute_reply": "2023-08-14T09:52:37.114526Z"
    },
    "papermill": {
     "duration": 0.059036,
     "end_time": "2023-08-14T09:52:37.118648",
     "exception": false,
     "start_time": "2023-08-14T09:52:37.059612",
     "status": "completed"
    },
    "tags": []
   },
   "outputs": [],
   "source": [
    "# X_t, Y_g,x_h,y_h = (train_df[Features],train_df['Class'],\n",
    "#                             valid_df[Features],valid_df['Class'])\n",
    "# X_t = np.asanyarray(X_t)\n",
    "# X_t"
   ]
  },
  {
   "cell_type": "code",
   "execution_count": 36,
   "id": "7d310d98",
   "metadata": {
    "execution": {
     "iopub.execute_input": "2023-08-14T09:52:37.214085Z",
     "iopub.status.busy": "2023-08-14T09:52:37.212589Z",
     "iopub.status.idle": "2023-08-14T09:52:37.218439Z",
     "shell.execute_reply": "2023-08-14T09:52:37.217489Z"
    },
    "papermill": {
     "duration": 0.056132,
     "end_time": "2023-08-14T09:52:37.221107",
     "exception": false,
     "start_time": "2023-08-14T09:52:37.164975",
     "status": "completed"
    },
    "tags": []
   },
   "outputs": [],
   "source": [
    "# log_reg = LogisticRegression()\n",
    "# The recommended standarScaler and SVM piline\n",
    "\n",
    "clf = make_pipeline(StandardScaler(), SVC(kernel = 'linear',gamma = 'auto'))\n"
   ]
  },
  {
   "cell_type": "code",
   "execution_count": null,
   "id": "33f189ea",
   "metadata": {
    "papermill": {
     "duration": 0.044126,
     "end_time": "2023-08-14T09:52:37.311009",
     "exception": false,
     "start_time": "2023-08-14T09:52:37.266883",
     "status": "completed"
    },
    "tags": []
   },
   "outputs": [],
   "source": []
  },
  {
   "cell_type": "code",
   "execution_count": 37,
   "id": "09721edf",
   "metadata": {
    "execution": {
     "iopub.execute_input": "2023-08-14T09:52:37.404646Z",
     "iopub.status.busy": "2023-08-14T09:52:37.404232Z",
     "iopub.status.idle": "2023-08-14T09:52:37.414050Z",
     "shell.execute_reply": "2023-08-14T09:52:37.412371Z"
    },
    "papermill": {
     "duration": 0.060292,
     "end_time": "2023-08-14T09:52:37.417009",
     "exception": false,
     "start_time": "2023-08-14T09:52:37.356717",
     "status": "completed"
    },
    "tags": []
   },
   "outputs": [],
   "source": [
    "# # Loop through each fold\n",
    "# label = \"Class\"\n",
    "# # rf = tfdf.keras.RandomForestModel()\n",
    "# # rf = tfdf.keras.RandomForestModel(hyperparameter_template=\"benchmark_rank1\",max_depth=5, num_trees=500)\n",
    "# for i, (train_index, valid_index) in enumerate(kf.split(X=dataset_df)):\n",
    "# # for i, (train_index, valid_index) in enumerate(sgk.split(X= X_g, y = Y_g, groups = Combined_Group)):\n",
    "#         print('##### Fold',i+1)\n",
    "\n",
    "#         # Fetch values corresponding to the index \n",
    "#         train_df = dataset_df.iloc[train_index]\n",
    "#         valid_df = dataset_df.iloc[valid_index]\n",
    "#         valid_ids = valid_df.index.values\n",
    "        \n",
    "#         # Select only feature columns for training.\n",
    "#         train_df = train_df[FEATURE_COLUMNS]\n",
    "#         valid_df = valid_df[FEATURE_COLUMNS]\n",
    "        \n",
    "# #         train_df.info()\n",
    "#         # There's one more step required before we can train the model. \n",
    "#         # We need to convert the datatset from Pandas format (pd.DataFrame)\n",
    "#         # into TensorFlow Datasets format (tf.data.Dataset).\n",
    "#         # TensorFlow Datasets is a high performance data loading library \n",
    "#         # which is helpful when training neural networks with accelerators like GPUs and TPUs.\n",
    "#         # Note: Some column names contains white spaces at the end of their name, \n",
    "#         # which is non-comaptible with SavedModels save format. \n",
    "#         # By default, `pd_dataframe_to_tf_dataset` function will convert \n",
    "#         # this column names into a compatible format. \n",
    "#         # So you can safely ignore the warnings related to this.\n",
    "# #         '''Convert to tensor'''\n",
    "# #         train_ds = tfdf.keras.pd_dataframe_to_tf_dataset(train_df, label=label)\n",
    "# #         valid_ds = tfdf.keras.pd_dataframe_to_tf_dataset(valid_df, label=label)\n",
    "#         X_t, Y_t,x_h,y_h = (train_df[Features],train_df['Class'],\n",
    "#                             valid_df[Features],valid_df['Class'])\n",
    "#         X_t = np.asanyarray(X_t)\n",
    "#         Y_t = np.asanyarray(Y_t)\n",
    "#         x_h = np.asanyarray(x_h)\n",
    "#         y_h = np.asanyarray(y_h)\n",
    "        \n",
    "     \n",
    "\n",
    "#         # Define the model and metrics\n",
    "\n",
    "# #         rf.compile(metrics=[\"accuracy\", \"binary_crossentropy\"]) \n",
    "# #         SVC.compile(metrics=[\"accuracy\", \"binary_crossentropy\"])\n",
    "#         # Train the model\n",
    "#         # We will train the model using a one-liner.\n",
    "#         # Note: you may see a warning about Autograph. \n",
    "#         # You can safely ignore this, it will be fixed in the next release.\n",
    "#         # Previously calculated class weights is used to handle imbalance.\n",
    "# # #        rf.fit(x=train_ds, class_weight=class_weight)\n",
    "#         clf.fit(X_t,Y_t)\n",
    "\n",
    "#         # Store the model\n",
    "# #         models[f\"fold_{i+1}\"] = rf\n",
    "        \n",
    "#         models[f\"fold_{i+1}\"] = clf\n",
    "        \n",
    "        \n",
    "#         # Predict OOF value for validation data\n",
    "# #         predict = rf.predict(x=valid_ds)\n",
    "        \n",
    "#         predict = clf.predict(X =x_h)\n",
    "# #         predict = models[\"fold_3\"].predict(X =x_h)\n",
    "        \n",
    "#         # Store the predictions in oof dataframe\n",
    "#         oof.loc[valid_ids, 0] = predict.flatten() \n",
    "        \n",
    "#         # Evaluate and store the metrics in respective dicts\n",
    "# #         evaluation = rf.evaluate(x=valid_ds,return_dict=True)\n",
    "#         score = clf.score(X=x_h,y = y_h)\n",
    "#         print('modle score:',evaluation)\n",
    "        \n",
    "#         ''' The evaluation of the SVM '''\n",
    "#         # Evaluating the accuracy of the model using the sklearn functions\n",
    "#         accuracy = accuracy_score(y_h,predict)*100\n",
    "#         confusion_mat = confusion_matrix(y_h,predict)\n",
    "#         # Printing the results\n",
    "#         print(\"Accuracy for SVM is:\",accuracy)\n",
    "#         print(\"Confusion Matrix\")\n",
    "#         print(confusion_mat)\n",
    "\n",
    "# #         accuracy[f\"fold_{i+1}\"] = evaluation[\"accuracy\"]\n",
    "# #         cross_entropy[f\"fold_{i+1}\"]= evaluation[\"binary_crossentropy\"]"
   ]
  },
  {
   "cell_type": "code",
   "execution_count": 38,
   "id": "62a46f7c",
   "metadata": {
    "execution": {
     "iopub.execute_input": "2023-08-14T09:52:37.509546Z",
     "iopub.status.busy": "2023-08-14T09:52:37.509137Z",
     "iopub.status.idle": "2023-08-14T09:52:37.514497Z",
     "shell.execute_reply": "2023-08-14T09:52:37.513191Z"
    },
    "papermill": {
     "duration": 0.053794,
     "end_time": "2023-08-14T09:52:37.516959",
     "exception": false,
     "start_time": "2023-08-14T09:52:37.463165",
     "status": "completed"
    },
    "tags": []
   },
   "outputs": [],
   "source": [
    "# figure, axis = plt.subplots(3, 2, figsize=(10, 10))\n",
    "# plt.subplots_adjust(hspace=0.5, wspace=0.3)\n",
    "\n",
    "# for i, fold_no in enumerate(models.keys()):\n",
    "#     row = i//2\n",
    "#     col = i % 2\n",
    "#     logs = models[fold_no].make_inspector().training_logs()\n",
    "#     axis[row, col].plot([log.num_trees for log in logs], [log.evaluation.loss for log in logs])\n",
    "#     axis[row, col].set_title(f\"Fold {i+1}\")\n",
    "#     axis[row, col].set_xlabel('Number of trees')\n",
    "#     axis[row, col].set_ylabel('Loss (out-of-bag)')\n",
    "\n",
    "# axis[2][1].set_visible(False)\n",
    "# plt.show()"
   ]
  },
  {
   "cell_type": "code",
   "execution_count": 39,
   "id": "85edfc88",
   "metadata": {
    "execution": {
     "iopub.execute_input": "2023-08-14T09:52:37.610541Z",
     "iopub.status.busy": "2023-08-14T09:52:37.609822Z",
     "iopub.status.idle": "2023-08-14T09:52:37.615618Z",
     "shell.execute_reply": "2023-08-14T09:52:37.614343Z"
    },
    "papermill": {
     "duration": 0.055202,
     "end_time": "2023-08-14T09:52:37.618211",
     "exception": false,
     "start_time": "2023-08-14T09:52:37.563009",
     "status": "completed"
    },
    "tags": []
   },
   "outputs": [],
   "source": [
    "# for _model in models:\n",
    "#     inspector = models[_model].make_inspector()\n",
    "#     print(_model, inspector.evaluation())\n",
    "# # for _model in models:\n",
    "# #     inspector = models[_model].make_inspector()\n",
    "# #     print(_model, inspector.evaluation())"
   ]
  },
  {
   "cell_type": "code",
   "execution_count": 40,
   "id": "6fe4d083",
   "metadata": {
    "execution": {
     "iopub.execute_input": "2023-08-14T09:52:37.712635Z",
     "iopub.status.busy": "2023-08-14T09:52:37.712194Z",
     "iopub.status.idle": "2023-08-14T09:52:37.751684Z",
     "shell.execute_reply": "2023-08-14T09:52:37.750479Z"
    },
    "papermill": {
     "duration": 0.090618,
     "end_time": "2023-08-14T09:52:37.754899",
     "exception": false,
     "start_time": "2023-08-14T09:52:37.664281",
     "status": "completed"
    },
    "tags": []
   },
   "outputs": [
    {
     "name": "stdout",
     "output_type": "stream",
     "text": [
      "<class 'pandas.core.frame.DataFrame'>\n",
      "RangeIndex: 5 entries, 0 to 4\n",
      "Data columns (total 58 columns):\n",
      " #   Column  Non-Null Count  Dtype  \n",
      "---  ------  --------------  -----  \n",
      " 0   Id      5 non-null      object \n",
      " 1   AB      5 non-null      float64\n",
      " 2   AF      5 non-null      float64\n",
      " 3   AH      5 non-null      float64\n",
      " 4   AM      5 non-null      float64\n",
      " 5   AR      5 non-null      float64\n",
      " 6   AX      5 non-null      float64\n",
      " 7   AY      5 non-null      float64\n",
      " 8   AZ      5 non-null      float64\n",
      " 9   BC      5 non-null      float64\n",
      " 10  BD      5 non-null      float64\n",
      " 11  BN      5 non-null      float64\n",
      " 12  BP      5 non-null      float64\n",
      " 13  BQ      5 non-null      float64\n",
      " 14  BR      5 non-null      float64\n",
      " 15  BZ      5 non-null      float64\n",
      " 16  CB      5 non-null      float64\n",
      " 17  CC      5 non-null      float64\n",
      " 18  CD      5 non-null      float64\n",
      " 19  CF      5 non-null      float64\n",
      " 20  CH      5 non-null      float64\n",
      " 21  CL      5 non-null      float64\n",
      " 22  CR      5 non-null      float64\n",
      " 23  CS      5 non-null      float64\n",
      " 24  CU      5 non-null      float64\n",
      " 25  CW      5 non-null      float64\n",
      " 26  DA      5 non-null      float64\n",
      " 27  DE      5 non-null      float64\n",
      " 28  DF      5 non-null      float64\n",
      " 29  DH      5 non-null      float64\n",
      " 30  DI      5 non-null      float64\n",
      " 31  DL      5 non-null      float64\n",
      " 32  DN      5 non-null      float64\n",
      " 33  DU      5 non-null      float64\n",
      " 34  DV      5 non-null      float64\n",
      " 35  DY      5 non-null      float64\n",
      " 36  EB      5 non-null      float64\n",
      " 37  EE      5 non-null      float64\n",
      " 38  EG      5 non-null      float64\n",
      " 39  EH      5 non-null      float64\n",
      " 40  EL      5 non-null      float64\n",
      " 41  EP      5 non-null      float64\n",
      " 42  EU      5 non-null      float64\n",
      " 43  FC      5 non-null      float64\n",
      " 44  FD      5 non-null      float64\n",
      " 45  FE      5 non-null      float64\n",
      " 46  FI      5 non-null      float64\n",
      " 47  FL      5 non-null      float64\n",
      " 48  FR      5 non-null      float64\n",
      " 49  FS      5 non-null      float64\n",
      " 50  GB      5 non-null      float64\n",
      " 51  GE      5 non-null      float64\n",
      " 52  GF      5 non-null      float64\n",
      " 53  GH      5 non-null      float64\n",
      " 54  GI      5 non-null      float64\n",
      " 55  GL      5 non-null      float64\n",
      " 56  A       5 non-null      float64\n",
      " 57  B       5 non-null      float64\n",
      "dtypes: float64(57), object(1)\n",
      "memory usage: 2.4+ KB\n"
     ]
    }
   ],
   "source": [
    "\n",
    "# Make the test data set match with the \n",
    "test_df = pd.read_csv('/kaggle/input/icr-identify-age-related-conditions/test.csv')\n",
    "\n",
    "# test_ds_pd = test_df\n",
    "\n",
    "#Get one hot program for column EJ\n",
    "column_EJ = pd.get_dummies(test_df.EJ,dtype = \"float64\")\n",
    "# The the length of the test data set.\n",
    "column_length = len(column_EJ) \n",
    "\n",
    "#drop unwant column EJ after one hot coding\n",
    "test_df = test_df.drop(\"EJ\",axis = 1)\n",
    "test_df = test_df.join(column_EJ)\n",
    "\n",
    "# if the original EJ only have column A, inject a dummy B\n",
    "if \"B\" not in column_EJ.columns :\n",
    "#     test_df_new = test_df_new.join(column_EJ)\n",
    "    #Creat a Dummy column for the integrity of the dataset.\n",
    "    B_column = np.zeros(column_length).astype(float).tolist()\n",
    "    test_df['B'] = B_column\n",
    "\n",
    "# if the original EJ only have column A, inject a dummy B\n",
    "elif \"A\" not in column_EJ.columns :\n",
    "#     test_df_new = test_df_new.join(column_EJ)\n",
    "    A_column = np.zeros(column_length).astype(float).tolist()\n",
    "    test_df['A'] = A_column\n",
    "\n",
    "test_df.info()\n",
    "    \n",
    "# # test_df_new = test_df_new.join(column_EJ)\n",
    "# test_df_new\n",
    "# B_column = [0.0,0.0,0.0,0.0,0.0]\n",
    "# test_df_new['B'] = B_column\n"
   ]
  },
  {
   "cell_type": "code",
   "execution_count": 41,
   "id": "2aa79ddf",
   "metadata": {
    "execution": {
     "iopub.execute_input": "2023-08-14T09:52:37.846506Z",
     "iopub.status.busy": "2023-08-14T09:52:37.846058Z",
     "iopub.status.idle": "2023-08-14T09:52:37.852190Z",
     "shell.execute_reply": "2023-08-14T09:52:37.850800Z"
    },
    "papermill": {
     "duration": 0.05495,
     "end_time": "2023-08-14T09:52:37.854807",
     "exception": false,
     "start_time": "2023-08-14T09:52:37.799857",
     "status": "completed"
    },
    "tags": []
   },
   "outputs": [],
   "source": [
    "# '''This section is used for the prediction for SVM model'''\n",
    "# # test_df = pd.read_csv('/kaggle/input/icr-identify-age-related-conditions/test.csv')\n",
    "# test_ds_pd = test_df\n",
    "# test_df_columns = test_ds_pd.columns.tolist()\n",
    "# # TEST_FEATURE_COLUMNS = [i for i in FEATURE_COLUMNS \\\n",
    "# #                         if i in test_df_columns and i != \"Class\"]\n",
    "# TEST_FEATURE_COLUMNS = [i for i in FEATURE_COLUMNS \\\n",
    "#                         if i in test_df_columns and i not in [\"Class\",\"ID\"]]\n",
    "# test_ds_pd = test_ds_pd[TEST_FEATURE_COLUMNS]\n",
    "# # test_ds = tfdf.keras.pd_dataframe_to_tf_dataset(test_ds_pd) #for keras model\n",
    "# test_ds_pd = np.asanyarray(test_ds_pd) # for SVM only\n",
    "# predictions = models['fold_3'].predict(test_ds_pd)\n",
    "# np.asanyarray(X_t)\n",
    "# n_predictions= [[round(abs(i-1), 8), i] for i in predictions.ravel()]\n",
    "# print(n_predictions)"
   ]
  },
  {
   "cell_type": "markdown",
   "id": "6b7260cb",
   "metadata": {
    "papermill": {
     "duration": 0.044534,
     "end_time": "2023-08-14T09:52:37.944557",
     "exception": false,
     "start_time": "2023-08-14T09:52:37.900023",
     "status": "completed"
    },
    "tags": []
   },
   "source": [
    "# Submission"
   ]
  },
  {
   "cell_type": "code",
   "execution_count": 42,
   "id": "b4906db5",
   "metadata": {
    "execution": {
     "iopub.execute_input": "2023-08-14T09:52:38.038411Z",
     "iopub.status.busy": "2023-08-14T09:52:38.037997Z",
     "iopub.status.idle": "2023-08-14T09:52:38.285753Z",
     "shell.execute_reply": "2023-08-14T09:52:38.284413Z"
    },
    "papermill": {
     "duration": 0.29715,
     "end_time": "2023-08-14T09:52:38.288137",
     "exception": false,
     "start_time": "2023-08-14T09:52:37.990987",
     "status": "completed"
    },
    "tags": []
   },
   "outputs": [
    {
     "name": "stdout",
     "output_type": "stream",
     "text": [
      "Warning: Some of the feature names have been changed automatically to be compatible with SavedModels because fix_feature_names=True.\n",
      "1/1 [==============================] - 0s 156ms/step\n",
      "[[0.84769093, 0.15230907], [0.84769093, 0.15230907], [0.84769093, 0.15230907], [0.84769093, 0.15230907], [0.84769093, 0.15230907]]\n"
     ]
    }
   ],
   "source": [
    "'''This section is used for the prediction for keras model'''\n",
    "# test_df = pd.read_csv('/kaggle/input/icr-identify-age-related-conditions/test.csv')\n",
    "test_ds_pd = test_df\n",
    "test_df_columns = test_ds_pd.columns.tolist()\n",
    "TEST_FEATURE_COLUMNS = [i for i in FEATURE_COLUMNS \\\n",
    "                        if i in test_df_columns and i != \"Class\"]\n",
    "test_ds_pd = test_ds_pd[TEST_FEATURE_COLUMNS]\n",
    "test_ds = tfdf.keras.pd_dataframe_to_tf_dataset(test_ds_pd)\n",
    "predictions = models['fold_5'].predict(test_ds)\n",
    "n_predictions= [[round(abs(i-1), 8), i] for i in predictions.ravel()]\n",
    "print(n_predictions)"
   ]
  },
  {
   "cell_type": "code",
   "execution_count": 43,
   "id": "95c7ae03",
   "metadata": {
    "execution": {
     "iopub.execute_input": "2023-08-14T09:52:38.382414Z",
     "iopub.status.busy": "2023-08-14T09:52:38.381474Z",
     "iopub.status.idle": "2023-08-14T09:52:38.402292Z",
     "shell.execute_reply": "2023-08-14T09:52:38.400848Z"
    },
    "papermill": {
     "duration": 0.071276,
     "end_time": "2023-08-14T09:52:38.405084",
     "exception": false,
     "start_time": "2023-08-14T09:52:38.333808",
     "status": "completed"
    },
    "tags": []
   },
   "outputs": [],
   "source": [
    "sample_submission = pd.read_csv(\"/kaggle/input/icr-identify-age-related-conditions/sample_submission.csv\")\n",
    "sample_submission[['class_0', 'class_1']] = n_predictions\n",
    "sample_submission.to_csv('/kaggle/working/submission.csv', index=False)"
   ]
  },
  {
   "cell_type": "code",
   "execution_count": 44,
   "id": "c30b0c0a",
   "metadata": {
    "execution": {
     "iopub.execute_input": "2023-08-14T09:52:38.502586Z",
     "iopub.status.busy": "2023-08-14T09:52:38.501812Z",
     "iopub.status.idle": "2023-08-14T09:52:38.515658Z",
     "shell.execute_reply": "2023-08-14T09:52:38.514653Z"
    },
    "papermill": {
     "duration": 0.065136,
     "end_time": "2023-08-14T09:52:38.518179",
     "exception": false,
     "start_time": "2023-08-14T09:52:38.453043",
     "status": "completed"
    },
    "tags": []
   },
   "outputs": [
    {
     "data": {
      "text/html": [
       "<div>\n",
       "<style scoped>\n",
       "    .dataframe tbody tr th:only-of-type {\n",
       "        vertical-align: middle;\n",
       "    }\n",
       "\n",
       "    .dataframe tbody tr th {\n",
       "        vertical-align: top;\n",
       "    }\n",
       "\n",
       "    .dataframe thead th {\n",
       "        text-align: right;\n",
       "    }\n",
       "</style>\n",
       "<table border=\"1\" class=\"dataframe\">\n",
       "  <thead>\n",
       "    <tr style=\"text-align: right;\">\n",
       "      <th></th>\n",
       "      <th>Id</th>\n",
       "      <th>class_0</th>\n",
       "      <th>class_1</th>\n",
       "    </tr>\n",
       "  </thead>\n",
       "  <tbody>\n",
       "    <tr>\n",
       "      <th>0</th>\n",
       "      <td>00eed32682bb</td>\n",
       "      <td>0.847691</td>\n",
       "      <td>0.152309</td>\n",
       "    </tr>\n",
       "    <tr>\n",
       "      <th>1</th>\n",
       "      <td>010ebe33f668</td>\n",
       "      <td>0.847691</td>\n",
       "      <td>0.152309</td>\n",
       "    </tr>\n",
       "    <tr>\n",
       "      <th>2</th>\n",
       "      <td>02fa521e1838</td>\n",
       "      <td>0.847691</td>\n",
       "      <td>0.152309</td>\n",
       "    </tr>\n",
       "    <tr>\n",
       "      <th>3</th>\n",
       "      <td>040e15f562a2</td>\n",
       "      <td>0.847691</td>\n",
       "      <td>0.152309</td>\n",
       "    </tr>\n",
       "    <tr>\n",
       "      <th>4</th>\n",
       "      <td>046e85c7cc7f</td>\n",
       "      <td>0.847691</td>\n",
       "      <td>0.152309</td>\n",
       "    </tr>\n",
       "  </tbody>\n",
       "</table>\n",
       "</div>"
      ],
      "text/plain": [
       "             Id   class_0   class_1\n",
       "0  00eed32682bb  0.847691  0.152309\n",
       "1  010ebe33f668  0.847691  0.152309\n",
       "2  02fa521e1838  0.847691  0.152309\n",
       "3  040e15f562a2  0.847691  0.152309\n",
       "4  046e85c7cc7f  0.847691  0.152309"
      ]
     },
     "execution_count": 44,
     "metadata": {},
     "output_type": "execute_result"
    }
   ],
   "source": [
    "pd.read_csv('/kaggle/working/submission.csv')"
   ]
  },
  {
   "cell_type": "code",
   "execution_count": 45,
   "id": "7dc0d551",
   "metadata": {
    "execution": {
     "iopub.execute_input": "2023-08-14T09:52:38.614508Z",
     "iopub.status.busy": "2023-08-14T09:52:38.613821Z",
     "iopub.status.idle": "2023-08-14T09:52:38.618990Z",
     "shell.execute_reply": "2023-08-14T09:52:38.617416Z"
    },
    "papermill": {
     "duration": 0.055637,
     "end_time": "2023-08-14T09:52:38.621661",
     "exception": false,
     "start_time": "2023-08-14T09:52:38.566024",
     "status": "completed"
    },
    "tags": []
   },
   "outputs": [],
   "source": [
    "# from sklearn.datasets import load_iris\n",
    "# from sklearn.tree import DecisionTreeClassifier\n",
    "# from sklearn.tree import export_graphviz\n",
    "# from graphviz import Source"
   ]
  },
  {
   "cell_type": "code",
   "execution_count": 46,
   "id": "9956ad29",
   "metadata": {
    "execution": {
     "iopub.execute_input": "2023-08-14T09:52:38.718232Z",
     "iopub.status.busy": "2023-08-14T09:52:38.717794Z",
     "iopub.status.idle": "2023-08-14T09:52:38.723246Z",
     "shell.execute_reply": "2023-08-14T09:52:38.721932Z"
    },
    "papermill": {
     "duration": 0.058917,
     "end_time": "2023-08-14T09:52:38.725962",
     "exception": false,
     "start_time": "2023-08-14T09:52:38.667045",
     "status": "completed"
    },
    "tags": []
   },
   "outputs": [],
   "source": [
    "# tree_clf = DecisionTreeClassifier(criterion='entropy',\n",
    "#                                   max_depth=2)"
   ]
  },
  {
   "cell_type": "code",
   "execution_count": 47,
   "id": "68a8a919",
   "metadata": {
    "execution": {
     "iopub.execute_input": "2023-08-14T09:52:38.818806Z",
     "iopub.status.busy": "2023-08-14T09:52:38.818366Z",
     "iopub.status.idle": "2023-08-14T09:52:38.827887Z",
     "shell.execute_reply": "2023-08-14T09:52:38.826431Z"
    },
    "papermill": {
     "duration": 0.059358,
     "end_time": "2023-08-14T09:52:38.830385",
     "exception": false,
     "start_time": "2023-08-14T09:52:38.771027",
     "status": "completed"
    },
    "tags": []
   },
   "outputs": [],
   "source": [
    "# # Loop through each fold\n",
    "# label = \"Class\"\n",
    "# # rf = tfdf.keras.RandomForestModel()\n",
    "# # rf = tfdf.keras.RandomForestModel(hyperparameter_template=\"benchmark_rank1\",max_depth=5, num_trees=500)\n",
    "# for i, (train_index, valid_index) in enumerate(kf.split(X=dataset_df)):\n",
    "# # for i, (train_index, valid_index) in enumerate(sgk.split(X= X_g, y = Y_g, groups = Combined_Group)):\n",
    "#         print('##### Fold',i+1)\n",
    "\n",
    "#         # Fetch values corresponding to the index \n",
    "#         train_df = dataset_df.iloc[train_index]\n",
    "#         valid_df = dataset_df.iloc[valid_index]\n",
    "#         valid_ids = valid_df.index.values\n",
    "        \n",
    "#         # Select only feature columns for training.\n",
    "#         train_df = train_df[FEATURE_COLUMNS]\n",
    "#         valid_df = valid_df[FEATURE_COLUMNS]\n",
    "        \n",
    "# #         train_df.info()\n",
    "#         # There's one more step required before we can train the model. \n",
    "#         # We need to convert the datatset from Pandas format (pd.DataFrame)\n",
    "#         # into TensorFlow Datasets format (tf.data.Dataset).\n",
    "#         # TensorFlow Datasets is a high performance data loading library \n",
    "#         # which is helpful when training neural networks with accelerators like GPUs and TPUs.\n",
    "#         # Note: Some column names contains white spaces at the end of their name, \n",
    "#         # which is non-comaptible with SavedModels save format. \n",
    "#         # By default, `pd_dataframe_to_tf_dataset` function will convert \n",
    "#         # this column names into a compatible format. \n",
    "#         # So you can safely ignore the warnings related to this.\n",
    "# #         '''Convert to tensor'''\n",
    "# #         train_ds = tfdf.keras.pd_dataframe_to_tf_dataset(train_df, label=label)\n",
    "# #         valid_ds = tfdf.keras.pd_dataframe_to_tf_dataset(valid_df, label=label)\n",
    "#         X_t, Y_t,x_h,y_h = (train_df[Features],train_df['Class'],\n",
    "#                             valid_df[Features],valid_df['Class'])\n",
    "#         X_t = np.asanyarray(X_t)\n",
    "#         Y_t = np.asanyarray(Y_t)\n",
    "#         x_h = np.asanyarray(x_h)\n",
    "#         y_h = np.asanyarray(y_h)\n",
    "        \n",
    "     \n",
    "\n",
    "#         # Define the model and metrics\n",
    "\n",
    "# #         rf.compile(metrics=[\"accuracy\", \"binary_crossentropy\"]) \n",
    "# #         SVC.compile(metrics=[\"accuracy\", \"binary_crossentropy\"])\n",
    "#         # Train the model\n",
    "#         # We will train the model using a one-liner.\n",
    "#         # Note: you may see a warning about Autograph. \n",
    "#         # You can safely ignore this, it will be fixed in the next release.\n",
    "#         # Previously calculated class weights is used to handle imbalance.\n",
    "# # #        rf.fit(x=train_ds, class_weight=class_weight)\n",
    "#         if(i == 0):\n",
    "#             tree_clf.fit(X_t,Y_t)\n",
    "#             models[f\"fold_{i+1}\"] = tree_clf\n",
    "#         elif(i > 0 ):\n",
    "#             models[f\"fold_{i}\"].fit(X_t,Y_t)\n",
    "#             models[f\"fold_{i+1}\"] = models[f\"fold_{i}\"]\n",
    "\n",
    "#         # Store the model\n",
    "# #         models[f\"fold_{i+1}\"] = rf\n",
    "        \n",
    "#         models[f\"fold_{i+1}\"] = tree_clf\n",
    "        \n",
    "        \n",
    "#         # Predict OOF value for validation data\n",
    "# #         predict = rf.predict(x=valid_ds)\n",
    "        \n",
    "#         predict = tree_clf.predict(X =x_h)\n",
    "# #         predict = models[\"fold_3\"].predict(X =x_h)\n",
    "        \n",
    "#         # Store the predictions in oof dataframe\n",
    "#         oof.loc[valid_ids, 0] = predict.flatten() \n",
    "        \n",
    "#         # Evaluate and store the metrics in respective dicts\n",
    "# #         evaluation = rf.evaluate(x=valid_ds,return_dict=True)\n",
    "# #         score = clf.score(X=x_h,y = y_h)\n",
    "#         print('modle score:',evaluation)\n",
    "        \n",
    "#         ''' The evaluation of the SVM '''\n",
    "#         # Evaluating the accuracy of the model using the sklearn functions\n",
    "#         accuracy = accuracy_score(y_h,predict)*100\n",
    "#         confusion_mat = confusion_matrix(y_h,predict)\n",
    "#         # Printing the results\n",
    "#         print(\"Accuracy for decision tree is:\",accuracy)\n",
    "#         print(\"Confusion Matrix\")\n",
    "#         print(confusion_mat)\n",
    "\n",
    "# #         accuracy[f\"fold_{i+1}\"] = evaluation[\"accuracy\"]\n",
    "# #         cross_entropy[f\"fold_{i+1}\"]= evaluation[\"binary_crossentropy\"]"
   ]
  },
  {
   "cell_type": "code",
   "execution_count": null,
   "id": "d5339886",
   "metadata": {
    "papermill": {
     "duration": 0.046447,
     "end_time": "2023-08-14T09:52:38.927149",
     "exception": false,
     "start_time": "2023-08-14T09:52:38.880702",
     "status": "completed"
    },
    "tags": []
   },
   "outputs": [],
   "source": []
  },
  {
   "cell_type": "code",
   "execution_count": null,
   "id": "6da57aec",
   "metadata": {
    "papermill": {
     "duration": 0.044965,
     "end_time": "2023-08-14T09:52:39.017276",
     "exception": false,
     "start_time": "2023-08-14T09:52:38.972311",
     "status": "completed"
    },
    "tags": []
   },
   "outputs": [],
   "source": []
  }
 ],
 "metadata": {
  "kernelspec": {
   "display_name": "Python 3",
   "language": "python",
   "name": "python3"
  },
  "language_info": {
   "codemirror_mode": {
    "name": "ipython",
    "version": 3
   },
   "file_extension": ".py",
   "mimetype": "text/x-python",
   "name": "python",
   "nbconvert_exporter": "python",
   "pygments_lexer": "ipython3",
   "version": "3.10.10"
  },
  "papermill": {
   "default_parameters": {},
   "duration": 1116.18002,
   "end_time": "2023-08-14T09:52:42.363085",
   "environment_variables": {},
   "exception": null,
   "input_path": "__notebook__.ipynb",
   "output_path": "__notebook__.ipynb",
   "parameters": {},
   "start_time": "2023-08-14T09:34:06.183065",
   "version": "2.4.0"
  }
 },
 "nbformat": 4,
 "nbformat_minor": 5
}
